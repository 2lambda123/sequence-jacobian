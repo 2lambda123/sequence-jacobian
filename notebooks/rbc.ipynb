{
 "cells": [
  {
   "cell_type": "markdown",
   "metadata": {},
   "source": [
    "# A simple RBC model in sequence space\n",
    "\n",
    "In this notebook we showcase the general workflow of setting up and solving dynamic general equilibrium models in sequence space. The process is the exactly the same for heterogeneous-agent models, once the heterogeneous agent (HA) \"blocks\" are specified.\n",
    "\n",
    "The notebook accompanies the working paper by Auclert, Bardóczy, Rognlie, Straub (2019): \"Using the Sequence-Space Jacobian to Solve and Estimate Heterogeneous-Agent Models\". Please see the [Github repository](https://github.com/shade-econ/sequence-jacobian) for more information and code.\n",
    "\n",
    "## Model description\n",
    "\n",
    "Let's take a standard RBC model with the following equilibrium conditions.\n",
    "\n",
    "$$\n",
    "\\textbf{H}_t(\\textbf{U}, Z) \\equiv \n",
    "\\begin{pmatrix}\n",
    "C_t^{-\\sigma} - \\beta (1 + r_{t+1}) C_{t+1}^{-\\sigma}\n",
    "\\\\\n",
    "w_t - \\varphi L_t^{\\nu} C_t^{\\sigma}\n",
    "\\\\\n",
    "K_t - (1 - \\delta) K_{t-1} - I_t\n",
    "\\\\\n",
    "r_t + \\delta -\\alpha Z_t \\left(\\frac{K_{t-1}}{L_t} \\right)^{\\alpha-1}\n",
    "\\\\\n",
    "w_t - (1-\\alpha) Z_t \\left(\\frac{K_{t-1}}{L_t} \\right)^{\\alpha}\n",
    "\\\\\n",
    "Y_t - Z_t K_{t-1}^\\alpha L_t^{1-\\alpha}\n",
    "\\\\\n",
    "Y_t - C_t - I_t\n",
    "\\end{pmatrix}\n",
    "= \\begin{pmatrix} 0 \\\\ 0 \\\\ 0 \\\\ 0 \\\\ 0 \\\\ 0 \\\\ 0\\end{pmatrix},\n",
    "\\qquad t = 0, 1, \\dots \n",
    "\\tag{1}\n",
    "$$\n",
    "\n",
    "As usual, labor market clearing is imposed implicitly and asset market clearing is omitted by Walras's law."
   ]
  },
  {
   "cell_type": "markdown",
   "metadata": {},
   "source": [
    "## 0 Import packages\n",
    "The first two are standard python packages, the rest contain code we wrote for this project."
   ]
  },
  {
   "cell_type": "code",
   "execution_count": 1,
   "metadata": {},
   "outputs": [],
   "source": [
    "# Add the relative path to the top-level of the \"sequence-jacobian\" folder\n",
    "# to be able to access the sequence_jacobian module\n",
    "import sys\n",
    "sys.path.append(\"..\")\n",
    "\n",
    "import numpy as np\n",
    "import matplotlib.pyplot as plt\n",
    "\n",
    "import sequence_jacobian as sj\n",
    "from sequence_jacobian import simple, helper"
   ]
  },
  {
   "cell_type": "markdown",
   "metadata": {},
   "source": [
    "## 1 Model blocks and the Directed Acyclic Graph (DAG)\n",
    "\n",
    "The first step of solving the model is to come up with a Directed Acyclic Graph (DAG) representation for it and specify its building blocks.\n",
    "\n",
    "These blocks are collections of the model's equilibrium conditions, typically written in terms of the conceptual components of the model --- firm, household, market clearing conditions --- where each block takes a set of parameters and variables as inputs and produces another set as outputs.\n",
    "\n",
    "The DAG serves as the organizing framework for these blocks, which reduce the total set of variables and equations from those in the equilibrium conditions to the minimum number of target equations and associated unknown variables/parameters needed to represent the same system. The rest of the variables/equations in the system can then be written as explicit functions of these unknowns and collected into blocks."
   ]
  },
  {
   "cell_type": "markdown",
   "metadata": {},
   "source": [
    "### Constructing a valid DAG\n",
    "Valid unknowns for a DAG are any variables/parameters that are inputs to a subset of the blocks but are not outputs. \n",
    "\n",
    "Likewise, valid targets are variables (or implicit equations) that are outputs of a subset of the blocks but not inputs. \n",
    "\n",
    "The only other requirement is that each unknown must map to at least one target and each target likewise must be mapped to by at minimum one unknown."
   ]
  },
  {
   "cell_type": "markdown",
   "metadata": {},
   "source": [
    "### The RBC DAG\n",
    "The 7 equations of the RBC model can be organized as three simple blocks to form a DAG in two unknowns $\\{K, L\\}$ and two targets, the euler equation and goods market clearing:\n",
    "\n",
    "![Directed Acyclic Graph for RBC model](../figures/rbc_dag.png) "
   ]
  },
  {
   "cell_type": "markdown",
   "metadata": {},
   "source": [
    "**Note**: In the above DAG, we omit the various other variables/parameters that are pre-specified so the figure does not become too cluttered. However, one could visualize other variables such as the capital depreciation rate, $\\delta = 0.025$ in our standard calibration, as being defined outside of the DAG --- they could be potential unknowns but in this configuration we simply fix their values."
   ]
  },
  {
   "cell_type": "markdown",
   "metadata": {},
   "source": [
    "### Simple blocks\n",
    "\n",
    "In our code, simple blocks are specified as regular Python functions  endowed with the decorator ``@simple``. In the body of the function, we directly implement the corresponding equilibrium conditions as described above. The decorator turns the function into an instance of ``SimpleBlock``, a class that, among other things, knows how to handle time displacements such as `K(-1)` to denote 1-period lags and `r(+1)` to denote 1-period leads. In general, one can write (-s) and (+s) to denote s-period lags and leads. "
   ]
  },
  {
   "cell_type": "code",
   "execution_count": 2,
   "metadata": {},
   "outputs": [],
   "source": [
    "@simple\n",
    "def firm(K, L, Z, alpha, delta):\n",
    "    r = alpha * Z * (K(-1) / L) ** (alpha-1) - delta\n",
    "    w = (1 - alpha) * Z * (K(-1) / L) ** alpha\n",
    "    Y = Z * K(-1) ** alpha * L ** (1 - alpha)\n",
    "    return r, w, Y\n",
    "\n",
    "@simple\n",
    "def household(K, L, w, eis, frisch, vphi, delta):\n",
    "    C = (w / vphi / L ** (1 / frisch)) ** eis\n",
    "    I = K - (1 - delta) * K(-1)\n",
    "    return C, I\n",
    "\n",
    "@simple\n",
    "def mkt_clearing(r, C, Y, I, K, L, w, eis, beta):\n",
    "    goods_mkt = Y - C - I\n",
    "    euler = C ** (-1 / eis) - beta * (1 + r(+1)) * C(+1) ** (-1 / eis)\n",
    "    walras = C + K - (1 + r) * K(-1) - w * L  # we can the check dynamic version too\n",
    "    return goods_mkt, euler, walras"
   ]
  },
  {
   "cell_type": "markdown",
   "metadata": {},
   "source": [
    "**Note**: We imported the decorator from the module `simple_model.py`. If you're interested in the inner workings of the SimpleBlock class, check it out."
   ]
  },
  {
   "cell_type": "markdown",
   "metadata": {},
   "source": [
    "## 2 Steady state\n",
    "\n",
    "The next step of solving a model is to compute its steady state. The sequence-jacobian toolkit provides functionality for computing a model's steady state from its DAG representation, but if the user already has a pre-computed steady state they can supply this in the format of a dict(ionary) mapping parameters and variable names to their values.\n",
    "\n",
    "We will demonstrate two different ways to compute the steady state to illustrate the range of approaches that the sequence-jacobian toolkit provides to solve this portion of the model."
   ]
  },
  {
   "cell_type": "markdown",
   "metadata": {},
   "source": [
    "### 2.1 Steady state with a standard DAG\n",
    "\n",
    "In the first case, we will use almost exactly the same arrangement of the DAG, with two unknowns and two targets to compute the steady state, providing an initial set of fixed variables/parameters.\n",
    "\n",
    "The one difference is that we will use $\\varphi$ (`vphi`) as an unknown instead of $L$ because we want to calibrate the steady state aggregate labor supply $L=1$. Verifying that it is a valid unknown, observe that $\\varphi$ influences the $euler$ target indirectly through $L$ mapping into $r$ and the $goods\\_mkt$ target indirectly through $L$ mapping into $C$.\n",
    "\n",
    "Because the `steady_state` function uses a root-finding algorithm, specified in the keyword argument `solver`, one must either provide a set of initial values as given below with $\\varphi : 0.9$ and $K : 2.$, or a set of bounds (depending on the solver's requirements), provided as a tuple of numerical values, as in $\\varphi : (0.5, 0.99)$.\n",
    "\n",
    "Targets can also be specified with non-zero values, e.g. if we wanted to target steady state output to be equal to 2, $Y = 2$, we could write it as a key-value pair in the `target` dict(ionary) as $Y : 2$."
   ]
  },
  {
   "cell_type": "code",
   "execution_count": 3,
   "metadata": {},
   "outputs": [],
   "source": [
    "# Solving for the steady state as a standard DAG\n",
    "calibration = {\"L\": 1., \"Z\": 1., \"r\": 0.01, \"eis\": 1., \"frisch\": 1., \"delta\": 0.025, \"alpha\": 0.11, \"beta\": 1/(1 + 0.01)}\n",
    "blocks = [household, firm, mkt_clearing]\n",
    "unknowns_ss = {\"vphi\": 0.9, \"K\": 2.}\n",
    "targets_ss = {\"euler\": 0., \"goods_mkt\": 0.}\n",
    "ss = sj.steady_state(blocks, calibration, unknowns_ss, targets_ss, solver=\"broyden_custom\")"
   ]
  },
  {
   "cell_type": "markdown",
   "metadata": {},
   "source": [
    "We can inspect the values contained in the returned dict(ionary) below to confirm that indeed the targets equations have been satisfied with $goods\\_mkt \\approx 0$ and $euler \\approx 0$ and further we have verified that Walras law is also satisfied, by including the resource constraint as an additional variable in the DAG.\n",
    "\n",
    "However, setting up the DAG with the equations in this particular form does not yield a straightforward way of normalizing $Y = 1$ in steady state. We will explain an alternative method to solve for the steady state next that allows us to perform more general steady state calibrations, without completely disassembling the DAG we've constructed."
   ]
  },
  {
   "cell_type": "code",
   "execution_count": 4,
   "metadata": {},
   "outputs": [
    {
     "data": {
      "text/plain": [
       "{'L': 1.0,\n",
       " 'Z': 1.0,\n",
       " 'r': 0.010000000006606863,\n",
       " 'eis': 1.0,\n",
       " 'frisch': 1.0,\n",
       " 'delta': 0.025,\n",
       " 'alpha': 0.11,\n",
       " 'beta': 0.9900990099009901,\n",
       " 'vphi': 0.965891472871577,\n",
       " 'K': 3.6206932399091794,\n",
       " 'w': 1.0253144949496455,\n",
       " 'Y': 1.1520387583703882,\n",
       " 'C': 1.0615214273518796,\n",
       " 'I': 0.0905173309977294,\n",
       " 'walras': -2.077937821809428e-11,\n",
       " 'goods_mkt': 2.0779156173489355e-11,\n",
       " 'euler': -6.162292898181931e-12}"
      ]
     },
     "execution_count": 4,
     "metadata": {},
     "output_type": "execute_result"
    }
   ],
   "source": [
    "ss"
   ]
  },
  {
   "cell_type": "markdown",
   "metadata": {},
   "source": [
    "### 2.2 Steady state with an analytical solution-augmented DAG\n",
    "\n",
    "In this next case, we will make use of a new kind of block called a `HelperBlock`, whose purpose is to provide a more flexible way of using the sequence-jacobian toolkit to calibrate a model's steady state. \n",
    "\n",
    "A `HelperBlock` works identically to the `SimpleBlock`s that we constructed above using the decorator `@simple` for the end-user, but using the decorator `@helper` instead. Under the hood the sequence-jacobian toolkit handles them differently when the blocks are sorted/used outside of the steady state, like in the computation of the general equilibrium Jacobian which we will get to later. \n",
    "\n",
    "Recall in the first case, we wanted to set up the DAG to normalize $Y = 1$. In the case of the RBC model, given our choice of fixed $r = 0.01$, normalizing to $Y = 1$ yields a complete analytical characterization of the steady state. In steps: we choose the discount rate $\\beta$ to hit a given real interest rate $r$, the disutility of labor $\\varphi$ to hit labor $L=1$, and normalize TFP $Z$ to get output $Y=1$."
   ]
  },
  {
   "cell_type": "code",
   "execution_count": 5,
   "metadata": {},
   "outputs": [],
   "source": [
    "@helper\n",
    "def steady_state_solution(r, eis, delta, alpha):\n",
    "    rk = r + delta\n",
    "    Z = (rk / alpha) ** alpha  # normalize so that Y=1\n",
    "    K = (alpha * Z / rk) ** (1 / (1 - alpha))\n",
    "    Y = Z * K ** alpha\n",
    "    w = (1 - alpha) * Z * K ** alpha\n",
    "    I = delta * K\n",
    "    C = Y - I\n",
    "    beta = 1 / (1 + r)\n",
    "    vphi = w * C ** (-1 / eis)\n",
    "\n",
    "    return Z, K, Y, w, I, C, beta, vphi"
   ]
  },
  {
   "cell_type": "markdown",
   "metadata": {},
   "source": [
    "Re-running the steady state code including this additional `HelperBlock` yields a steady state with $Y = 1$.\n",
    "\n",
    "**Note 1**: Because the solution is entirely analytical it is not necessary to include any `unknown`s. Also, we can specify `solver=\"solved\"` to avoid using a root-finding algorithm. However, given the present structure of the code, we still require that you provide some target values to verify that the steady state given by the analytical solution indeed produces one that satisfies some set of target equations, like the euler equation, goods market clearing, or Walras' Law, as a gut-check to ensure we don't proceed forward with something we don't want!\n",
    "\n",
    "**Note 2**: If all of your targets are implicit functions, i.e. you want to target their values equal to 0, you can use a list of their names instead of a dict(ionary)."
   ]
  },
  {
   "cell_type": "code",
   "execution_count": 6,
   "metadata": {},
   "outputs": [],
   "source": [
    "calibration = {\"L\": 1., \"r\": 0.01, \"eis\": 1., \"frisch\": 1., \"delta\": 0.025, \"alpha\": 0.11}\n",
    "blocks = [household, firm, mkt_clearing, steady_state_solution]\n",
    "unknowns_ss = {}\n",
    "targets_ss = [\"euler\", \"goods_mkt\"]\n",
    "ss = sj.steady_state(blocks, calibration, unknowns_ss, targets_ss, solver=\"solved\")"
   ]
  },
  {
   "cell_type": "code",
   "execution_count": 7,
   "metadata": {},
   "outputs": [
    {
     "data": {
      "text/plain": [
       "{'L': 1.0,\n",
       " 'r': 0.009999999999999995,\n",
       " 'eis': 1.0,\n",
       " 'frisch': 1.0,\n",
       " 'delta': 0.025,\n",
       " 'alpha': 0.11,\n",
       " 'Z': 0.8816460975214567,\n",
       " 'K': 3.1428571428571432,\n",
       " 'Y': 1.0,\n",
       " 'w': 0.8900000000000001,\n",
       " 'I': 0.07857142857142874,\n",
       " 'C': 0.9214285714285713,\n",
       " 'beta': 0.9900990099009901,\n",
       " 'vphi': 0.9658914728682173,\n",
       " 'walras': 0.0,\n",
       " 'goods_mkt': 0.0,\n",
       " 'euler': 0.0}"
      ]
     },
     "execution_count": 7,
     "metadata": {},
     "output_type": "execute_result"
    }
   ],
   "source": [
    "ss"
   ]
  },
  {
   "cell_type": "markdown",
   "metadata": {},
   "source": [
    "### Steady state in the general case\n",
    "\n",
    "In practice, your own steady state workflow will likely be somewhere in between the two cases previously described. To compute the steady state it may be easy to analytically solve some portions of the model, but other portions may only be numerically computable, specified as a set of unknowns and targets within a DAG.\n",
    "\n",
    "Thankfully, any combination of the above two methods is permissible in the sequence-jacobian toolkit. You need only provide the analytical solution component specific to the steady state as a `HelperBlock` in the standard list of blocks, specify your unknowns and targets, and call `steady_state`! You don't even need to swap out the `HelperBlock` from the list of blocks when computing general equilibrium Jacobians or computing non-linear transition dynamics, as we will see next."
   ]
  },
  {
   "cell_type": "markdown",
   "metadata": {},
   "source": [
    "## 3 Linearized solution\n",
    "\n",
    "The linearized impulse responses of the model are fully characterized by the general equilibrium Jacobians $G$. These matrices map *any* sequence of shocks into an impulse response, e.g. $dC = G^{C,Z} dZ.$ Once we have them, we're pretty much done!\n",
    "\n",
    "We can get all of these in a single call to the function `jacobian.get_G`. This function takes in the model blocks (in arbitrary order), the names of exogenous shocks, the names of unknown endogenous variables, the names of target equations, the truncation horizon, and the steady state dict."
   ]
  },
  {
   "cell_type": "code",
   "execution_count": 11,
   "metadata": {},
   "outputs": [],
   "source": [
    "G = sj.get_G(block_list=blocks,\n",
    "             exogenous=['Z'],\n",
    "             unknowns=['K', 'L'],\n",
    "             targets=['euler', 'goods_mkt'],\n",
    "             T=300, ss=ss)"
   ]
  },
  {
   "cell_type": "markdown",
   "metadata": {},
   "source": [
    "To see the $G$ matrices in action, let's construct two sequences of TFP shocks. First, a usual autoregressive shock that hits in period 0 (when the economy is assumed to be in steady state). Second, a news shock that, as agents learn in period 0, will hit TFP in period 10 and then decay at a constant rate. Note that such a news shock would be very costly to formulate recursively.\n",
    "\n",
    "We store the two sequences as columns of a matrix $dZ.$ Let the shock on impact be 1% of steady state productivity, and the  quarterly autocorrelation be 0.8. "
   ]
  },
  {
   "cell_type": "code",
   "execution_count": 12,
   "metadata": {},
   "outputs": [
    {
     "data": {
      "image/png": "[encoded data removed]",
      "text/plain": [
       "<Figure size 432x288 with 1 Axes>"
      ]
     },
     "metadata": {
      "needs_background": "light"
     },
     "output_type": "display_data"
    }
   ],
   "source": [
    "T, impact, rho, news = 300, 0.01, 0.8, 10\n",
    "dZ = np.empty((T, 2))\n",
    "dZ[:, 0] = impact * ss['Z'] * rho**np.arange(T)\n",
    "dZ[:, 1] = np.concatenate((np.zeros(news), dZ[:-news, 0])) \n",
    "\n",
    "plt.plot(100*dZ[:50, 0]/ss['Z'], label='regular shock', linewidth=2.5)\n",
    "plt.plot(100*dZ[:50, 1]/ss['Z'], label='news shock', linewidth=2.5)\n",
    "plt.title(r'Two TFP shocks')\n",
    "plt.ylabel(r'% deviation from ss')\n",
    "plt.xlabel(r'quarters')\n",
    "plt.legend()\n",
    "plt.show()"
   ]
  },
  {
   "cell_type": "markdown",
   "metadata": {},
   "source": [
    "Just apply the $G$ matrix to map these into impulses responses for, say, consumption. We multiply by 100 and divide by $C_{ss}$ just to get the answer in units of % deviations from steady state."
   ]
  },
  {
   "cell_type": "code",
   "execution_count": 7,
   "metadata": {},
   "outputs": [],
   "source": [
    "dC = 100 * G['C']['Z'] @ dZ / ss['C']"
   ]
  },
  {
   "cell_type": "markdown",
   "metadata": {},
   "source": [
    "Now plot the result."
   ]
  },
  {
   "cell_type": "code",
   "execution_count": 8,
   "metadata": {},
   "outputs": [
    {
     "data": {
      "image/png": "[encoded data removed]",
      "text/plain": [
       "<Figure size 432x288 with 1 Axes>"
      ]
     },
     "metadata": {
      "needs_background": "light"
     },
     "output_type": "display_data"
    }
   ],
   "source": [
    "plt.plot(dC[:50, 0], label='regular shock', linewidth=2.5)\n",
    "plt.plot(dC[:50, 1], label='news shock', linewidth=2.5)\n",
    "plt.legend()\n",
    "plt.title(r'Consumption response to TFP shocks')\n",
    "plt.ylabel(r'% deviation from ss')\n",
    "plt.xlabel(r'quarters')\n",
    "plt.show()"
   ]
  },
  {
   "cell_type": "markdown",
   "metadata": {},
   "source": [
    "For those of you familiar with Dynare, these impulse responses are identical to what you could obtain by running the perfect foresight solver `simul` with the `linear_approximation` option."
   ]
  },
  {
   "cell_type": "markdown",
   "metadata": {},
   "source": [
    "## 4 Nonlinear solution\n",
    "\n",
    "To obtain nonlinear impulse responses that capture the different scale and sign effects of shocks, we use `nonlinear.td_solve`. Similarly to `get_G` above, it takes in the steady state dict, the model blocks (in arbitrary order), the names of unknown endogenous variables and the names of target equations.\n",
    "\n",
    "However, the names of the exogenous variables would not be sufficient, since we're calculating the nonlinear response to a specific shock. Instead, `td_solve` takes the *sequences* for any exogenous variables that are shocked.\n",
    "\n",
    "So for the news shock above, we can just call: "
   ]
  },
  {
   "cell_type": "code",
   "execution_count": 9,
   "metadata": {},
   "outputs": [
    {
     "name": "stdout",
     "output_type": "stream",
     "text": [
      "On iteration 0\n",
      "   max error for goods_mkt is 7.86E-04\n",
      "   max error for euler is 1.04E-02\n",
      "On iteration 1\n",
      "   max error for goods_mkt is 6.75E-05\n",
      "   max error for euler is 6.68E-05\n",
      "On iteration 2\n",
      "   max error for goods_mkt is 1.27E-07\n",
      "   max error for euler is 3.85E-07\n",
      "On iteration 3\n",
      "   max error for goods_mkt is 1.47E-09\n",
      "   max error for euler is 3.60E-09\n"
     ]
    }
   ],
   "source": [
    "td_nonlin = sj.td_solve(ss=ss, \n",
    "                        block_list=[firm, household, mkt_clearing],\n",
    "                        unknowns=['K', 'L'],\n",
    "                        targets=['goods_mkt', 'euler'],\n",
    "                        Z=ss['Z']+dZ[:, 1])"
   ]
  },
  {
   "cell_type": "markdown",
   "metadata": {},
   "source": [
    "As we can see, the linearized solution is very accurate in this case."
   ]
  },
  {
   "cell_type": "code",
   "execution_count": 10,
   "metadata": {},
   "outputs": [
    {
     "data": {
      "image/png": "[encoded data removed]",
      "text/plain": [
       "<Figure size 432x288 with 1 Axes>"
      ]
     },
     "metadata": {
      "needs_background": "light"
     },
     "output_type": "display_data"
    }
   ],
   "source": [
    "dC_nonlin = 100 * (td_nonlin['C']/ss['C'] - 1)\n",
    "\n",
    "plt.plot(dC[:50, 1], label='linear', linewidth=2.5)\n",
    "plt.plot(dC_nonlin[:50], label='nonlinear',  linestyle='--', linewidth=2.5)\n",
    "plt.title(r'Consumption response to 1% TFP news shock')\n",
    "plt.ylabel(r'% deviation from ss')\n",
    "plt.xlabel(r'quarters')\n",
    "plt.legend()\n",
    "plt.show()"
   ]
  },
  {
   "cell_type": "markdown",
   "metadata": {},
   "source": [
    "For those of you familiar with Dynare, these impulse responses are identical to what you could obtain by running the perfect foresight solver `simul`."
   ]
  }
 ],
 "metadata": {
  "kernelspec": {
   "display_name": "Python 3",
   "language": "python",
   "name": "python3"
  },
  "language_info": {
   "codemirror_mode": {
    "name": "ipython",
    "version": 3
   },
   "file_extension": ".py",
   "mimetype": "text/x-python",
   "name": "python",
   "nbconvert_exporter": "python",
   "pygments_lexer": "ipython3",
   "version": "3.7.4"
  }
 },
 "nbformat": 4,
 "nbformat_minor": 2
}
