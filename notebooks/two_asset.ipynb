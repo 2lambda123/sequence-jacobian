{
 "cells": [
  {
   "cell_type": "markdown",
   "metadata": {},
   "source": [
    "# Solving a two-asset HANK model in sequence space\n",
    "\n",
    "In this notebook we solve the two-asset HANK model from Auclert, Bardóczy, Rognlie, Straub (2019): \"Using the Sequence-Space Jacobian to Solve and Estimate Heterogeneous-Agent Models\". Please see the [Github repository](https://github.com/shade-econ/sequence-jacobian) for more information and code.\n",
    "\n",
    "The only new concept relative to the one-asset HANK notebook is that of a **solved block**. These are extensions of simple blocks that are useful for large macro models and that's why we introduce them here, in the context of our richest model. We will apply all other concepts and tools that are familiar from other notebooks here without further explanation. \n",
    "\n",
    "## Model description\n",
    "\n",
    "The household problem is characterized by the Bellman equation\n",
    "\n",
    "$$\n",
    "\\begin{align} \\tag{1}\n",
    "V_t(e_t, b_{t-1}, a_{t-1}) = \\max_{c_t, b_t, a_t} &\\left\\{\\frac{c_t^{1-\\sigma}}{1-\\sigma} + \\beta E_t V_{t+1}(e_{t+1}, b_t, a_t) \\right\\}\n",
    "\\\\\n",
    "c_t + a_t + b_t &= (1-\\tau_t)w_t n_t e_t + (1 + r_t^a)a_{t-1} + (1 + r_t^b)b_{t-1} - \\Psi(a_t, a_{t-1}) \n",
    "\\\\\n",
    "a_t &\\geq 0, \\quad b_t \\geq \\underline{b},\n",
    "\\end{align}\n",
    "$$\n",
    "\n",
    "where the adjustment cost function is specified as\n",
    "\n",
    "$$\n",
    "\\Psi(a_t, a_{t-1}) =  \\frac{\\chi_1}{\\chi_2}\\left|\\frac{a_t - (1 + r_t^a) a_{t-1}}{(1 + r_{t}^a) a_{t-1} + \\chi_0}\\right|^{\\chi_2} \\left[(1 + r_t^a) a_{t-1} + \\chi_0 \\right],\n",
    "$$\n",
    "\n",
    "with $\\chi_0, \\chi_1 > 0$ and $\\chi_2 > 1.$ For the full description of the model, including the problems of the other agents, please see appendix A.3 of the paper."
   ]
  },
  {
   "cell_type": "markdown",
   "metadata": {},
   "source": [
    "## 0 Import packages\n",
    "\n",
    "The first two are standard python packages, the rest contain code we wrote for this project."
   ]
  },
  {
   "cell_type": "code",
   "execution_count": 1,
   "metadata": {},
   "outputs": [],
   "source": [
    "# Add the relative path to the top-level of the \"sequence-jacobian\" folder\n",
    "# to be able to access the sequence_jacobian module\n",
    "import sys\n",
    "sys.path.append(\"..\")\n",
    "\n",
    "import numpy as np\n",
    "import matplotlib.pyplot as plt\n",
    "\n",
    "from sequence_jacobian import simple, het, solved, create_model\n",
    "from sequence_jacobian.models import two_asset"
   ]
  },
  {
   "cell_type": "markdown",
   "metadata": {},
   "source": [
    "## 1 Calibrate steady state\n",
    "\n",
    "We developed an efficient backward iteration function to solve the Bellman equation in (1). Although we view this as a contribution on its own, discussing the algorithm goes beyond the scope of this notebook. If you are interested in how we solve a two-asset model with convex portfolio-adjustment costs in discrete time, please see appendix B of the paper for a detailed description and `two_asset.py` for the implementation.\n",
    "\n",
    "To solve for the steady state, we will use the blocks we have set up in the `two_asset.py` module located in `sequence_jacobian/models`, so we will omit the step-by-step discussion of the steady state, since this procedure is repeated and discussed in the other model notebooks."
   ]
  },
  {
   "cell_type": "code",
   "execution_count": 2,
   "metadata": {},
   "outputs": [],
   "source": [
    "blocks = [two_asset.household, two_asset.make_grids,\n",
    "          two_asset.pricing_solved, two_asset.arbitrage_solved, two_asset.production_solved,\n",
    "          two_asset.dividend, two_asset.taylor, two_asset.fiscal, two_asset.share_value,\n",
    "          two_asset.finance, two_asset.wage, two_asset.union, two_asset.mkt_clearing]\n",
    "two_asset_model = create_model(blocks, name=\"Two-Asset HANK\")\n",
    "\n",
    "helper_blocks = [two_asset.partial_ss_step1, two_asset.partial_ss_step2]\n",
    "\n",
    "calibration = {\"Y\": 1., \"r\": 0.0125, \"rstar\": 0.0125, \"tot_wealth\": 14, \"delta\": 0.02, \"kappap\": 0.1, \"muw\": 1.1,\n",
    "               \"Bh\": 1.04, \"Bg\": 2.8, \"G\": 0.2, \"eis\": 0.5, \"frisch\": 1, \"chi0\": 0.25, \"chi2\": 2, 'psip': 0.0,\n",
    "               \"epsI\": 4, \"omega\": 0.005, \"kappaw\": 0.1, \"phi\": 1.5, \"nZ\": 3, \"nB\": 50, \"nA\": 70,\n",
    "               \"nK\": 50, \"bmax\": 50, \"amax\": 4000, \"kmax\": 1, \"rho_z\": 0.966, \"sigma_z\": 0.92}\n",
    "unknowns_ss = {\"beta\": 0.976, \"chi1\": 6.5, \"vphi\": 1.71, \"Z\": 0.4678, \"alpha\": 0.3299, \"mup\": 1.015, 'w': 0.66}\n",
    "targets_ss = {\"asset_mkt\": 0., \"B\": \"Bh\", 'wnkpc': 0., 'piw': 0.0, \"K\": 10., \"wealth\": \"tot_wealth\", \"N\": 1.0}\n",
    "ss = two_asset_model.solve_steady_state(calibration, unknowns_ss, targets_ss, solver=\"hybr\",\n",
    "                                        helper_blocks=helper_blocks,\n",
    "                                        helper_targets=[\"wnkpc\", \"piw\", \"K\", \"wealth\", \"N\"])"
   ]
  },
  {
   "cell_type": "markdown",
   "metadata": {},
   "source": [
    "## 2 Define solved blocks\n",
    "\n",
    "Solved blocks are miniature models embedded as blocks inside of our larger model. Like simple blocks, solved blocks correspond to aggregate equilibrium conditions: they map sequences of aggregate inputs directly into sequences of aggregate outputs. The difference is that in the case of simple blocks, this mapping has to be analytical, while solved blocks are designed to accommodate implicit relationships that can only be evaluated numerically. \n",
    "\n",
    "Such implicit mappings between variables become more common as macro complexity increases. Solved blocks are a valuable tool to simplify the DAG of large macro models.\n",
    "\n",
    "### 2.1 Price setting \n",
    "The Phillips curve characterizes $(\\pi)$ conditional on $(Y, mc, r):$ \n",
    "\n",
    "$$\n",
    "\\log(1+\\pi_t) = \\kappa_p \\left(mc_t - \\frac{1}{\\mu_p} \\right) + \\frac{1}{1+r_{t+1}} \\frac{Y_{t+1}}{Y_t} \\log(1+\\pi_{t+1})\n",
    "$$\n",
    "\n",
    "Inflation shows up with two different time displacements, and so we could not express it analytically. Instead, we write a function that returns the residual of the equation, and use the decorator `@solved` to make it into a `SolvedBlock`."
   ]
  },
  {
   "cell_type": "code",
   "execution_count": 3,
   "metadata": {
    "scrolled": false
   },
   "outputs": [],
   "source": [
    "@solved(unknowns={'pi': (-0.1, 0.1)}, targets=['nkpc'], solver=\"brentq\")\n",
    "def pricing_solved(pi, mc, r, Y, kappap, mup):\n",
    "    nkpc = kappap * (mc - 1/mup) + Y(+1) / Y * (1 + pi(+1)).apply(np.log) / \\\n",
    "           (1 + r(+1)) - (1 + pi).apply(np.log)\n",
    "    return nkpc"
   ]
  },
  {
   "cell_type": "markdown",
   "metadata": {},
   "source": [
    "When our routines encounter a solved block in `blocks`, they compute its Jacobian via the the implicit function theorem, as if it was a SHADE model on its own. Given the Jacobian, the rest of the code applies without modification. "
   ]
  },
  {
   "cell_type": "markdown",
   "metadata": {},
   "source": [
    "### 2.2 Equity price\n",
    "The no arbitrage condition characterizes $(p)$ conditional on $(d, p, r).$\n",
    "\n",
    "$$\n",
    "p_t = \\frac{d_{t+1} + p_{t+1}}{1 + r_{t+1}}\n",
    "$$"
   ]
  },
  {
   "cell_type": "code",
   "execution_count": 4,
   "metadata": {
    "scrolled": true
   },
   "outputs": [],
   "source": [
    "@solved(unknowns={'p': (10, 15)}, targets=['equity'], solver=\"brentq\")\n",
    "def arbitrage_solved(div, p, r):\n",
    "    equity = div(+1) + p(+1) - p * (1 + r(+1))\n",
    "    return equity"
   ]
  },
  {
   "cell_type": "markdown",
   "metadata": {},
   "source": [
    "### 2.3 Investment with adjustment costs\n",
    "\n",
    "Sometimes multiple equilibrium conditions can be combined in a self-contained solved block. Investment subject to capital adjustment costs is such a case. In particular, we can use the following four equations to solve for $(K, Q)$ conditional on $(Y, w, r)$.\n",
    " \n",
    " - Production:\n",
    " \n",
    " $$\n",
    " Y_t = Z_t K_{t-1}^\\alpha N_t^{1-\\alpha}\n",
    " $$\n",
    " \n",
    " - Labor demand:\n",
    " \n",
    " $$\n",
    " w_t = (1-\\alpha)\\frac{Y_t}{N_t} mc_t\n",
    " $$\n",
    " \n",
    " - Investment equation:\n",
    "\n",
    "$$\n",
    "Q_t = 1 + \\frac{1}{\\delta \\epsilon_I}\\left(\\frac{K_t-K_{t-1}}{K_{t-1}}\\right)\n",
    "$$\n",
    "\n",
    "- Valuation equation\n",
    "\n",
    "$$\n",
    "(1+r_{t})Q_{t} = \\alpha Z_{t+1} \\left(\\frac{N_{t+1}}{K_t}\\right)^{1-\\alpha} mc_{t+1} - \\left[\\frac{K_{t+1}}{K_t} - (1-\\delta) + \\frac{1}{2\\delta \\epsilon_I}\\left(\\frac{K_{t+1} - K_t}{K_t}\\right)^2\\right] + \\frac{K_{t+1}}{K_t}Q_{t+1}\n",
    "$$"
   ]
  },
  {
   "cell_type": "markdown",
   "metadata": {},
   "source": [
    "Solved blocks that contain multiple simple blocks have to be initialized with the `solved` function instead of the decorator `@solved`."
   ]
  },
  {
   "cell_type": "code",
   "execution_count": 5,
   "metadata": {},
   "outputs": [],
   "source": [
    "@simple\n",
    "def labor(Y, w, K, Z, alpha):\n",
    "    N = (Y / Z / K(-1) ** alpha) ** (1 / (1 - alpha))\n",
    "    mc = w * N / (1 - alpha) / Y\n",
    "    return N, mc\n",
    "\n",
    "@simple\n",
    "def investment(Q, K, r, N, mc, Z, delta, epsI, alpha):\n",
    "    inv = (K/K(-1) - 1) / (delta * epsI) + 1 - Q\n",
    "    val = alpha * Z(+1) * (N(+1) / K) ** (1-alpha) * mc(+1) - (K(+1)/K -\n",
    "           (1-delta) + (K(+1)/K - 1)**2 / (2*delta*epsI)) + K(+1)/K*Q(+1) - (1 + r(+1))*Q\n",
    "    return inv, val\n",
    "\n",
    "production = solved(block_list=[labor, investment],\n",
    "                    unknowns={'Q': 1, 'K': 10},\n",
    "                    targets=['inv', 'val'],\n",
    "                    solver=\"broyden\", solver_kwargs={\"verbose\": False})"
   ]
  },
  {
   "cell_type": "markdown",
   "metadata": {},
   "source": [
    "Making use of these solved blocks, we can write a DAG for this model in just 3 unknowns $(r, w, Y)$ and 3 targets, asset market clearing, fisher equation, wage Phillips curve:\n",
    "\n",
    "![Directed Acyclical Graph](../figures/hank2_dag.png) "
   ]
  },
  {
   "cell_type": "markdown",
   "metadata": {},
   "source": [
    "## 3 Dynamics\n",
    "\n",
    "As before, we can compute $G$ and calculate impulse responses. To speed up the computation of $G$, we can reuse the pre-computed Jacobian of the household so it is not redundantly computed."
   ]
  },
  {
   "cell_type": "code",
   "execution_count": 6,
   "metadata": {},
   "outputs": [],
   "source": [
    "exogenous = [\"rstar\", \"Z\", \"G\"]\n",
    "unknowns = [\"r\", \"w\", \"Y\"]\n",
    "targets = [\"asset_mkt\", \"fisher\", \"wnkpc\"]\n",
    "T = 300\n",
    "\n",
    "J_ha = two_asset.household.jacobian(ss=ss, T=T, exogenous=['N', 'r', 'ra', 'rb', 'tax', 'w'])\n",
    "G = two_asset_model.solve_jacobian(ss, exogenous, unknowns, targets, T=T, Js={'household': J_ha})"
   ]
  },
  {
   "cell_type": "markdown",
   "metadata": {},
   "source": [
    "Let's plot some impulse responses:"
   ]
  },
  {
   "cell_type": "code",
   "execution_count": 7,
   "metadata": {
    "scrolled": true
   },
   "outputs": [
    {
     "data": {
      "image/png": "[encoded data removed]",
      "text/plain": [
       "<Figure size 432x288 with 1 Axes>"
      ]
     },
     "metadata": {
      "needs_background": "light"
     },
     "output_type": "display_data"
    }
   ],
   "source": [
    "rhos = np.array([0.2, 0.4, 0.6, 0.8])\n",
    "drstar = -0.0025 * rhos ** (np.arange(T)[:, np.newaxis])\n",
    "dY = 100 * G['Y']['rstar'] @ drstar\n",
    "\n",
    "plt.plot(dY[:21])\n",
    "plt.title(r'Output response to 25 bp monetary policy shocks with $\\rho=(0.2 ... 0.8)$')\n",
    "plt.xlabel('quarters')\n",
    "plt.ylabel('% deviation from ss')\n",
    "plt.show()"
   ]
  },
  {
   "cell_type": "markdown",
   "metadata": {},
   "source": [
    "## Nonlinear impulse responses\n",
    "\n",
    "Let's compute the nonlinear impulse response for the $\\rho=0.6$ shock above. (Don't forget to use the saved Jacobian!)"
   ]
  },
  {
   "cell_type": "code",
   "execution_count": 8,
   "metadata": {
    "scrolled": true
   },
   "outputs": [
    {
     "name": "stdout",
     "output_type": "stream",
     "text": [
      "On iteration 0\n",
      "   max error for asset_mkt is 4.22E-06\n",
      "   max error for fisher is 2.50E-03\n",
      "   max error for wnkpc is 5.08E-08\n",
      "On iteration 1\n",
      "   max error for asset_mkt is 2.66E-04\n",
      "   max error for fisher is 1.56E-06\n",
      "   max error for wnkpc is 2.15E-05\n",
      "On iteration 2\n",
      "   max error for asset_mkt is 7.57E-06\n",
      "   max error for fisher is 9.69E-08\n",
      "   max error for wnkpc is 6.57E-07\n",
      "On iteration 3\n",
      "   max error for asset_mkt is 4.02E-07\n",
      "   max error for fisher is 2.25E-09\n",
      "   max error for wnkpc is 1.64E-08\n",
      "On iteration 4\n",
      "   max error for asset_mkt is 2.20E-08\n",
      "   max error for fisher is 1.07E-10\n",
      "   max error for wnkpc is 7.47E-10\n",
      "On iteration 5\n",
      "   max error for asset_mkt is 1.23E-09\n",
      "   max error for fisher is 5.47E-12\n",
      "   max error for wnkpc is 3.73E-11\n"
     ]
    }
   ],
   "source": [
    "td_nonlin = two_asset_model.solve_impulse_nonlinear(ss, {\"rstar\": drstar[:, 2]},\n",
    "                                                    unknowns, targets, Js={'household': J_ha})"
   ]
  },
  {
   "cell_type": "markdown",
   "metadata": {},
   "source": [
    "We see rapid convergence and mild nonlinearities in the solution."
   ]
  },
  {
   "cell_type": "code",
   "execution_count": 9,
   "metadata": {
    "scrolled": true
   },
   "outputs": [
    {
     "data": {
      "image/png": "[encoded data removed]",
      "text/plain": [
       "<Figure size 432x288 with 1 Axes>"
      ]
     },
     "metadata": {
      "needs_background": "light"
     },
     "output_type": "display_data"
    }
   ],
   "source": [
    "dY_nonlin = 100 * td_nonlin.deviations()[\"Y\"]\n",
    "\n",
    "plt.plot(dY[:21, 2], label='linear', linestyle='-', linewidth=2.5)\n",
    "plt.plot(dY_nonlin[:21], label='nonlinear', linestyle='--', linewidth=2.5)\n",
    "plt.title(r'Consumption response to 1% monetary policy shock')\n",
    "plt.xlabel('quarters')\n",
    "plt.ylabel('% deviation from ss')\n",
    "plt.legend()\n",
    "plt.show()"
   ]
  },
  {
   "cell_type": "markdown",
   "metadata": {},
   "source": [
    "Alternatively, we can compute the impulse response to a version of the shock scaled down to 10% of its original size."
   ]
  },
  {
   "cell_type": "code",
   "execution_count": 10,
   "metadata": {},
   "outputs": [
    {
     "name": "stdout",
     "output_type": "stream",
     "text": [
      "On iteration 0\n",
      "   max error for asset_mkt is 4.22E-06\n",
      "   max error for fisher is 2.50E-04\n",
      "   max error for wnkpc is 5.08E-08\n",
      "On iteration 1\n",
      "   max error for asset_mkt is 3.20E-06\n",
      "   max error for fisher is 1.71E-08\n",
      "   max error for wnkpc is 2.10E-06\n",
      "On iteration 2\n",
      "   max error for asset_mkt is 7.70E-08\n",
      "   max error for fisher is 2.57E-10\n",
      "   max error for wnkpc is 5.83E-09\n",
      "On iteration 3\n",
      "   max error for asset_mkt is 8.06E-10\n",
      "   max error for fisher is 1.54E-12\n",
      "   max error for wnkpc is 5.69E-11\n"
     ]
    }
   ],
   "source": [
    "td_nonlin = two_asset_model.solve_impulse_nonlinear(ss, {\"rstar\": 0.1 * drstar[:, 2]},\n",
    "                                                    unknowns, targets, Js={'household': J_ha})"
   ]
  },
  {
   "cell_type": "code",
   "execution_count": 11,
   "metadata": {},
   "outputs": [
    {
     "data": {
      "image/png": "[encoded data removed]",
      "text/plain": [
       "<Figure size 432x288 with 1 Axes>"
      ]
     },
     "metadata": {
      "needs_background": "light"
     },
     "output_type": "display_data"
    }
   ],
   "source": [
    "dY_nonlin = 100 * td_nonlin.deviations()[\"Y\"]\n",
    "\n",
    "plt.plot(0.1*dY[:21, 2], label='linear', linestyle='-', linewidth=2.5)\n",
    "plt.plot(dY_nonlin[:21], label='nonlinear', linestyle='--', linewidth=2.5)\n",
    "plt.title(r'Consumption response to 0.1% monetary policy shock')\n",
    "plt.xlabel('quarters')\n",
    "plt.ylabel('% deviation from ss')\n",
    "plt.legend()\n",
    "plt.show()"
   ]
  },
  {
   "cell_type": "markdown",
   "metadata": {},
   "source": [
    "When the shock is this small, the linear and nonlinear impulse responses agree exactly. This is a good check, amid a highly complex model, that we didn't make any mistakes."
   ]
  }
 ],
 "metadata": {
  "kernelspec": {
   "display_name": "Python 3",
   "language": "python",
   "name": "python3"
  },
  "language_info": {
   "codemirror_mode": {
    "name": "ipython",
    "version": 3
   },
   "file_extension": ".py",
   "mimetype": "text/x-python",
   "name": "python",
   "nbconvert_exporter": "python",
   "pygments_lexer": "ipython3",
   "version": "3.8.3"
  }
 },
 "nbformat": 4,
 "nbformat_minor": 2
}
