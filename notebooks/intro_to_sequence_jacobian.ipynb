{
 "cells": [
  {
   "cell_type": "markdown",
   "metadata": {},
   "source": [
    "# An introduction to the `sequence-jacobian` toolkit\n",
    "\n",
    "This notebook serves as an introduction to the `sequence-jacobian` toolkit and the classes and main functions it provides for solving dynamic general equilibrium models in sequence space.\n",
    "\n",
    "This introduction will cover the following topics:\n",
    "0. `sequence-jacobian` preliminaries\n",
    "    - The `sequence-jacobian` toolkit directory structure\n",
    "    - Importing `sequence-jacobian`\n",
    "1. How do `Block` objects work?\n",
    "2. The main functions of `sequence-jacobian`\n",
    "    - `steady_state`\n",
    "    - `get_G`\n",
    "    - `td_map`\n",
    "\n",
    "The notebook accompanies the working paper by Auclert, Bardóczy, Rognlie, Straub (2019): \"Using the Sequence-Space Jacobian to Solve and Estimate Heterogeneous-Agent Models\". Please see the [Github repository](https://github.com/shade-econ/sequence-jacobian) for more information and code.\n",
    "\n",
    "Also, be sure to check out the [Real Business Cycle (RBC) Notebook](https://github.com/shade-econ/sequence-jacobian/blob/develop-cai/notebooks/rbc.ipynb), which this notebook partially draws from, to see the Sequence-Jacobian solution method applied to a standard model."
   ]
  },
  {
   "cell_type": "markdown",
   "metadata": {},
   "source": [
    "# `sequence-jacobian` preliminaries"
   ]
  },
  {
   "cell_type": "markdown",
   "metadata": {},
   "source": [
    "##  0.1 The `sequence-jacobian' directory structure "
   ]
  },
  {
   "cell_type": "markdown",
   "metadata": {},
   "source": [
    "We will only illustrate a smaller subset of the directory structure for the sake of clarity."
   ]
  },
  {
   "cell_type": "markdown",
   "metadata": {},
   "source": [
    "```\n",
    "sequence-jacobian/\n",
    "│\n",
    "├──notebooks/\n",
    "│  ├─ intro_to_sequence_jacobian.ipynb\n",
    "│  └─ rbc.ipynb\n",
    "│  \n",
    "└──sequence_jacobian/\n",
    "   ├─ blocks/\n",
    "   │    ├─ simple\n",
    "   │    ├─ het\n",
    "   │    ├─ helper\n",
    "   │    └─ solved\n",
    "   │\n",
    "   ├─ models/\n",
    "   │    ├─ rbc\n",
    "   │    ├─ krusell_smith\n",
    "   │    └─ hank\n",
    "   │\n",
    "   ├─ utilities/\n",
    "   │    ├─ discretize\n",
    "   │    ├─ graph\n",
    "   │    └─ devtools\n",
    "   │\n",
    "   ├─ jacobian\n",
    "   ├─ nonlinear\n",
    "   └─ steady_state\n",
    "```"
   ]
  },
  {
   "cell_type": "markdown",
   "metadata": {},
   "source": [
    "The `sequence-jacobian` repository contains a few directories at the top-level.\n",
    "\n",
    "The notable ones for the purposes of this introduction are:\n",
    "- `notebooks`: where example notebooks demonstrate the `sequence-jacobian` functionality on well-known models\n",
    "- `sequence_jacobian`: the main python package containing the source code.\n",
    "\n",
    "Within `sequence_jacobian`, we have:\n",
    "- Modules implementing the main steps of the solution method: `jacobian`, `nonlinear`, `steady_state`\n",
    "- Sub-directories containing:\n",
    "    - `blocks`: definitions of the various `Block` objects, which wrap model equations\n",
    "    - `models`: implemented models as collections of `Block` objects\n",
    "    - `utilities`: useful functions that support user in debugging their code and that improve workflow within the `sequence-jacobian` source code"
   ]
  },
  {
   "cell_type": "markdown",
   "metadata": {},
   "source": [
    "##  0.2 Importing the `sequence-jacobian` code"
   ]
  },
  {
   "cell_type": "markdown",
   "metadata": {},
   "source": [
    "Given the present directory structure of the toolkit, we will need to import the `sequence_jacobian` module from the directory containing the one we are currently in. Thus, we will use the `sys` package to add the directory containing this one to the path, allowing us to access the `sequence_jacobian` module from the top-level."
   ]
  },
  {
   "cell_type": "code",
   "execution_count": 29,
   "metadata": {},
   "outputs": [],
   "source": [
    "import sys\n",
    "sys.path.append(\"..\")\n",
    "\n",
    "import numpy as np\n",
    "\n",
    "import sequence_jacobian as sj\n",
    "from sequence_jacobian import simple"
   ]
  },
  {
   "cell_type": "markdown",
   "metadata": {},
   "source": [
    "# 1 How do `Block` objects work?"
   ]
  },
  {
   "cell_type": "markdown",
   "metadata": {},
   "source": [
    "## 1.1 `SimpleBlock`"
   ]
  },
  {
   "cell_type": "markdown",
   "metadata": {},
   "source": [
    "The simplest python class that `sequence-jacobian` provides is called the `SimpleBlock`.\n",
    "\n",
    "These blocks are intended for use in defining the model equations that are solely functions of *aggregate* variables and parameters as in the equilibrium conditions from the representative firm problem in the real business cycle model:\n",
    "\n",
    "$$\n",
    "r_t + \\delta = \\alpha Z_t \\left(\\frac{K_{t-1}}{L_t} \\right)^{\\alpha-1}\n",
    "\\\\\n",
    "w_t = (1-\\alpha) Z_t \\left(\\frac{K_{t-1}}{L_t} \\right)^{\\alpha}\n",
    "$$\n",
    "\n",
    "`SimpleBlock`, like the other main `Block` classes, has a few **attributes** that describe its contents:\n",
    "- `inputs`\n",
    "- `outputs`\n",
    "- `.f`\n",
    "\n",
    "A custom **constructor**, in the form of a python decorator, `@simple`.\n",
    "\n",
    "And three main **methods**:\n",
    "- `.ss`, which is used in the steady state computation\n",
    "- `.td`, which is used in the transitional dynamics\n",
    "- `.jac`, which is used in the Jacobian computation"
   ]
  },
  {
   "cell_type": "code",
   "execution_count": 4,
   "metadata": {},
   "outputs": [],
   "source": [
    "@simple\n",
    "def my_first_simple_block(a, b, c):\n",
    "    d = a + b\n",
    "    e = b * c\n",
    "    return d, e"
   ]
  },
  {
   "cell_type": "markdown",
   "metadata": {},
   "source": [
    "The attributes describe what variables `my_first_simple_block` takes as inputs, what variables it outputs, and provide a way to invoke the function it is defined over."
   ]
  },
  {
   "cell_type": "code",
   "execution_count": 5,
   "metadata": {},
   "outputs": [
    {
     "data": {
      "text/plain": [
       "{'a', 'b', 'c'}"
      ]
     },
     "execution_count": 5,
     "metadata": {},
     "output_type": "execute_result"
    }
   ],
   "source": [
    "my_first_simple_block.inputs"
   ]
  },
  {
   "cell_type": "code",
   "execution_count": 6,
   "metadata": {},
   "outputs": [
    {
     "data": {
      "text/plain": [
       "{'d', 'e'}"
      ]
     },
     "execution_count": 6,
     "metadata": {},
     "output_type": "execute_result"
    }
   ],
   "source": [
    "my_first_simple_block.outputs"
   ]
  },
  {
   "cell_type": "code",
   "execution_count": 7,
   "metadata": {},
   "outputs": [
    {
     "data": {
      "text/plain": [
       "<function __main__.my_first_simple_block(a, b, c)>"
      ]
     },
     "execution_count": 7,
     "metadata": {},
     "output_type": "execute_result"
    }
   ],
   "source": [
    "my_first_simple_block.f"
   ]
  },
  {
   "cell_type": "markdown",
   "metadata": {},
   "source": [
    "Hence, we can directly invoke the function that `my_first_simple_block` is defined over as if it were a simple python function"
   ]
  },
  {
   "cell_type": "code",
   "execution_count": 12,
   "metadata": {},
   "outputs": [
    {
     "data": {
      "text/plain": [
       "(3, 6)"
      ]
     },
     "execution_count": 12,
     "metadata": {},
     "output_type": "execute_result"
    }
   ],
   "source": [
    "my_first_simple_block.f(1, 2, 3)"
   ]
  },
  {
   "cell_type": "markdown",
   "metadata": {},
   "source": [
    "Also as seen above, the custom constructor requires no additional arguments and can simply be used by annotating the function on the line above with the decorator `@simple` as is standard in python."
   ]
  },
  {
   "cell_type": "markdown",
   "metadata": {},
   "source": [
    "Because dynamic general equilibrium models are, by definition, *dynamic*, typically the equations that define such models contain time displacements.\n",
    "\n",
    "We can represent the equations $d_t = a_{t+1} + b_t$ and $e_t = b_{t+1} * c_{t-1}$ as the following `SimpleBlock`, using Dynare-like syntax"
   ]
  },
  {
   "cell_type": "code",
   "execution_count": 9,
   "metadata": {},
   "outputs": [],
   "source": [
    "@simple\n",
    "def my_first_dynamic_block(a, b, c):\n",
    "    d = a(1) + b\n",
    "    e = b(1) * c(-1)\n",
    "    return d, e"
   ]
  },
  {
   "cell_type": "markdown",
   "metadata": {},
   "source": [
    "Notice here, we cannot simply invoke `my_first_dynamic_block` as if it were a simple python function because `a(1)` is not standard python syntax. Under the hood, `sequence-jacobian` catches these inputs and wraps them in special classes to handle time displacement prior to invoking the function to capture information relevant for the steady state, jacobian, etc. which we will get to."
   ]
  },
  {
   "cell_type": "code",
   "execution_count": 13,
   "metadata": {},
   "outputs": [
    {
     "ename": "TypeError",
     "evalue": "'int' object is not callable",
     "output_type": "error",
     "traceback": [
      "\u001b[1;31m---------------------------------------------------------------------------\u001b[0m",
      "\u001b[1;31mTypeError\u001b[0m                                 Traceback (most recent call last)",
      "\u001b[1;32m<ipython-input-13-fe1013deead0>\u001b[0m in \u001b[0;36m<module>\u001b[1;34m\u001b[0m\n\u001b[1;32m----> 1\u001b[1;33m \u001b[0mmy_first_dynamic_block\u001b[0m\u001b[1;33m.\u001b[0m\u001b[0mf\u001b[0m\u001b[1;33m(\u001b[0m\u001b[1;36m1\u001b[0m\u001b[1;33m,\u001b[0m \u001b[1;36m2\u001b[0m\u001b[1;33m,\u001b[0m \u001b[1;36m3\u001b[0m\u001b[1;33m)\u001b[0m\u001b[1;33m\u001b[0m\u001b[1;33m\u001b[0m\u001b[0m\n\u001b[0m",
      "\u001b[1;32m<ipython-input-9-d3355b96db25>\u001b[0m in \u001b[0;36mmy_first_dynamic_block\u001b[1;34m(a, b, c)\u001b[0m\n\u001b[0;32m      1\u001b[0m \u001b[1;33m@\u001b[0m\u001b[0msimple\u001b[0m\u001b[1;33m\u001b[0m\u001b[1;33m\u001b[0m\u001b[0m\n\u001b[0;32m      2\u001b[0m \u001b[1;32mdef\u001b[0m \u001b[0mmy_first_dynamic_block\u001b[0m\u001b[1;33m(\u001b[0m\u001b[0ma\u001b[0m\u001b[1;33m,\u001b[0m \u001b[0mb\u001b[0m\u001b[1;33m,\u001b[0m \u001b[0mc\u001b[0m\u001b[1;33m)\u001b[0m\u001b[1;33m:\u001b[0m\u001b[1;33m\u001b[0m\u001b[1;33m\u001b[0m\u001b[0m\n\u001b[1;32m----> 3\u001b[1;33m     \u001b[0md\u001b[0m \u001b[1;33m=\u001b[0m \u001b[0ma\u001b[0m\u001b[1;33m(\u001b[0m\u001b[1;36m1\u001b[0m\u001b[1;33m)\u001b[0m \u001b[1;33m+\u001b[0m \u001b[0mb\u001b[0m\u001b[1;33m\u001b[0m\u001b[1;33m\u001b[0m\u001b[0m\n\u001b[0m\u001b[0;32m      4\u001b[0m     \u001b[0me\u001b[0m \u001b[1;33m=\u001b[0m \u001b[0mb\u001b[0m\u001b[1;33m(\u001b[0m\u001b[1;36m1\u001b[0m\u001b[1;33m)\u001b[0m \u001b[1;33m*\u001b[0m \u001b[0mc\u001b[0m\u001b[1;33m(\u001b[0m\u001b[1;33m-\u001b[0m\u001b[1;36m1\u001b[0m\u001b[1;33m)\u001b[0m\u001b[1;33m\u001b[0m\u001b[1;33m\u001b[0m\u001b[0m\n\u001b[0;32m      5\u001b[0m     \u001b[1;32mreturn\u001b[0m \u001b[0md\u001b[0m\u001b[1;33m,\u001b[0m \u001b[0me\u001b[0m\u001b[1;33m\u001b[0m\u001b[1;33m\u001b[0m\u001b[0m\n",
      "\u001b[1;31mTypeError\u001b[0m: 'int' object is not callable"
     ]
    }
   ],
   "source": [
    "my_first_dynamic_block.f(1, 2, 3)"
   ]
  },
  {
   "cell_type": "markdown",
   "metadata": {},
   "source": [
    "In general, we would not advise the user to directly invoke the `.f` attribute but rather work with the main methods of the `SimpleBlock`: `.ss`, `.td`, `.jac`."
   ]
  },
  {
   "cell_type": "markdown",
   "metadata": {},
   "source": [
    "As mentioned above, the main way the user should interface with `SimpleBlock`s directly (which itself will typically be unnecessary once we get to the main functions in the `sequence-jacobian` toolkit) is through the methods `.ss`, `.td`, and `.jac`.\n",
    "\n",
    "These methods utilize the information encoded in the `SimpleBlock` both by the algebraic relationships written in the variable definitions but also in the time displacements, as in `my_first_dynamic_block` above.\n",
    "\n",
    "For example, in `.ss` the dynamic equation $d_t = a_{t+1} + b_t$ would become $d^* = a^* + b^*$, where the $*$ variables indicate their steady state values, whereas in `.td` or `.jac`, the information from the dynamic equation is retained so that transitions or Jacobians are calculated with the correct time displacements.\n",
    "\n",
    "The main functions in the `sequence-jacobian` toolkit provide the main handling of these time displacements, so we will not elaborate on this further here."
   ]
  },
  {
   "cell_type": "markdown",
   "metadata": {},
   "source": [
    "Below are some other examples of more complicated equations contained in `SimpleBlock`s that demonstrate their flexibility.\n",
    "\n",
    "We are also accommodate the use of more arbitrary functions called on the variables that enter into `SimpleBlock`s, with `.apply()` for single argument functions and `apply_function()` for functions with multiple arguments.\n",
    "\n",
    "**Note**: As of now `apply_function()` has more limited functionality, only working within the context of transitional dynamics and *not* Jacobian calculation. Either reference the source code for more information, or otherwise proceed with caution!"
   ]
  },
  {
   "cell_type": "code",
   "execution_count": 33,
   "metadata": {},
   "outputs": [],
   "source": [
    "from sequence_jacobian import apply_function\n",
    "\n",
    "@simple\n",
    "def heres_a_block(a, b, c):\n",
    "    d = (a(-1) ** b)/c\n",
    "    e = -d(+1)\n",
    "    return d, e\n",
    "\n",
    "@simple\n",
    "def heres_another_one(a, b, c):\n",
    "    d = a(-1).apply(np.log)\n",
    "    e = b(+1) + c(+1)\n",
    "    return d, e\n",
    "\n",
    "def foo(a, b, c):\n",
    "    return np.sin(a) + b ** c\n",
    "\n",
    "@simple\n",
    "def and_another(a, b, c):\n",
    "    d = apply_function(foo, a, b, c)\n",
    "    return d\n",
    "\n",
    "# And finally a more realistic one\n",
    "@simple\n",
    "def firm(K, L, Z, alpha, delta):\n",
    "    r = alpha * Z * (K(-1) / L) ** (alpha-1) - delta\n",
    "    w = (1 - alpha) * Z * (K(-1) / L) ** alpha\n",
    "    return r, w"
   ]
  },
  {
   "cell_type": "markdown",
   "metadata": {},
   "source": [
    "## 1.2 HetBlock"
   ]
  },
  {
   "cell_type": "markdown",
   "metadata": {},
   "source": [
    "The next class that `sequence-jacobian` provides is the `HetBlock`. While it is nice to be able to work with aggregate variables, one of the main selling points of the `sequence-jacobian` toolkit is that it provides a fast, general framework for solving heterogeneous agent models. \n",
    "\n",
    "Hence, the `HetBlock` provides a class that is compatible with `SimpleBlock`s and other kinds of blocks to be described later on to be able to define the main components of a dynamic general equilibrium model in a piecemeal fashion."
   ]
  },
  {
   "cell_type": "markdown",
   "metadata": {},
   "source": [
    "`HetBlock`s "
   ]
  },
  {
   "cell_type": "markdown",
   "metadata": {},
   "source": [
    "# 2 The main functions of `sequence-jacobian`"
   ]
  },
  {
   "cell_type": "code",
   "execution_count": null,
   "metadata": {},
   "outputs": [],
   "source": []
  }
 ],
 "metadata": {
  "kernelspec": {
   "display_name": "Python 3",
   "language": "python",
   "name": "python3"
  },
  "language_info": {
   "codemirror_mode": {
    "name": "ipython",
    "version": 3
   },
   "file_extension": ".py",
   "mimetype": "text/x-python",
   "name": "python",
   "nbconvert_exporter": "python",
   "pygments_lexer": "ipython3",
   "version": "3.7.4"
  }
 },
 "nbformat": 4,
 "nbformat_minor": 2
}
