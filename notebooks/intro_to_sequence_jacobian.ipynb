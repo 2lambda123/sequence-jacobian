{
 "cells": [
  {
   "cell_type": "markdown",
   "metadata": {},
   "source": [
    "# An introduction to the `sequence-jacobian` toolkit\n",
    "\n",
    "This notebook serves as an introduction to the `sequence-jacobian` toolkit and the classes and main functions it provides for solving dynamic general equilibrium models in sequence space.\n",
    "\n",
    "This introduction will cover the following topics:\n",
    "0. `sequence-jacobian` preliminaries\n",
    "    - The `sequence-jacobian` toolkit directory structure\n",
    "    - Importing `sequence-jacobian`\n",
    "1. How do `Block` objects work?\n",
    "    1. `SimpleBlock`\n",
    "    2. `HetBlock`\n",
    "    3. `SolvedBlock`\n",
    "2. The main functions of `sequence-jacobian`\n",
    "    - `steady_state`\n",
    "    - `get_G`\n",
    "    - `td_map`\n",
    "\n",
    "The notebook accompanies the working paper by Auclert, Bardóczy, Rognlie, Straub (2019): \"Using the Sequence-Space Jacobian to Solve and Estimate Heterogeneous-Agent Models\". Please see the [Github repository](https://github.com/shade-econ/sequence-jacobian) for more information and code.\n",
    "\n",
    "Also, be sure to check out the other model notebooks in this directory to see some applications of `sequence-jacobian`."
   ]
  },
  {
   "cell_type": "markdown",
   "metadata": {},
   "source": [
    "# `sequence-jacobian` preliminaries"
   ]
  },
  {
   "cell_type": "markdown",
   "metadata": {},
   "source": [
    "##  0.1 The `sequence-jacobian' directory structure "
   ]
  },
  {
   "cell_type": "markdown",
   "metadata": {},
   "source": [
    "We will only illustrate a smaller subset of the directory structure for the sake of clarity."
   ]
  },
  {
   "cell_type": "markdown",
   "metadata": {},
   "source": [
    "```\n",
    "sequence-jacobian/\n",
    "│\n",
    "├──notebooks/\n",
    "│  ├─ intro_to_sequence_jacobian.ipynb\n",
    "│  └─ rbc.ipynb\n",
    "│  \n",
    "└──sequence_jacobian/\n",
    "   ├─ blocks/\n",
    "   │    ├─ simple\n",
    "   │    ├─ het\n",
    "   │    ├─ helper\n",
    "   │    └─ solved\n",
    "   │\n",
    "   ├─ models/\n",
    "   │    ├─ rbc\n",
    "   │    ├─ krusell_smith\n",
    "   │    └─ hank\n",
    "   │\n",
    "   ├─ utilities/\n",
    "   │    ├─ discretize\n",
    "   │    ├─ graph\n",
    "   │    └─ devtools\n",
    "   │\n",
    "   ├─ jacobian\n",
    "   ├─ nonlinear\n",
    "   └─ steady_state\n",
    "```"
   ]
  },
  {
   "cell_type": "markdown",
   "metadata": {},
   "source": [
    "The `sequence-jacobian` repository contains a few directories at the top-level.\n",
    "\n",
    "The notable ones for the purposes of this introduction are:\n",
    "- `notebooks`: where example notebooks demonstrate the `sequence-jacobian` functionality on well-known models\n",
    "- `sequence_jacobian`: the main python package containing the source code.\n",
    "\n",
    "Within `sequence_jacobian`, we have:\n",
    "- Modules implementing the main steps of the solution method: `jacobian`, `nonlinear`, `steady_state`\n",
    "- Sub-directories containing:\n",
    "    - `blocks`: definitions of the various `Block` objects, which wrap model equations\n",
    "    - `models`: implemented models as collections of `Block` objects\n",
    "    - `utilities`: useful functions that support user in debugging their code and that improve workflow within the `sequence-jacobian` source code"
   ]
  },
  {
   "cell_type": "markdown",
   "metadata": {},
   "source": [
    "##  0.2 Importing the `sequence-jacobian` code"
   ]
  },
  {
   "cell_type": "markdown",
   "metadata": {},
   "source": [
    "There are a few different routes to importing the `sequence_jacobian` package properly. Depending on your desired environment or what you find convenient, make sure you follow one of these procedures first, or else the `sequence_jacobian` package will not load properly for you:\n",
    "\n",
    "1. **(Recommended) Using `pip`**: You can install `sequence-jacobian` using `pip`, python's native package-management system, by executing the following command in your python console with `pip` loaded: `pip install git+https://github.com/shade-econ/sequence-jacobian@develop-cai`. Alternatively you can append `python -m ` to the front of that command and execute it directly in the terminal.\n",
    "2. **Using sys.path.append()**: You can directly clone the `sequence-jacobian` repository from Github [here](https://github.com/shade-econ/sequence-jacobian/tree/develop-cai), import the `sys` package inside your python console, and call `sys.path.append(<the/path/to/sequence_jacobian>)`. E.g. if you want to run this notebook, you can call `sys.path.append(..)`.\n",
    "3. **Using `conda`**: While `conda` does not have a straightforward way of building from source like `pip`, if you prefer to work within `conda` environments, you can create a `conda` environment and then use `pip` as above to install `sequence-jacobian` within your `conda` environment."
   ]
  },
  {
   "cell_type": "code",
   "execution_count": 17,
   "metadata": {},
   "outputs": [],
   "source": [
    "import numpy as np\n",
    "\n",
    "import sequence_jacobian as sj\n",
    "from sequence_jacobian import simple, het, solved\n",
    "from sequence_jacobian import utilities as utils"
   ]
  },
  {
   "cell_type": "markdown",
   "metadata": {},
   "source": [
    "# 1 How do `Block` objects work?"
   ]
  },
  {
   "cell_type": "markdown",
   "metadata": {},
   "source": [
    "## 1.A `SimpleBlock`"
   ]
  },
  {
   "cell_type": "markdown",
   "metadata": {},
   "source": [
    "The simplest python class that `sequence-jacobian` provides is called the `SimpleBlock`.\n",
    "\n",
    "These blocks are intended for use in defining the model equations that are solely functions of parameters and economy-wide *aggregate* variables as in the following equilibrium conditions from the representative firm problem in the real business cycle model:\n",
    "\n",
    "$$ \n",
    "\\begin{align}\n",
    "r_t + \\delta &= \\alpha Z_t \\left(\\frac{K_{t-1}}{L_t} \\right)^{\\alpha-1} \\\\\n",
    "w_t &= (1-\\alpha) Z_t \\left(\\frac{K_{t-1}}{L_t} \\right)^{\\alpha} \\\\\n",
    "Y_t &= Z_t K_{t-1}^\\alpha L_t^{1 - \\alpha}\n",
    "\\end{align}\n",
    "$$\n",
    "\n",
    "`SimpleBlock`, like the other main `Block` classes, has a few **attributes** that describe its contents:\n",
    "- `inputs`\n",
    "- `outputs`\n",
    "- `.f`\n",
    "\n",
    "A custom **constructor**, in the form of a python decorator, `@simple`.\n",
    "\n",
    "And three main **methods**:\n",
    "- `.ss`, which is used in the steady state computation\n",
    "- `.td`, which is used in the transitional dynamics\n",
    "- `.jac`, which is used in the Jacobian computation"
   ]
  },
  {
   "cell_type": "code",
   "execution_count": 2,
   "metadata": {},
   "outputs": [],
   "source": [
    "@simple\n",
    "def my_first_simple_block(a, b, c):\n",
    "    d = a + b\n",
    "    e = b * c\n",
    "    return d, e"
   ]
  },
  {
   "cell_type": "markdown",
   "metadata": {},
   "source": [
    "The attributes describe what variables `my_first_simple_block` takes as inputs, what variables it outputs, and provide a way to invoke the function it is defined over."
   ]
  },
  {
   "cell_type": "code",
   "execution_count": 3,
   "metadata": {},
   "outputs": [
    {
     "data": {
      "text/plain": [
       "{'a', 'b', 'c'}"
      ]
     },
     "execution_count": 3,
     "metadata": {},
     "output_type": "execute_result"
    }
   ],
   "source": [
    "my_first_simple_block.inputs"
   ]
  },
  {
   "cell_type": "code",
   "execution_count": 4,
   "metadata": {},
   "outputs": [
    {
     "data": {
      "text/plain": [
       "{'d', 'e'}"
      ]
     },
     "execution_count": 4,
     "metadata": {},
     "output_type": "execute_result"
    }
   ],
   "source": [
    "my_first_simple_block.outputs"
   ]
  },
  {
   "cell_type": "code",
   "execution_count": 5,
   "metadata": {},
   "outputs": [
    {
     "data": {
      "text/plain": [
       "<function __main__.my_first_simple_block(a, b, c)>"
      ]
     },
     "execution_count": 5,
     "metadata": {},
     "output_type": "execute_result"
    }
   ],
   "source": [
    "my_first_simple_block.f"
   ]
  },
  {
   "cell_type": "markdown",
   "metadata": {},
   "source": [
    "Hence, we can directly invoke the function that `my_first_simple_block` is defined over as if it were a simple python function"
   ]
  },
  {
   "cell_type": "code",
   "execution_count": 6,
   "metadata": {},
   "outputs": [
    {
     "data": {
      "text/plain": [
       "(3, 6)"
      ]
     },
     "execution_count": 6,
     "metadata": {},
     "output_type": "execute_result"
    }
   ],
   "source": [
    "my_first_simple_block.f(1, 2, 3)"
   ]
  },
  {
   "cell_type": "markdown",
   "metadata": {},
   "source": [
    "Also as seen above, the custom constructor requires no additional arguments and can simply be used by annotating the function on the line above with the decorator `@simple` as is standard in python."
   ]
  },
  {
   "cell_type": "markdown",
   "metadata": {},
   "source": [
    "Because dynamic general equilibrium models are, by definition, *dynamic*, typically the equations that define such models contain time displacements.\n",
    "\n",
    "We can represent the equations $d_t = a_{t+1} + b_t$ and $e_t = b_{t+1} * c_{t-1}$ as the following `SimpleBlock`, using Dynare-like syntax"
   ]
  },
  {
   "cell_type": "code",
   "execution_count": 7,
   "metadata": {},
   "outputs": [],
   "source": [
    "@simple\n",
    "def my_first_dynamic_block(a, b, c):\n",
    "    d = a(1) + b\n",
    "    e = b(1) * c(-1)\n",
    "    return d, e"
   ]
  },
  {
   "cell_type": "markdown",
   "metadata": {},
   "source": [
    "Notice here, we cannot simply invoke `my_first_dynamic_block` as if it were a simple python function because `a(1)` is not standard python syntax. Under the hood, `sequence-jacobian` catches these inputs and wraps them in special classes to handle time displacement prior to invoking the function to capture information relevant for the steady state, jacobian, etc. which we will get to."
   ]
  },
  {
   "cell_type": "code",
   "execution_count": 13,
   "metadata": {},
   "outputs": [
    {
     "name": "stdout",
     "output_type": "stream",
     "text": [
      "Catching the error - `TypeError: 'int' object is not callable`.\n",
      "Generally, don't call the `.f` method directly!\n"
     ]
    }
   ],
   "source": [
    "try:\n",
    "    my_first_dynamic_block.f(1, 2, 3)\n",
    "except TypeError:\n",
    "    print(\"Catching the error - `TypeError: 'int' object is not callable`.\"\n",
    "          \"\\nGenerally, don't call the `.f` method directly!\")"
   ]
  },
  {
   "cell_type": "markdown",
   "metadata": {},
   "source": [
    "The error occurs because the syntax `a(1)` is not valid python syntax, when `a` is a number. In general, we would not advise the user to directly invoke the `.f` attribute but rather work with the main methods of the `SimpleBlock`: `.ss`, `.td`, `.jac`."
   ]
  },
  {
   "cell_type": "markdown",
   "metadata": {},
   "source": [
    "As mentioned above, the main way the user should interface with `SimpleBlock`s directly (which itself will typically be unnecessary once we get to the main functions in the `sequence-jacobian` toolkit) is through the methods `.ss`, `.td`, and `.jac`.\n",
    "\n",
    "These methods utilize the information encoded in the `SimpleBlock` both by the algebraic relationships written in the variable definitions but also in the time displacements, as in `my_first_dynamic_block` above.\n",
    "\n",
    "For example, in `.ss` the dynamic equation $d_t = a_{t+1} + b_t$ would become $d^* = a^* + b^*$, where the $*$ variables indicate their steady state values, whereas in `.td` or `.jac`, the information from the dynamic equation is retained so that transitions or Jacobians are calculated with the correct time displacements.\n",
    "\n",
    "The main functions in the `sequence-jacobian` toolkit provide the main handling of these time displacements, so we will not elaborate on this further here."
   ]
  },
  {
   "cell_type": "markdown",
   "metadata": {},
   "source": [
    "Below are some other examples of more complicated equations contained in `SimpleBlock`s that demonstrate their flexibility.\n",
    "\n",
    "We are also accommodate the use of more arbitrary functions called on the variables that enter into `SimpleBlock`s, with `.apply()` for single argument functions and `apply_function()` for functions with multiple arguments.\n",
    "\n",
    "**Note**: As of now `apply_function()` has more limited functionality, only working within the context of transitional dynamics and *not* Jacobian calculation. Either reference the source code for more information, or otherwise proceed with caution!"
   ]
  },
  {
   "cell_type": "code",
   "execution_count": 9,
   "metadata": {},
   "outputs": [],
   "source": [
    "from sequence_jacobian import apply_function\n",
    "\n",
    "@simple\n",
    "def heres_a_block(a, b, c):\n",
    "    d = (a(-1) ** b)/c\n",
    "    e = -d(+1)\n",
    "    return d, e\n",
    "\n",
    "@simple\n",
    "def heres_another_one(a, b, c):\n",
    "    d = a(-1).apply(np.log)\n",
    "    e = b(+1) + c(+1)\n",
    "    return d, e\n",
    "\n",
    "def foo(a, b, c):\n",
    "    return np.sin(a) + b ** c\n",
    "\n",
    "@simple\n",
    "def and_another(a, b, c):\n",
    "    d = apply_function(foo, a, b, c)\n",
    "    return d\n",
    "\n",
    "# And finally a more realistic one\n",
    "@simple\n",
    "def firm(K, L, Z, alpha, delta):\n",
    "    r = alpha * Z * (K(-1) / L) ** (alpha-1) - delta\n",
    "    w = (1 - alpha) * Z * (K(-1) / L) ** alpha\n",
    "    Y = Z * K(-1) ** alpha * L ** (1 - alpha)\n",
    "    return r, w, Y"
   ]
  },
  {
   "cell_type": "markdown",
   "metadata": {},
   "source": [
    "## 1.B `HetBlock`"
   ]
  },
  {
   "cell_type": "markdown",
   "metadata": {},
   "source": [
    "The next class that `sequence-jacobian` provides is the `HetBlock`. While it is nice to be able to work with aggregate variables, one of the main selling points of the `sequence-jacobian` toolkit is that it provides a fast, general framework for solving heterogeneous agent models. \n",
    "\n",
    "Hence, the `HetBlock` provides a class for building heterogeneous-agent components that are compatible with `SimpleBlock`s to incrementally build up a dynamic general equilibrium model.\n",
    "\n",
    "`HetBlock` shares the same set of primary attributes and methods as `SimpleBlock` but is constructed in a different manner with a few extra ingredients. Let's inspect the following `HetBlock` taken from the `krusell_smith.ipynb` notebook."
   ]
  },
  {
   "cell_type": "code",
   "execution_count": 18,
   "metadata": {},
   "outputs": [],
   "source": [
    "def household_init(a_grid, e_grid, r, w, eis):\n",
    "    coh = (1 + r) * a_grid[np.newaxis, :] + w * e_grid[:, np.newaxis]\n",
    "    Va = (1 + r) * (0.1 * coh) ** (-1 / eis)\n",
    "    return Va\n",
    "\n",
    "\n",
    "@het(exogenous='Pi', policy='a', backward='Va', backward_init=household_init)\n",
    "def household(Va_p, Pi_p, a_grid, e_grid, r, w, beta, eis):\n",
    "    \"\"\"Single backward iteration step using endogenous gridpoint method for households with CRRA utility.\n",
    "    Parameters\n",
    "    ----------\n",
    "    Va_p     : array (S*A), marginal value of assets tomorrow\n",
    "    Pi_p     : array (S*S), Markov matrix for skills tomorrow\n",
    "    a_grid   : array (A), asset grid\n",
    "    e_grid   : array (A), skill grid\n",
    "    r        : scalar, ex-post real interest rate\n",
    "    w        : scalar, wage\n",
    "    beta     : scalar, discount rate today\n",
    "    eis      : scalar, elasticity of intertemporal substitution\n",
    "    Returns\n",
    "    ----------\n",
    "    Va : array (S*A), marginal value of assets today\n",
    "    a  : array (S*A), asset policy today\n",
    "    c  : array (S*A), consumption policy today\n",
    "    \"\"\"\n",
    "    uc_nextgrid = (beta * Pi_p) @ Va_p\n",
    "    c_nextgrid = uc_nextgrid ** (-eis)\n",
    "    coh = (1 + r) * a_grid[np.newaxis, :] + w * e_grid[:, np.newaxis]\n",
    "    a = utils.interpolate.interpolate_y(c_nextgrid + a_grid, coh, a_grid)\n",
    "    utils.optimized_routines.setmin(a, a_grid[0])\n",
    "    c = coh - a\n",
    "    Va = (1 + r) * c ** (-1 / eis)\n",
    "    return Va, a, c"
   ]
  },
  {
   "cell_type": "markdown",
   "metadata": {},
   "source": [
    "The `HetBlock` constructor `@het` wraps the \"backward iteration\" equation, i.e. equation (10) from the paper:\n",
    "\n",
    "$$ \\mathbf{v}_t = \\mathcal{v}(\\mathbf{v}_{t+1}, \\mathbf{X}_t) $$\n",
    "\n",
    "This equation defines the mapping between the value function, $\\mathbf{v}_{t+1}$, and aggregate input variables, $\\mathbf{X}_t$, to the value function $\\mathbf{v}_t$ in the previous period. While there are numerous ways to write this mapping, in the above code we employ the endogenous gridpoint method.\n",
    "\n",
    "Now to describe each of the keyword arguments for `@het`:\n",
    "- **exogenous**: The Markov transition matrix for the evolution of the exogenous, individual-level states. In the above case $e_t$, the skill level of households.\n",
    "- **policy**: The endogenous, individual-level state variable[s]. In the above case $a_t$, the asset holdings of households.\n",
    "- **backward**: The \"value function\" variable on which to perform the backward iteration. In the above case $\\frac{\\partial}{\\partial a} V_{t+1}(a, e)$, the marginal value of assets tomorrow.\n",
    "- **backward_init**: A function mapping variables/parameters to an initial value for the \"value function\" variable to commence backward iteration."
   ]
  },
  {
   "cell_type": "markdown",
   "metadata": {},
   "source": [
    "While  `@het` decorates the backward iteration function, which seems to solely define a mapping between *individual-level* variables, i.e. mapping $\\frac{\\partial}{\\partial a}V_{t+1}(a, e)$ to $\\frac{\\partial}{\\partial a}V_t(a, e)$ and calculating $c_t(a, e)$ and $a^\\prime_t(a, e)$ as byproducts, the `HetBlock` itself should still be thought of as a mapping between *aggregate* variables. \n",
    "\n",
    "**Why?** Recall we have a set of aggregate inputs $\\mathbf{X}_t$, which enter into the backward iteration equation $\\mathbf{v}_t = \\mathcal{v}(\\mathbf{v}_{t+1}, \\mathbf{X}_t)$. After performing the full set of backward iteration evaluations, we then perform a set of forward iterations to evaluate how the distribution of endogenous and exogenous states evolves over time, given by equation (11) from the paper:\n",
    "\n",
    "$$ \\mathbf{D}_{t+1} = \\Lambda(\\mathbf{v}_{t+1}, \\mathbf{X}_t)^\\prime \\mathbf{D}_t $$\n",
    "\n",
    "Finally, we use those distribution values $\\mathbf{D}_t$ to aggregate up the individual-level variables, i.e. with $\\mathcal{y}_t(\\mathbf{v}_{t+1}, \\mathbf{X}_t) := \\{c_t(a, e)$, $a^\\prime_t(a, e)\\}$ we have equation (12) from the paper:\n",
    "\n",
    "$$ \\mathbf{Y}_t = \\mathcal{y}_t(\\mathbf{v}_{t+1}, \\mathbf{X}_t)^\\prime D_t $$\n",
    "\n",
    "Hence because all of this computation is encapsulated within evaluations of the `HetBlock`, we end up with a proper aggregate-to-aggregate mapping $\\mathbf{X}_t \\rightarrow \\mathbf{Y}_t$."
   ]
  },
  {
   "cell_type": "markdown",
   "metadata": {},
   "source": [
    "**For further reading on working with heterogeneous-agent model components**:\n",
    "- See Section 3: Computing Jacobians for heterogeneous-agent problems in the paper for further details on the algorithm embedded inside `HetBlock` evaluations.\n",
    "- See the `het_jacobian.ipynb` notebook for a more in-depth view of the internal computations happening within `HetBlock` evaluations."
   ]
  },
  {
   "cell_type": "markdown",
   "metadata": {},
   "source": [
    "## 1.C `SolvedBlock`"
   ]
  },
  {
   "cell_type": "markdown",
   "metadata": {},
   "source": [
    "Sometimes within the structure of the DAG we can specify a set of equations that constitute a smaller, self-contained DAG. One example of this is the New Keynesian Phillips Curve, which is a `SolvedBlock` in our two-asset heterogeneous agent model."
   ]
  },
  {
   "cell_type": "code",
   "execution_count": 20,
   "metadata": {},
   "outputs": [],
   "source": [
    "@solved(unknowns={'pi': (-0.1, 0.1)}, targets=['nkpc'], solver=\"brentq\")\n",
    "def pricing_solved(pi, mc, r, Y, kappap, mup):\n",
    "    nkpc = kappap * (mc - 1/mup) + Y(+1) / Y * (1 + pi(+1)).apply(np.log) / (1 + r(+1)) - (1 + pi).apply(np.log)\n",
    "    return nkpc\n",
    "\n",
    "@simple\n",
    "def pricing(pi, mc, r, Y, kappap, mup):\n",
    "    nkpc = kappap * (mc - 1/mup) + Y(+1) / Y * (1 + pi(+1)).apply(np.log) / (1 + r(+1)) - (1 + pi).apply(np.log)\n",
    "    return nkpc"
   ]
  },
  {
   "cell_type": "markdown",
   "metadata": {},
   "source": [
    "Here we can solve for inflation, `pi`, to ensure that the target equation, `nkpc`, is satisfied without having to reference equations in other `Block` objects. This is in contrast to specifying the same equation as a `SimpleBlock`, which would require the user to include the unknown `pi` and target `nkpc` at the top level of the DAG with the rest of the unknowns and targets.\n",
    "\n",
    "The advantage of this approach is that it improves computational efficiency by streamlining the DAG evaluation process. For example, instead of asking the root-finding algorithm to solve an $n$-dimensional problem in a DAG without a `SolvedBlock`, the root-finding algorithm would instead only have to solve a reduced problem, where along the evaluation path it would additionally solve the unidimensional root-finding problem provided by the `SolvedBlock`. While it's not absolutely necessary to break out every possible `SolvedBlock` within the DAG, it may improve performance for large-scale models."
   ]
  },
  {
   "cell_type": "markdown",
   "metadata": {},
   "source": [
    "# 2 The main functions of `sequence-jacobian`"
   ]
  },
  {
   "cell_type": "markdown",
   "metadata": {},
   "source": [
    "## 2.A `steady_state`"
   ]
  },
  {
   "cell_type": "markdown",
   "metadata": {},
   "source": []
  }
 ],
 "metadata": {
  "kernelspec": {
   "display_name": "Python 3",
   "language": "python",
   "name": "python3"
  },
  "language_info": {
   "codemirror_mode": {
    "name": "ipython",
    "version": 3
   },
   "file_extension": ".py",
   "mimetype": "text/x-python",
   "name": "python",
   "nbconvert_exporter": "python",
   "pygments_lexer": "ipython3",
   "version": "3.7.4"
  }
 },
 "nbformat": 4,
 "nbformat_minor": 2
}
