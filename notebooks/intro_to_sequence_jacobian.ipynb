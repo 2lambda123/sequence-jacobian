{
 "cells": [
  {
   "cell_type": "markdown",
   "metadata": {},
   "source": [
    "# An introduction to the `sequence-jacobian` toolkit\n",
    "\n",
    "## NOTE: This notebook is outdated with the development of the new `sequence-jacobian` API. Please refer to the other notebooks as of now.\n",
    "\n",
    "This notebook serves as an introduction to the `sequence-jacobian` toolkit and the classes and main functions it provides for solving dynamic general equilibrium models in sequence space.\n",
    "\n",
    "This introduction will cover the following topics:\n",
    "0. `sequence-jacobian` preliminaries\n",
    "    - The `sequence-jacobian` toolkit directory structure\n",
    "    - Importing `sequence-jacobian`\n",
    "1. How do `Block` objects work?\n",
    "    1. `SimpleBlock`\n",
    "    2. `HetBlock`\n",
    "    3. `SolvedBlock`\n",
    "2. The primary functions of `sequence-jacobian`\n",
    "    - `steady_state`\n",
    "    - `get_G`\n",
    "    - `td_solve`\n",
    "\n",
    "The notebook accompanies the working paper by Auclert, Bardóczy, Rognlie, Straub (2019): \"Using the Sequence-Space Jacobian to Solve and Estimate Heterogeneous-Agent Models\". Please see the [Github repository](https://github.com/shade-econ/sequence-jacobian) for more information and code.\n",
    "\n",
    "Also, this notebook borrows material from the other model example notebooks so be sure to check out them out to see a more complete model solution workflow using `sequence-jacobian`."
   ]
  },
  {
   "cell_type": "markdown",
   "metadata": {},
   "source": [
    "# `sequence-jacobian` preliminaries"
   ]
  },
  {
   "cell_type": "markdown",
   "metadata": {},
   "source": [
    "##  0.1 The `sequence-jacobian' directory structure "
   ]
  },
  {
   "cell_type": "markdown",
   "metadata": {},
   "source": [
    "We will only illustrate a smaller subset of the directory structure for the sake of clarity."
   ]
  },
  {
   "cell_type": "markdown",
   "metadata": {},
   "source": [
    "```\n",
    "sequence-jacobian/\n",
    "│\n",
    "├──notebooks/\n",
    "│  ├─ intro_to_sequence_jacobian.ipynb\n",
    "│  └─ rbc.ipynb\n",
    "│  \n",
    "└──sequence_jacobian/\n",
    "   ├─ blocks/\n",
    "   │    ├─ simple\n",
    "   │    ├─ het\n",
    "   │    ├─ helper\n",
    "   │    └─ solved\n",
    "   │\n",
    "   ├─ models/\n",
    "   │    ├─ rbc\n",
    "   │    ├─ krusell_smith\n",
    "   │    └─ hank\n",
    "   │\n",
    "   ├─ utilities/\n",
    "   │    ├─ discretize\n",
    "   │    ├─ graph\n",
    "   │    └─ devtools\n",
    "   │\n",
    "   ├─ jacobian\n",
    "   ├─ nonlinear\n",
    "   └─ steady_state\n",
    "```"
   ]
  },
  {
   "cell_type": "markdown",
   "metadata": {},
   "source": [
    "The `sequence-jacobian` repository contains a few directories at the top-level.\n",
    "\n",
    "The notable ones for the purposes of this introduction are:\n",
    "- `notebooks`: where example notebooks demonstrate the `sequence-jacobian` functionality on well-known models\n",
    "- `sequence_jacobian`: the main python package containing the source code.\n",
    "\n",
    "Within `sequence_jacobian`, we have:\n",
    "- Modules implementing the main steps of the solution method: `jacobian`, `nonlinear`, `steady_state`\n",
    "- Sub-directories containing:\n",
    "    - `blocks`: definitions of the various `Block` objects, which wrap model equations\n",
    "    - `models`: implemented models as collections of `Block` objects\n",
    "    - `utilities`: useful functions that support user in debugging their code and that improve workflow within the `sequence-jacobian` source code"
   ]
  },
  {
   "cell_type": "markdown",
   "metadata": {},
   "source": [
    "##  0.2 Importing the `sequence-jacobian` code"
   ]
  },
  {
   "cell_type": "markdown",
   "metadata": {},
   "source": [
    "There are a few different routes to importing the `sequence_jacobian` package properly. Depending on your desired environment or what you find convenient, make sure you follow one of these procedures first, or else the `sequence_jacobian` package will not load properly for you:\n",
    "\n",
    "1. **(Recommended) Using `pip`**: You can install `sequence-jacobian` using `pip`, python's native package-management system, by executing the following command in your python console with `pip` loaded: `pip install git+https://github.com/shade-econ/sequence-jacobian@develop-cai`. Alternatively you can append `python -m ` to the front of that command and execute it directly in the terminal.\n",
    "2. **Using sys.path.append()**: You can directly clone the `sequence-jacobian` repository from Github [here](https://github.com/shade-econ/sequence-jacobian/tree/develop-cai), import the `sys` package inside your python console, and call `sys.path.append(<the/path/to/sequence_jacobian>)`. E.g. if you want to run this notebook, you can call `sys.path.append(..)`.\n",
    "3. **Using `conda`**: While `conda` does not have a straightforward way of building from source like `pip`, if you prefer to work within `conda` environments, you can create a `conda` environment and then use `pip` as above to install `sequence-jacobian` within your `conda` environment."
   ]
  },
  {
   "cell_type": "code",
   "execution_count": 1,
   "metadata": {},
   "outputs": [],
   "source": [
    "import numpy as np\n",
    "import matplotlib.pyplot as plt\n",
    "\n",
    "from sequence_jacobian import simple, het, solved, steady_state, get_G, td_solve\n",
    "from sequence_jacobian import utilities as utils"
   ]
  },
  {
   "cell_type": "markdown",
   "metadata": {},
   "source": [
    "# 1 How do `Block` objects work?"
   ]
  },
  {
   "cell_type": "markdown",
   "metadata": {},
   "source": [
    "The first step of solving a model is to come up with a \"Directed Acyclic Graph\" (**DAG**) representation for it and specify its building `Block`s.\n",
    "\n",
    "`Block` objects are collections of the model's equilibrium conditions, typically grouped as the conceptual pieces of the model, e.g. firm problem, household problem, market clearing conditions. Each `Block` takes a set of parameters and variables as inputs and produces another set as outputs.\n",
    "\n",
    "A model's equilibrium conditions and associated unknown variables can be re-written as a directed acyclic graph (DAG) of `Block`s, whose structure can be exploited for fast computing the model's steady state and solving for linear and non-linear dynamic responses of endogenous variables to shocks."
   ]
  },
  {
   "cell_type": "markdown",
   "metadata": {},
   "source": [
    "## 1.A `SimpleBlock`"
   ]
  },
  {
   "cell_type": "markdown",
   "metadata": {},
   "source": [
    "The simplest python class that `sequence-jacobian` provides is called the `SimpleBlock`.\n",
    "\n",
    "These blocks are intended for use in defining the model equations that are solely functions of parameters and economy-wide *aggregate* variables as in the following equilibrium conditions from the representative firm problem in the real business cycle model:\n",
    "\n",
    "$$ \n",
    "\\begin{align}\n",
    "r_t + \\delta &= \\alpha Z_t \\left(\\frac{K_{t-1}}{L_t} \\right)^{\\alpha-1} \\\\\n",
    "w_t &= (1-\\alpha) Z_t \\left(\\frac{K_{t-1}}{L_t} \\right)^{\\alpha} \\\\\n",
    "Y_t &= Z_t K_{t-1}^\\alpha L_t^{1 - \\alpha}\n",
    "\\end{align}\n",
    "$$\n",
    "\n",
    "`SimpleBlock`, like the other main `Block` classes, has a few **attributes** that describe its contents:\n",
    "- `inputs`\n",
    "- `outputs`\n",
    "- `.f`\n",
    "\n",
    "A custom **constructor**, in the form of a python decorator, `@simple`.\n",
    "\n",
    "And three main **methods**:\n",
    "- `.ss`, which is used in the steady state computation\n",
    "- `.td`, which is used in the transitional dynamics\n",
    "- `.jac`, which is used in the Jacobian computation"
   ]
  },
  {
   "cell_type": "code",
   "execution_count": 2,
   "metadata": {},
   "outputs": [],
   "source": [
    "@simple\n",
    "def my_first_simple_block(a, b, c):\n",
    "    d = a + b\n",
    "    e = b * c\n",
    "    return d, e"
   ]
  },
  {
   "cell_type": "markdown",
   "metadata": {},
   "source": [
    "The attributes describe what variables `my_first_simple_block` takes as inputs, what variables it outputs, and provide a way to invoke the function it is defined over."
   ]
  },
  {
   "cell_type": "code",
   "execution_count": 3,
   "metadata": {},
   "outputs": [
    {
     "data": {
      "text/plain": [
       "{'a', 'b', 'c'}"
      ]
     },
     "execution_count": 3,
     "metadata": {},
     "output_type": "execute_result"
    }
   ],
   "source": [
    "my_first_simple_block.inputs"
   ]
  },
  {
   "cell_type": "code",
   "execution_count": 4,
   "metadata": {},
   "outputs": [
    {
     "data": {
      "text/plain": [
       "{'d', 'e'}"
      ]
     },
     "execution_count": 4,
     "metadata": {},
     "output_type": "execute_result"
    }
   ],
   "source": [
    "my_first_simple_block.outputs"
   ]
  },
  {
   "cell_type": "code",
   "execution_count": 5,
   "metadata": {},
   "outputs": [
    {
     "data": {
      "text/plain": [
       "<function __main__.my_first_simple_block(a, b, c)>"
      ]
     },
     "execution_count": 5,
     "metadata": {},
     "output_type": "execute_result"
    }
   ],
   "source": [
    "my_first_simple_block.f"
   ]
  },
  {
   "cell_type": "markdown",
   "metadata": {},
   "source": [
    "Hence, we can directly invoke the function that `my_first_simple_block` is defined over as if it were a simple python function"
   ]
  },
  {
   "cell_type": "code",
   "execution_count": 6,
   "metadata": {},
   "outputs": [
    {
     "data": {
      "text/plain": [
       "(3, 6)"
      ]
     },
     "execution_count": 6,
     "metadata": {},
     "output_type": "execute_result"
    }
   ],
   "source": [
    "my_first_simple_block.f(1, 2, 3)"
   ]
  },
  {
   "cell_type": "markdown",
   "metadata": {},
   "source": [
    "Also as seen above, the custom constructor requires no additional arguments and can simply be used by annotating the function on the line above with the decorator `@simple` as is standard in python."
   ]
  },
  {
   "cell_type": "markdown",
   "metadata": {},
   "source": [
    "Because dynamic general equilibrium models are, by definition, *dynamic*, typically the equations that define such models contain time displacements.\n",
    "\n",
    "We can represent the equations $d_t = a_{t+1} + b_t$ and $e_t = b_{t+1} * c_{t-1}$ as the following `SimpleBlock`, using Dynare-like syntax"
   ]
  },
  {
   "cell_type": "code",
   "execution_count": 7,
   "metadata": {},
   "outputs": [],
   "source": [
    "@simple\n",
    "def my_first_dynamic_block(a, b, c):\n",
    "    d = a(1) + b\n",
    "    e = b(1) * c(-1)\n",
    "    return d, e"
   ]
  },
  {
   "cell_type": "markdown",
   "metadata": {},
   "source": [
    "Notice here, we cannot simply invoke `my_first_dynamic_block` as if it were a simple python function because `a(1)` is not standard python syntax. Under the hood, `sequence-jacobian` catches these inputs and wraps them in special classes to handle time displacement prior to invoking the function to capture information relevant for the steady state, jacobian, etc. which we will get to."
   ]
  },
  {
   "cell_type": "code",
   "execution_count": 8,
   "metadata": {},
   "outputs": [
    {
     "name": "stdout",
     "output_type": "stream",
     "text": [
      "Catching the error - `TypeError: 'int' object is not callable`.\n",
      "Generally, don't call the `.f` method directly!\n"
     ]
    }
   ],
   "source": [
    "try:\n",
    "    my_first_dynamic_block.f(1, 2, 3)\n",
    "except TypeError:\n",
    "    print(\"Catching the error - `TypeError: 'int' object is not callable`.\"\n",
    "          \"\\nGenerally, don't call the `.f` method directly!\")"
   ]
  },
  {
   "cell_type": "markdown",
   "metadata": {},
   "source": [
    "The error occurs because the syntax `a(1)` is not valid python syntax, when `a` is a number. In general, we would not advise the user to directly invoke the `.f` attribute but rather work with the main methods of the `SimpleBlock`: `.ss`, `.td`, `.jac`."
   ]
  },
  {
   "cell_type": "markdown",
   "metadata": {},
   "source": [
    "As mentioned above, the main way the user should interface with `SimpleBlock`s directly (which itself will typically be unnecessary once we get to the main functions in the `sequence-jacobian` toolkit) is through the methods `.ss`, `.td`, and `.jac`.\n",
    "\n",
    "These methods utilize the information encoded in the `SimpleBlock` both by the algebraic relationships written in the variable definitions but also in the time displacements, as in `my_first_dynamic_block` above.\n",
    "\n",
    "For example, in `.ss` the dynamic equation $d_t = a_{t+1} + b_t$ would become $d^* = a^* + b^*$, where the $*$ variables indicate their steady state values, whereas in `.td` or `.jac`, the information from the dynamic equation is retained so that transitions or Jacobians are calculated with the correct time displacements.\n",
    "\n",
    "The main functions in the `sequence-jacobian` toolkit provide the main handling of these time displacements, so we will not elaborate on this further here."
   ]
  },
  {
   "cell_type": "markdown",
   "metadata": {},
   "source": [
    "Below are some other examples of more complicated equations contained in `SimpleBlock`s that demonstrate their flexibility.\n",
    "\n",
    "We are also accommodate the use of more arbitrary functions called on the variables that enter into `SimpleBlock`s, with `.apply()` for single argument functions and `apply_function()` for functions with multiple arguments.\n",
    "\n",
    "**Note**: As of now `apply_function()` has more limited functionality, only working within the context of transitional dynamics and *not* Jacobian calculation. Either reference the source code for more information, or otherwise proceed with caution!"
   ]
  },
  {
   "cell_type": "code",
   "execution_count": 9,
   "metadata": {},
   "outputs": [],
   "source": [
    "from sequence_jacobian import apply_function\n",
    "\n",
    "@simple\n",
    "def heres_a_block(a, b, c):\n",
    "    d = (a(-1) ** b)/c\n",
    "    e = -d(+1)\n",
    "    return d, e\n",
    "\n",
    "@simple\n",
    "def heres_another_one(a, b, c):\n",
    "    d = a(-1).apply(np.log)\n",
    "    e = b(+1) + c(+1)\n",
    "    return d, e\n",
    "\n",
    "def foo(a, b, c):\n",
    "    return np.sin(a) + b ** c\n",
    "\n",
    "@simple\n",
    "def and_another(a, b, c):\n",
    "    d = apply_function(foo, a, b, c)\n",
    "    return d\n",
    "\n",
    "# And finally a more realistic one\n",
    "@simple\n",
    "def firm(K, L, Z, alpha, delta):\n",
    "    r = alpha * Z * (K(-1) / L) ** (alpha-1) - delta\n",
    "    w = (1 - alpha) * Z * (K(-1) / L) ** alpha\n",
    "    Y = Z * K(-1) ** alpha * L ** (1 - alpha)\n",
    "    return r, w, Y"
   ]
  },
  {
   "cell_type": "markdown",
   "metadata": {},
   "source": [
    "## 1.B `HetBlock`"
   ]
  },
  {
   "cell_type": "markdown",
   "metadata": {},
   "source": [
    "The next class that `sequence-jacobian` provides is the `HetBlock`. While it is nice to be able to work with aggregate variables, one of the main selling points of the `sequence-jacobian` toolkit is that it provides a fast, general framework for solving heterogeneous agent models. \n",
    "\n",
    "Hence, the `HetBlock` provides a class for building heterogeneous-agent components that are compatible with `SimpleBlock`s to incrementally build up a dynamic general equilibrium model.\n",
    "\n",
    "`HetBlock` shares the same set of primary attributes and methods as `SimpleBlock` but is constructed in a different manner with a few extra ingredients. Let's inspect the following `HetBlock` taken from the `krusell_smith.ipynb` notebook."
   ]
  },
  {
   "cell_type": "code",
   "execution_count": 10,
   "metadata": {},
   "outputs": [],
   "source": [
    "def household_init(a_grid, e_grid, r, w, eis):\n",
    "    coh = (1 + r) * a_grid[np.newaxis, :] + w * e_grid[:, np.newaxis]\n",
    "    Va = (1 + r) * (0.1 * coh) ** (-1 / eis)\n",
    "    return Va\n",
    "\n",
    "\n",
    "@het(exogenous='Pi', policy='a', backward='Va', backward_init=household_init)\n",
    "def household(Va_p, Pi_p, a_grid, e_grid, r, w, beta, eis):\n",
    "    \"\"\"Single backward iteration step using endogenous gridpoint method for households with CRRA utility.\n",
    "    Parameters\n",
    "    ----------\n",
    "    Va_p     : array (S*A), marginal value of assets tomorrow\n",
    "    Pi_p     : array (S*S), Markov matrix for skills tomorrow\n",
    "    a_grid   : array (A), asset grid\n",
    "    e_grid   : array (A), skill grid\n",
    "    r        : scalar, ex-post real interest rate\n",
    "    w        : scalar, wage\n",
    "    beta     : scalar, discount rate today\n",
    "    eis      : scalar, elasticity of intertemporal substitution\n",
    "    Returns\n",
    "    ----------\n",
    "    Va : array (S*A), marginal value of assets today\n",
    "    a  : array (S*A), asset policy today\n",
    "    c  : array (S*A), consumption policy today\n",
    "    \"\"\"\n",
    "    uc_nextgrid = (beta * Pi_p) @ Va_p\n",
    "    c_nextgrid = uc_nextgrid ** (-eis)\n",
    "    coh = (1 + r) * a_grid[np.newaxis, :] + w * e_grid[:, np.newaxis]\n",
    "    a = utils.interpolate.interpolate_y(c_nextgrid + a_grid, coh, a_grid)\n",
    "    utils.optimized_routines.setmin(a, a_grid[0])\n",
    "    c = coh - a\n",
    "    Va = (1 + r) * c ** (-1 / eis)\n",
    "    return Va, a, c"
   ]
  },
  {
   "cell_type": "markdown",
   "metadata": {},
   "source": [
    "The `HetBlock` constructor `@het` wraps the \"backward iteration\" equation, i.e. equation (10) from the paper:\n",
    "\n",
    "$$ \\mathbf{v}_t = \\mathcal{v}(\\mathbf{v}_{t+1}, \\mathbf{X}_t) $$\n",
    "\n",
    "This equation defines the mapping between the value function, $\\mathbf{v}_{t+1}$, and aggregate input variables, $\\mathbf{X}_t$, to the value function $\\mathbf{v}_t$ in the previous period. While there are numerous ways to write this mapping, in the above code we employ the endogenous gridpoint method.\n",
    "\n",
    "Now to describe each of the keyword arguments for `@het`:\n",
    "- **exogenous**: The Markov transition matrix for the evolution of the exogenous, individual-level states. In the above case $e_t$, the skill level of households.\n",
    "- **policy**: The endogenous, individual-level state variable[s]. In the above case $a_t$, the asset holdings of households.\n",
    "- **backward**: The \"value function\" variable on which to perform the backward iteration. In the above case $\\frac{\\partial}{\\partial a} V_{t+1}(a, e)$, the marginal value of assets tomorrow.\n",
    "- **backward_init**: A function mapping variables/parameters to an initial value for the \"value function\" variable to commence backward iteration."
   ]
  },
  {
   "cell_type": "markdown",
   "metadata": {},
   "source": [
    "While  `@het` decorates the backward iteration function, which seems to solely define a mapping between *individual-level* variables, i.e. mapping $\\frac{\\partial}{\\partial a}V_{t+1}(a, e)$ to $\\frac{\\partial}{\\partial a}V_t(a, e)$ and calculating $c_t(a, e)$ and $a^\\prime_t(a, e)$ as byproducts, the `HetBlock` itself should still be thought of as a mapping between *aggregate* variables. \n",
    "\n",
    "**Why?** Recall we have a set of aggregate inputs $\\mathbf{X}_t$, which enter into the backward iteration equation $\\mathbf{v}_t = \\mathcal{v}(\\mathbf{v}_{t+1}, \\mathbf{X}_t)$. After performing the full set of backward iteration evaluations, we then perform a set of forward iterations to evaluate how the distribution of endogenous and exogenous states evolves over time, given by equation (11) from the paper:\n",
    "\n",
    "$$ \\mathbf{D}_{t+1} = \\Lambda(\\mathbf{v}_{t+1}, \\mathbf{X}_t)^\\prime \\mathbf{D}_t $$\n",
    "\n",
    "Finally, we use those distribution values $\\mathbf{D}_t$ to aggregate up the individual-level variables, i.e. with $\\mathcal{y}_t(\\mathbf{v}_{t+1}, \\mathbf{X}_t) := \\{c_t(a, e)$, $a^\\prime_t(a, e)\\}$ we have equation (12) from the paper:\n",
    "\n",
    "$$ \\mathbf{Y}_t = \\mathcal{y}_t(\\mathbf{v}_{t+1}, \\mathbf{X}_t)^\\prime D_t $$\n",
    "\n",
    "Hence because all of this computation is encapsulated within evaluations of the `HetBlock`, we end up with a proper aggregate-to-aggregate mapping $\\mathbf{X}_t \\rightarrow \\mathbf{Y}_t$."
   ]
  },
  {
   "cell_type": "markdown",
   "metadata": {},
   "source": [
    "**For further reading on working with heterogeneous-agent model components**:\n",
    "- See Section 3: Computing Jacobians for heterogeneous-agent problems in the paper for further details on the algorithm embedded inside `HetBlock` evaluations.\n",
    "- See the `het_jacobian.ipynb` notebook for a more in-depth view of the internal computations happening within `HetBlock` evaluations."
   ]
  },
  {
   "cell_type": "markdown",
   "metadata": {},
   "source": [
    "## 1.C `SolvedBlock`"
   ]
  },
  {
   "cell_type": "markdown",
   "metadata": {},
   "source": [
    "Sometimes within the structure of the directed acyclic graph (DAG) we can specify a set of equations that constitute a smaller, self-contained DAG. One example of this is the New Keynesian Phillips Curve, which is a `SolvedBlock` in our two-asset heterogeneous agent model."
   ]
  },
  {
   "cell_type": "code",
   "execution_count": 11,
   "metadata": {},
   "outputs": [],
   "source": [
    "@solved(unknowns={'pi': (-0.1, 0.1)}, targets=['nkpc'], solver=\"brentq\")\n",
    "def pricing_solved(pi, mc, r, Y, kappap, mup):\n",
    "    nkpc = kappap * (mc - 1/mup) + Y(+1) / Y * (1 + pi(+1)).apply(np.log) / (1 + r(+1)) - (1 + pi).apply(np.log)\n",
    "    return nkpc\n",
    "\n",
    "@simple\n",
    "def pricing(pi, mc, r, Y, kappap, mup):\n",
    "    nkpc = kappap * (mc - 1/mup) + Y(+1) / Y * (1 + pi(+1)).apply(np.log) / (1 + r(+1)) - (1 + pi).apply(np.log)\n",
    "    return nkpc"
   ]
  },
  {
   "cell_type": "markdown",
   "metadata": {},
   "source": [
    "Here we can solve for inflation, `pi`, to ensure that the target equation, `nkpc`, is satisfied without having to reference equations in other `Block` objects. This is in contrast to specifying the same equation as a `SimpleBlock`, which would require the user to include the unknown `pi` and target `nkpc` at the top level of the DAG with the rest of the unknowns and targets.\n",
    "\n",
    "The advantage of this approach is that it improves computational efficiency by streamlining the DAG evaluation process. For example, instead of asking the root-finding algorithm to solve an $n$-dimensional problem in a DAG without a `SolvedBlock`, the root-finding algorithm would instead only have to solve a reduced problem, where along the evaluation path it would additionally solve the unidimensional root-finding problem provided by the `SolvedBlock`. While it's not absolutely necessary to break out every possible `SolvedBlock` within the DAG, it may improve performance for large-scale models."
   ]
  },
  {
   "cell_type": "markdown",
   "metadata": {},
   "source": [
    "# 2 The main functions of `sequence-jacobian`"
   ]
  },
  {
   "cell_type": "markdown",
   "metadata": {},
   "source": [
    "## 2.A `steady_state`"
   ]
  },
  {
   "cell_type": "markdown",
   "metadata": {},
   "source": [
    "### Steady state with a standard DAG"
   ]
  },
  {
   "cell_type": "markdown",
   "metadata": {},
   "source": [
    "For a given DAG, `steady_state` solves for the steady state of a model. Although it is not required for users to use `steady_state` in order to utilize the other functions provided by the `sequence-jacobian` toolkit, it may be convenient to do so since the primary functions in `sequence-jacobian` require the basically the same set of arguments.\n",
    "\n",
    "Consider the following set of `Block` objects that contain the equilibrium conditions for the standard real business cycle (RBC) model."
   ]
  },
  {
   "cell_type": "code",
   "execution_count": 12,
   "metadata": {},
   "outputs": [],
   "source": [
    "@simple\n",
    "def rbc_firm(K, L, Z, alpha, delta):\n",
    "    r = alpha * Z * (K(-1) / L) ** (alpha-1) - delta\n",
    "    w = (1 - alpha) * Z * (K(-1) / L) ** alpha\n",
    "    Y = Z * K(-1) ** alpha * L ** (1 - alpha)\n",
    "    return r, w, Y\n",
    "\n",
    "@simple\n",
    "def rbc_household(K, L, w, eis, frisch, vphi, delta):\n",
    "    C = (w / vphi / L ** (1 / frisch)) ** eis\n",
    "    I = K - (1 - delta) * K(-1)\n",
    "    return C, I\n",
    "\n",
    "@simple\n",
    "def rbc_mkt_clearing(r, C, Y, I, K, L, w, eis, beta):\n",
    "    goods_mkt = Y - C - I\n",
    "    euler = C ** (-1 / eis) - beta * (1 + r(+1)) * C(+1) ** (-1 / eis)\n",
    "    walras = C + K - (1 + r) * K(-1) - w * L\n",
    "    return goods_mkt, euler, walras"
   ]
  },
  {
   "cell_type": "markdown",
   "metadata": {},
   "source": [
    "Here we would like to calibrate the steady state such that output $Y$ is normalized to 1, and the euler equation and goods market clearing hold. Given we have three calibration `target` variables, we need three free or `unknown` variables to hit those targets. Beyond that, we might like to specify some fixed variables or parameters in steady state, which we can specify in the `calibration` dictionary.\n",
    "\n",
    "Once we have provided all of these arguments to `steady_state` and specified which root-finding algorithm we would like it to use in the keyword argument `solver`, it will solve for the steady state of the DAG."
   ]
  },
  {
   "cell_type": "code",
   "execution_count": 13,
   "metadata": {},
   "outputs": [],
   "source": [
    "# Solving for the steady state as a standard DAG\n",
    "rbc_calibration = {\"L\": 1., \"r\": 0.01, \"eis\": 1., \"frisch\": 1., \"delta\": 0.025, \"alpha\": 0.11, \"beta\": 1/(1 + 0.01)}\n",
    "rbc_blocks = [rbc_household, rbc_firm, rbc_mkt_clearing]\n",
    "rbc_ss_unknowns = {\"vphi\": 0.9, \"K\": 2., \"Z\": 1.}\n",
    "rbc_ss_targets = {\"euler\": 0., \"goods_mkt\": 0., \"Y\": 1.}\n",
    "rbc_ss = steady_state(rbc_blocks, rbc_calibration, rbc_ss_unknowns, rbc_ss_targets, solver=\"broyden_custom\")"
   ]
  },
  {
   "cell_type": "markdown",
   "metadata": {},
   "source": [
    "### Steady state with an analytical solution-augmented DAG\n",
    "\n",
    "In this alternative way of solving for the steady state we will make use of a new kind of block called a `HelperBlock`, whose purpose is to provide a more flexible way of using the sequence-jacobian toolkit to calibrate a model's steady state. \n",
    "\n",
    "A `HelperBlock` works identically to the `SimpleBlock`s that we constructed above using the decorator `@simple` for the end-user, but using the decorator `@helper` instead. Under the hood the sequence-jacobian toolkit handles them differently when the blocks are sorted/used outside of the steady state.\n",
    "\n",
    "In the case of the RBC model, given our choice of fixed $r = 0.01$, normalizing to $Y = 1$ lets us provide a *complete* analytical characterization of the steady state. In steps: we choose the discount rate $\\beta$ to hit a given real interest rate $r$, the disutility of labor $\\varphi$ to hit labor $L=1$, and normalize TFP $Z$ to get output $Y=1$."
   ]
  },
  {
   "cell_type": "code",
   "execution_count": 14,
   "metadata": {},
   "outputs": [],
   "source": [
    "from sequence_jacobian import helper\n",
    "\n",
    "@helper\n",
    "def rbc_steady_state_solution(r, eis, delta, alpha):\n",
    "    rk = r + delta\n",
    "    Z = (rk / alpha) ** alpha  # normalize so that Y=1\n",
    "    K = (alpha * Z / rk) ** (1 / (1 - alpha))\n",
    "    Y = Z * K ** alpha\n",
    "    w = (1 - alpha) * Z * K ** alpha\n",
    "    I = delta * K\n",
    "    C = Y - I\n",
    "    beta = 1 / (1 + r)\n",
    "    vphi = w * C ** (-1 / eis)\n",
    "\n",
    "    return Z, K, Y, w, I, C, beta, vphi"
   ]
  },
  {
   "cell_type": "markdown",
   "metadata": {},
   "source": [
    "Because the solution is entirely analytical it is not necessary to include any `unknown`s. Also, we can specify `solver=\"solved\"` to avoid using a root-finding algorithm. However, given the present structure of the code, we still require that you provide some target values to verify that the steady state given by the analytical solution indeed produces one that satisfies some set of target equations, like the euler equation, goods market clearing, or Walras' Law, as a gut-check to ensure we don't proceed forward with something we don't want!\n",
    "\n",
    "Also, if all of your targets are implicit functions, i.e. you want to target their values equal to 0, you can use a list of their names instead of a dict(ionary)."
   ]
  },
  {
   "cell_type": "code",
   "execution_count": 15,
   "metadata": {},
   "outputs": [],
   "source": [
    "rbc_calibration_helper = {\"L\": 1., \"r\": 0.01, \"eis\": 1., \"frisch\": 1., \"delta\": 0.025, \"alpha\": 0.11}\n",
    "rbc_blocks_helper = [rbc_household, rbc_firm, rbc_mkt_clearing, rbc_steady_state_solution]\n",
    "rbc_ss_unknowns_helper = {}\n",
    "rbc_ss_targets_helper = [\"euler\", \"goods_mkt\"]\n",
    "rbc_ss_helper = steady_state(rbc_blocks_helper, rbc_calibration_helper, rbc_ss_unknowns_helper, rbc_ss_targets_helper, solver=\"solved\")"
   ]
  },
  {
   "cell_type": "code",
   "execution_count": 16,
   "metadata": {},
   "outputs": [
    {
     "data": {
      "text/plain": [
       "{'L': 1.0,\n",
       " 'r': 0.009999999999999995,\n",
       " 'eis': 1.0,\n",
       " 'frisch': 1.0,\n",
       " 'delta': 0.025,\n",
       " 'alpha': 0.11,\n",
       " 'Z': 0.8816460975214567,\n",
       " 'K': 3.1428571428571432,\n",
       " 'Y': 1.0,\n",
       " 'w': 0.8900000000000001,\n",
       " 'I': 0.07857142857142874,\n",
       " 'C': 0.9214285714285713,\n",
       " 'beta': 0.9900990099009901,\n",
       " 'vphi': 0.9658914728682173,\n",
       " 'euler': 0.0,\n",
       " 'goods_mkt': 0.0,\n",
       " 'walras': 0.0}"
      ]
     },
     "execution_count": 16,
     "metadata": {},
     "output_type": "execute_result"
    }
   ],
   "source": [
    "rbc_ss_helper"
   ]
  },
  {
   "cell_type": "markdown",
   "metadata": {},
   "source": [
    "**Gut Check**: To verify that this steady state delivers the same thing that we got from computing it along the standard DAG, we can use one of the developer tools provided in `sequence-jacobian`."
   ]
  },
  {
   "cell_type": "code",
   "execution_count": 17,
   "metadata": {},
   "outputs": [
    {
     "name": "stdout",
     "output_type": "stream",
     "text": [
      "L resid: 0.0\n",
      "r resid: 9.327198735586961e-12\n",
      "eis resid: 0.0\n",
      "frisch resid: 0.0\n",
      "delta resid: 0.0\n",
      "alpha resid: 0.0\n",
      "beta resid: 0.0\n",
      "vphi resid: 5.6993409991434874e-11\n",
      "K resid: 7.346452335355025e-10\n",
      "Z resid: 5.1535109513167754e-11\n",
      "w resid: 2.913902452661432e-11\n",
      "Y resid: 3.274069904080079e-11\n",
      "I resid: 1.836619745176904e-11\n",
      "C resid: 2.4201751713803787e-11\n",
      "euler resid: 1.0022205287896213e-11\n",
      "goods_mkt resid: 7.530864820637362e-11\n",
      "walras resid: 7.530831513946623e-11\n"
     ]
    }
   ],
   "source": [
    "import sequence_jacobian.utilities.devtools as dtools\n",
    "\n",
    "dtools.compare_steady_states(rbc_ss, rbc_ss_helper)"
   ]
  },
  {
   "cell_type": "markdown",
   "metadata": {},
   "source": [
    "It checks out!"
   ]
  },
  {
   "cell_type": "markdown",
   "metadata": {},
   "source": [
    "### Steady state in the general case\n",
    "\n",
    "In practice, your own steady state workflow will likely be somewhere in between the two cases previously described. To compute the steady state it may be easy to analytically solve some portions of the model, but other portions may only be numerically computable, specified as a set of unknowns and targets within a DAG. This may also be desirable for performance reasons, since typically computing a portion of the DAG analytically is less costly than providing the root-finding algorithm with an additional dimension to solve.\n",
    "\n",
    "Thankfully, any combination of the above two methods is permissible in the `sequence-jacobian` toolkit. You need only provide the analytical solution component specific to the steady state as a `HelperBlock` in the standard list of blocks, specify your unknowns and targets, and call `steady_state`! You don't even need to swap out the `HelperBlock` from the list of blocks when computing general equilibrium Jacobians or computing non-linear transition dynamics."
   ]
  },
  {
   "cell_type": "markdown",
   "metadata": {},
   "source": [
    "## 2.B `get_G`"
   ]
  },
  {
   "cell_type": "markdown",
   "metadata": {},
   "source": [
    "Once a steady state for the model is obtained, `get_G` supplies the general equilibrium Jacobian, which defines the linearized impulse responses of any set of endogenous variables `dY` to any set of exogenous shocks `dZ`.\n",
    "\n",
    "Several other notebooks, including `rbc.ipynb`, `krusell_smith.ipynb`, and `hank.ipynb`, go into further details of what is happening under the hood when `get_G` is called, so it should suffice to simply reiterate how `get_G` is used in each of these model contexts here."
   ]
  },
  {
   "cell_type": "markdown",
   "metadata": {},
   "source": [
    "### Introducing the `JacobianDict` class"
   ]
  },
  {
   "cell_type": "markdown",
   "metadata": {},
   "source": [
    "For the sake of explanation let us consider the following DAG, which represents the RBC model.\n",
    "\n",
    "![Directed Acyclic Graph for RBC model](../figures/rbc_dag.png)\n",
    "\n",
    "We can call `get_G` on the list of `Block` objects and specify the `exogenous`, `unknown`, `target` variables that collectively  constitute this DAG, and additionaly provide the length of time by which the variables deviate from their steady state values, `T`, and the steady state values, `ss`, to obtain an instance of the `JacobianDict` class."
   ]
  },
  {
   "cell_type": "code",
   "execution_count": 18,
   "metadata": {},
   "outputs": [
    {
     "data": {
      "text/plain": [
       "<JacobianDict outputs=['walras', 'C', 'w', 'Y', 'K', 'r', 'I', 'L'], inputs=['Z']>"
      ]
     },
     "execution_count": 18,
     "metadata": {},
     "output_type": "execute_result"
    }
   ],
   "source": [
    "rbc_G = get_G(block_list=rbc_blocks, exogenous=['Z'], unknowns=['K', 'L'], targets=['euler', 'goods_mkt'], T=300, ss=rbc_ss)\n",
    "rbc_G"
   ]
  },
  {
   "cell_type": "markdown",
   "metadata": {},
   "source": [
    "As seen from its display, this `JacobianDict` can find the linearized impulse response of any of the listed `outputs` to a shock path any of its listed `inputs`. Let us create a linearized impulse response $dC = G^{C, Z} dZ$ below, where $dZ$ equals 0.01 on impact and decays at an exponential rate with a persistence of 0.8."
   ]
  },
  {
   "cell_type": "code",
   "execution_count": 42,
   "metadata": {},
   "outputs": [
    {
     "data": {
      "image/png": "[encoded data removed]",
      "text/plain": [
       "<Figure size 432x288 with 1 Axes>"
      ]
     },
     "metadata": {
      "needs_background": "light"
     },
     "output_type": "display_data"
    }
   ],
   "source": [
    "dOut_rbc = rbc_G[[\"C\"]] @ {\"Z\": 0.01 * 0.8 ** np.arange(300)}\n",
    "\n",
    "plt.plot(100 * dOut_rbc[\"C\"][:50]/rbc_ss[\"C\"], linewidth=2.5)\n",
    "plt.title(r'Consumption response to TFP shock in the RBC Model')\n",
    "plt.ylabel(r'% deviation from ss')\n",
    "plt.xlabel(r'quarters')\n",
    "plt.show()"
   ]
  },
  {
   "cell_type": "markdown",
   "metadata": {},
   "source": [
    "Because the `JacobianDict` defines the linearized relationship between any input path to any output path across time (in \"sequence space\"), it is simple to also find the response to a news shock."
   ]
  },
  {
   "cell_type": "code",
   "execution_count": 41,
   "metadata": {},
   "outputs": [
    {
     "data": {
      "image/png": "[encoded data removed]",
      "text/plain": [
       "<Figure size 432x288 with 1 Axes>"
      ]
     },
     "metadata": {
      "needs_background": "light"
     },
     "output_type": "display_data"
    }
   ],
   "source": [
    "dOut_rbc_news = rbc_G[[\"C\"]] @ {\"Z\": np.concatenate((np.zeros(10), 0.01 * 0.8 ** np.arange(290)))}\n",
    "\n",
    "plt.plot(100 * dOut_rbc_news[\"C\"][:50]/rbc_ss[\"C\"], linewidth=2.5, color=\"orange\")\n",
    "plt.title(r'Consumption response to TFP news shock at t = 10 in the RBC Model')\n",
    "plt.ylabel(r'% deviation from ss')\n",
    "plt.xlabel(r'quarters')\n",
    "plt.show()"
   ]
  },
  {
   "cell_type": "markdown",
   "metadata": {},
   "source": [
    "### Krusell Smith Example"
   ]
  },
  {
   "cell_type": "markdown",
   "metadata": {},
   "source": [
    "We can represent this model as a simple DAG in just 1 unknown $K$ and 1 target, asset market clearing:\n",
    "\n",
    "![Directed Acyclical Graph](../figures/ks_dag.png)"
   ]
  },
  {
   "cell_type": "code",
   "execution_count": 43,
   "metadata": {},
   "outputs": [
    {
     "data": {
      "image/png": "[encoded data removed]",
      "text/plain": [
       "<Figure size 432x288 with 1 Axes>"
      ]
     },
     "metadata": {
      "needs_background": "light"
     },
     "output_type": "display_data"
    }
   ],
   "source": [
    "from sequence_jacobian.models import krusell_smith\n",
    "\n",
    "# Use the pre-defined blocks from the model module\n",
    "# We can include the definitions of the grids for income and assets as blocks as well, hence the inclusion of\n",
    "# krusell_smith.income_state_vars and krusell_smith.asset_state_vars as additional SimpleBlocks\n",
    "ks_blocks = [krusell_smith.household, krusell_smith.firm, krusell_smith.mkt_clearing, krusell_smith.income_state_vars,\n",
    "             krusell_smith.asset_state_vars, krusell_smith.firm_steady_state_solution]\n",
    "\n",
    "ks_calibration = {\"eis\": 1, \"delta\": 0.025, \"alpha\": 0.11, \"rho\": 0.966, \"sigma\": 0.5, \"L\": 1.0,\n",
    "                  \"nS\": 2, \"nA\": 10, \"amax\": 200, \"r\": 0.01}\n",
    "ks_ss_unknowns = {\"beta\": (0.98/1.01, 0.999/1.01)}\n",
    "ks_ss_targets = {\"K\": \"A\"}\n",
    "ks_ss = steady_state(ks_blocks, ks_calibration, ks_ss_unknowns, ks_ss_targets, solver=\"brentq\")\n",
    "\n",
    "ks_G = get_G(block_list=ks_blocks, exogenous=['Z'], unknowns=['K'], targets=['asset_mkt'], T=300, ss=ks_ss)\n",
    "\n",
    "dOut_ks = ks_G[[\"C\"]] @ {\"Z\": 0.01 * 0.8 ** np.arange(300)}\n",
    "\n",
    "plt.plot(100 * dOut_ks[\"C\"][:50]/ks_ss[\"C\"], linewidth=2.5)\n",
    "plt.title(r'Consumption response to TFP shock in the KS Model')\n",
    "plt.ylabel(r'% deviation from ss')\n",
    "plt.xlabel(r'quarters')\n",
    "plt.show()"
   ]
  },
  {
   "cell_type": "code",
   "execution_count": 45,
   "metadata": {},
   "outputs": [
    {
     "data": {
      "image/png": "[encoded data removed]",
      "text/plain": [
       "<Figure size 432x288 with 1 Axes>"
      ]
     },
     "metadata": {
      "needs_background": "light"
     },
     "output_type": "display_data"
    }
   ],
   "source": [
    "dOut_ks_news = ks_G[[\"C\"]] @ {\"Z\": np.concatenate((np.zeros(10), 0.01 * 0.8 ** np.arange(290)))}\n",
    "\n",
    "plt.plot(100 * dOut_ks_news[\"C\"][:50]/ks_ss[\"C\"], linewidth=2.5, color=\"orange\")\n",
    "plt.title(r'Consumption response to TFP news shock at t = 10 in the KS Model')\n",
    "plt.ylabel(r'% deviation from ss')\n",
    "plt.xlabel(r'quarters')\n",
    "plt.show()"
   ]
  },
  {
   "cell_type": "markdown",
   "metadata": {},
   "source": [
    "### One Asset HANK Model Example"
   ]
  },
  {
   "cell_type": "code",
   "execution_count": 46,
   "metadata": {},
   "outputs": [
    {
     "data": {
      "image/png": "[encoded data removed]",
      "text/plain": [
       "<Figure size 432x288 with 1 Axes>"
      ]
     },
     "metadata": {
      "needs_background": "light"
     },
     "output_type": "display_data"
    }
   ],
   "source": [
    "from sequence_jacobian.models import hank\n",
    "\n",
    "# Use the pre-defined blocks from the model module\n",
    "hank_blocks = [hank.household, hank.firm, hank.monetary, hank.fiscal, hank.mkt_clearing, hank.nkpc,\n",
    "               hank.income_state_vars, hank.asset_state_vars, hank.partial_steady_state_solution]\n",
    "\n",
    "hank_calibration = {\"r\": 0.005, \"rstar\": 0.005, \"eis\": 0.5, \"frisch\": 0.5, \"mu\": 1.2, \"B_Y\": 5.6,\n",
    "                    \"rho_s\": 0.966, \"sigma_s\": 0.5, \"kappa\": 0.1, \"phi\": 1.5, \"Y\": 1, \"Z\": 1, \"L\": 1,\n",
    "                    \"pi\": 0, \"nS\": 2, \"amax\": 150, \"nA\": 10}\n",
    "hank_ss_unknowns = {\"beta\": 0.986, \"vphi\": 0.8}\n",
    "hank_ss_targets = {\"asset_mkt\": 0, \"labor_mkt\": 0}\n",
    "hank_ss = steady_state(hank_blocks, hank_calibration, hank_ss_unknowns, hank_ss_targets, solver=\"broyden_custom\")\n",
    "\n",
    "hank_G = get_G(block_list=hank_blocks, exogenous=['rstar', 'Z'], unknowns=['pi', 'w', 'Y'],\n",
    "               targets=['nkpc_res', 'asset_mkt', 'labor_mkt'], T=300, ss=hank_ss)\n",
    "\n",
    "dOut_hank = hank_G[[\"C\"]] @ {\"Z\": 0.01 * 0.8 ** np.arange(300)}\n",
    "\n",
    "plt.plot(100 * dOut_hank[\"C\"][:50]/hank_ss[\"C\"], linewidth=2.5)\n",
    "plt.title(r'Consumption response to TFP shock in the One Asset HANK Model')\n",
    "plt.ylabel(r'% deviation from ss')\n",
    "plt.xlabel(r'quarters')\n",
    "plt.show()"
   ]
  },
  {
   "cell_type": "code",
   "execution_count": 48,
   "metadata": {},
   "outputs": [
    {
     "data": {
      "image/png": "[encoded data removed]",
      "text/plain": [
       "<Figure size 432x288 with 1 Axes>"
      ]
     },
     "metadata": {
      "needs_background": "light"
     },
     "output_type": "display_data"
    }
   ],
   "source": [
    "dOut_hank_news = hank_G[[\"C\"]] @ {\"Z\": np.concatenate((np.zeros(10), 0.01 * 0.8 ** np.arange(290)))}\n",
    "\n",
    "plt.plot(100 * dOut_hank_news[\"C\"][:50]/hank_ss[\"C\"], linewidth=2.5, color=\"orange\")\n",
    "plt.title(r'Consumption response to TFP news shock at t = 10 in the One Asset HANK Model')\n",
    "plt.ylabel(r'% deviation from ss')\n",
    "plt.xlabel(r'quarters')\n",
    "plt.show()"
   ]
  },
  {
   "cell_type": "markdown",
   "metadata": {},
   "source": [
    "## 2.C `td_solve`"
   ]
  },
  {
   "cell_type": "markdown",
   "metadata": {},
   "source": [
    "One can also use `sequence-jacobian` to solve for non-linear impulse responses of a set of endogenous variables by providing the full path of a set of shocks. This may be useful to see if the true impulse response of a set of variables actually does scale linearly, irrespective of the size, and is symmetric across sign. We will show a few comparisons of the non-linear responses with the corresponding linear responses plotted above."
   ]
  },
  {
   "cell_type": "markdown",
   "metadata": {},
   "source": [
    "### RBC Example"
   ]
  },
  {
   "cell_type": "code",
   "execution_count": 49,
   "metadata": {},
   "outputs": [
    {
     "name": "stdout",
     "output_type": "stream",
     "text": [
      "On iteration 0\n",
      "   max error for goods_mkt is 8.91E-04\n",
      "   max error for euler is 2.75E-03\n",
      "On iteration 1\n",
      "   max error for goods_mkt is 9.21E-05\n",
      "   max error for euler is 4.07E-05\n",
      "On iteration 2\n",
      "   max error for goods_mkt is 4.07E-07\n",
      "   max error for euler is 4.66E-07\n",
      "On iteration 3\n",
      "   max error for goods_mkt is 5.74E-09\n",
      "   max error for euler is 5.76E-09\n"
     ]
    },
    {
     "data": {
      "image/png": "[encoded data removed]",
      "text/plain": [
       "<Figure size 432x288 with 1 Axes>"
      ]
     },
     "metadata": {
      "needs_background": "light"
     },
     "output_type": "display_data"
    }
   ],
   "source": [
    "rbc_td = td_solve(ss=rbc_ss, block_list=rbc_blocks,\n",
    "                  unknowns=['K', 'L'], targets=['goods_mkt', 'euler'],\n",
    "                  Z=rbc_ss['Z'] + 0.01 * 0.8 ** np.arange(300))\n",
    "dOut_rbc_nonlin = 100 * (rbc_td[\"C\"]/rbc_ss[\"C\"] - 1)\n",
    "\n",
    "plt.plot(100 * dOut_rbc[\"C\"][:50]/rbc_ss[\"C\"], linewidth=2.5, label=\"linear\")\n",
    "plt.plot(dOut_rbc_nonlin[:50], linewidth=2.5, linestyle=\"--\", label=\"non-linear\")\n",
    "plt.title(r'Consumption response to TFP shock in the RBC Model')\n",
    "plt.ylabel(r'% deviation from ss')\n",
    "plt.xlabel(r'quarters')\n",
    "plt.legend()\n",
    "plt.show()"
   ]
  },
  {
   "cell_type": "markdown",
   "metadata": {},
   "source": [
    "### Krusell Smith Example"
   ]
  },
  {
   "cell_type": "code",
   "execution_count": 52,
   "metadata": {},
   "outputs": [
    {
     "name": "stdout",
     "output_type": "stream",
     "text": [
      "On iteration 0\n",
      "   max error for asset_mkt is 3.43E-02\n",
      "On iteration 1\n",
      "   max error for asset_mkt is 1.43E-05\n",
      "On iteration 2\n",
      "   max error for asset_mkt is 3.68E-08\n",
      "On iteration 3\n",
      "   max error for asset_mkt is 7.72E-11\n"
     ]
    },
    {
     "data": {
      "image/png": "[encoded data removed]",
      "text/plain": [
       "<Figure size 432x288 with 1 Axes>"
      ]
     },
     "metadata": {
      "needs_background": "light"
     },
     "output_type": "display_data"
    }
   ],
   "source": [
    "ks_td = td_solve(ss=ks_ss, block_list=ks_blocks,\n",
    "                 unknowns=['K'], targets=['asset_mkt'],\n",
    "                 Z=ks_ss['Z'] + 0.01 * 0.8 ** np.arange(300))\n",
    "dOut_ks_nonlin = 100 * (ks_td[\"C\"]/ks_ss[\"C\"] - 1)\n",
    "\n",
    "plt.plot(100 * dOut_ks[\"C\"][:50]/ks_ss[\"C\"], linewidth=2.5, label=\"linear\")\n",
    "plt.plot(dOut_ks_nonlin[:50], linewidth=2.5, linestyle=\"--\", label=\"non-linear\")\n",
    "plt.title(r'Consumption response to TFP shock in the KS Model')\n",
    "plt.ylabel(r'% deviation from ss')\n",
    "plt.xlabel(r'quarters')\n",
    "plt.legend()\n",
    "plt.show()"
   ]
  },
  {
   "cell_type": "markdown",
   "metadata": {},
   "source": [
    "### One Asset HANK Example"
   ]
  },
  {
   "cell_type": "code",
   "execution_count": 54,
   "metadata": {},
   "outputs": [
    {
     "name": "stdout",
     "output_type": "stream",
     "text": [
      "On iteration 0\n",
      "   max error for nkpc_res is 8.25E-04\n",
      "   max error for asset_mkt is 2.19E-02\n",
      "   max error for labor_mkt is 8.55E-03\n",
      "On iteration 1\n",
      "   max error for nkpc_res is 2.29E-06\n",
      "   max error for asset_mkt is 4.13E-04\n",
      "   max error for labor_mkt is 8.89E-05\n",
      "On iteration 2\n",
      "   max error for nkpc_res is 1.29E-08\n",
      "   max error for asset_mkt is 1.30E-05\n",
      "   max error for labor_mkt is 9.45E-07\n",
      "On iteration 3\n",
      "   max error for nkpc_res is 3.04E-09\n",
      "   max error for asset_mkt is 4.51E-07\n",
      "   max error for labor_mkt is 3.11E-08\n",
      "On iteration 4\n",
      "   max error for nkpc_res is 1.11E-10\n",
      "   max error for asset_mkt is 1.48E-08\n",
      "   max error for labor_mkt is 1.68E-09\n",
      "On iteration 5\n",
      "   max error for nkpc_res is 3.46E-12\n",
      "   max error for asset_mkt is 4.23E-10\n",
      "   max error for labor_mkt is 6.60E-11\n"
     ]
    },
    {
     "data": {
      "image/png": "[encoded data removed]",
      "text/plain": [
       "<Figure size 432x288 with 1 Axes>"
      ]
     },
     "metadata": {
      "needs_background": "light"
     },
     "output_type": "display_data"
    }
   ],
   "source": [
    "hank_td = td_solve(ss=hank_ss, block_list=hank_blocks,\n",
    "                   unknowns=['pi', 'w', 'Y'], targets=['nkpc_res', 'asset_mkt', 'labor_mkt'],\n",
    "                   Z=hank_ss['Z'] + 0.01 * 0.8 ** np.arange(300))\n",
    "dOut_hank_nonlin = 100 * (hank_td[\"C\"]/hank_ss[\"C\"] - 1)\n",
    "\n",
    "plt.plot(100 * dOut_hank[\"C\"][:50]/hank_ss[\"C\"], linewidth=2.5, label=\"linear\")\n",
    "plt.plot(dOut_hank_nonlin[:50], linewidth=2.5, linestyle=\"--\", label=\"non-linear\")\n",
    "plt.title(r'Consumption response to TFP shock in the One Asset HANK Model')\n",
    "plt.ylabel(r'% deviation from ss')\n",
    "plt.xlabel(r'quarters')\n",
    "plt.legend()\n",
    "plt.show()"
   ]
  }
 ],
 "metadata": {
  "kernelspec": {
   "display_name": "Python 3",
   "language": "python",
   "name": "python3"
  },
  "language_info": {
   "codemirror_mode": {
    "name": "ipython",
    "version": 3
   },
   "file_extension": ".py",
   "mimetype": "text/x-python",
   "name": "python",
   "nbconvert_exporter": "python",
   "pygments_lexer": "ipython3",
   "version": "3.7.4"
  }
 },
 "nbformat": 4,
 "nbformat_minor": 2
}
