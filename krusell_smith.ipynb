{
 "cells": [
  {
   "cell_type": "markdown",
   "metadata": {},
   "source": [
    "# Solving the Krusell-Smith model in sequence space\n",
    "In this notebook we show how to\n",
    "1. [Set up a heterogeneous-agent block](#1-hetblock)\n",
    "2. [Solve for the steady state](#2-calibration)\n",
    "3. [Compute the Jacobian](#3-jacobian)\n",
    "4. [Compute linearized impulse responses](#4-linear)\n",
    "5. [Compute business cycle statistics (second moments)](#5-moments)\n",
    "6. [Compute model likelihood](#6-likelihood)\n",
    "7. [Compute nonlinear impulse responses](#7-nonlinear)\n",
    "\n",
    "\n",
    "## Model description\n",
    "For a detailed description of the model, please see the slides. As a quick reminder, it can be written in sequence space as\n",
    "\n",
    "$$\n",
    "\\textbf{H}_t(\\textbf{Y}, Z) \\equiv \n",
    "\\begin{pmatrix}\n",
    "%Y_t - Z_t K_t^\\alpha L^{1-\\alpha}\n",
    "%\\\\\n",
    "r_t + \\delta - \\alpha Z_t \\left(\\frac{K_{t-1}}{L_t}\\right)^{\\alpha-1} \n",
    "\\\\\n",
    "w_t - (1-\\alpha) Z_t \\left(\\frac{K_{t-1}}{L_t}\\right)^{\\alpha}\n",
    "\\\\\n",
    "L_t - \\pi l\n",
    "\\\\\n",
    "\\mathcal{K}_t(\\{r_t, w_t\\}) - K_t\n",
    "\\end{pmatrix}\n",
    "= \\begin{pmatrix}  0 \\\\ 0 \\\\ 0 \\\\ 0\\end{pmatrix},\n",
    "\\qquad t = 0, 1, \\dots\n",
    "$$\n",
    "\n",
    "where the (aggregate) endogenous variables are $\\textbf{Y} = (K, L, r, w)$ and the only exogenous variable is $Z$.\n",
    "\n",
    "The capital function $\\mathcal{K}$ follows from the household block characterized by a Bellman equation\n",
    "\n",
    "$$\n",
    "\\begin{align}\n",
    "V_t(e, k_{-}) = \\max_{c, k} &\\left\\{\\frac{c^{1-\\sigma}}{1-\\sigma} + \\beta \\sum_{e'}V_{t+1}(e', k) \\mathcal{P}(e, e') \\right\\}\n",
    "\\\\\n",
    "c + k &= (1 + r_t)k_{-} + w e l \n",
    "\\\\\n",
    "k &\\geq 0\n",
    "\\end{align}\n",
    "$$\n",
    "\n",
    "We can represent this model as a simple directed acyclical graph:\n",
    "\n",
    "![Directed Acyclical Graph](figures/ks_dag.png) \n",
    "\n",
    "and write it as\n",
    "\n",
    "$$\n",
    "H_t(K, Z) \\equiv \\mathcal{K}_t\\left(\\left\\{\\alpha Z_s \\left(\\frac{K_{s-1}}{\\pi l}\\right)^{\\alpha-1} - \\delta, (1-\\alpha) Z_s \\left(\\frac{K_{s-1}}{\\pi l}\\right)^{\\alpha}\\right\\}\\right) - K_t = 0.\n",
    "$$"
   ]
  },
  {
   "cell_type": "markdown",
   "metadata": {},
   "source": [
    "## 0 Import packages\n",
    "The first five are standard python packages, the rest contain code we wrote for this project. "
   ]
  },
  {
   "cell_type": "code",
   "execution_count": 1,
   "metadata": {},
   "outputs": [],
   "source": [
    "import numpy as np\n",
    "from numba import njit\n",
    "import scipy.optimize as opt\n",
    "import scipy.linalg as linalg\n",
    "import matplotlib.pyplot as plt\n",
    "\n",
    "import utils\n",
    "import het_block as het\n",
    "import rec_block as rec\n",
    "from rec_block import recursive\n",
    "import jacobian as jac\n",
    "import krusell_smith as ks"
   ]
  },
  {
   "cell_type": "markdown",
   "metadata": {},
   "source": [
    "<a id=\"1-hetblock\"></a>\n",
    "\n",
    "## 1 Set up heterogeneous-agent block\n",
    "The main task here is to write a **backward iteration function** that represents the Bellman equation. This has to be a single step of an iterative solution method such as value function iteration. For the standard income fluctuation problem we're dealing with here, the endogenous gridpoint method of [Carroll (2006)](https://www.sciencedirect.com/science/article/pii/S0165176505003368) is the best practice. \n",
    "\n",
    "We will be processing this function later with our code to calculate the Jacobian. For this code to understand the backward iteration function, we are following some syntax restrictions, which you can also see in our other example, a one-asset HANK model:\n",
    "* backward variable (here the marginal value of assets)\n",
    "  1. name as input has to end with '_p'\n",
    "  2. name as output has to be the same without the '_p'\n",
    "  3. it has to be the first output of the function\n",
    "* policy function for endogenous state (here the asset policy function) has to be the second output"
   ]
  },
  {
   "cell_type": "code",
   "execution_count": 2,
   "metadata": {},
   "outputs": [],
   "source": [
    "def backward_iterate(Va_p, Pi_p, a_grid, e_grid, r, w, beta, eis):\n",
    "    \"\"\"Single backward iteration step using endogenous gridpoint method for households with CRRA utility.\n",
    "\n",
    "    Parameters\n",
    "    ----------\n",
    "    Va_p     : array (S*A), marginal value of assets tomorrow\n",
    "    Pi_p     : array (S*S), Markov matrix for skills tomorrow\n",
    "    a_grid   : array (A), asset grid\n",
    "    e_grid   : array (A), skill grid\n",
    "    r        : scalar, ex-post interest rate\n",
    "    w        : scalar, wage\n",
    "    beta     : scalar, discount rate today\n",
    "    eis      : scalar, elasticity of intertemporal substitution\n",
    "\n",
    "    Returns\n",
    "    ----------\n",
    "    Va : array (S*A), marginal value of assets today\n",
    "    a  : array (S*A), asset policy today\n",
    "    c  : array (S*A), consumption policy today\n",
    "    \"\"\"\n",
    "    uc_nextgrid = (beta * Pi_p) @ Va_p\n",
    "    c_nextgrid = uc_nextgrid ** (-eis)\n",
    "    coh = (1 + r) * a_grid[np.newaxis, :] + w * e_grid[:, np.newaxis]\n",
    "    a = utils.interpolate_y(c_nextgrid + a_grid, coh, a_grid)\n",
    "    utils.setmin(a, a_grid[0])\n",
    "    c = coh - a\n",
    "    Va = (1 + r) * c ** (-1 / eis)\n",
    "    return Va, a, c"
   ]
  },
  {
   "cell_type": "markdown",
   "metadata": {},
   "source": [
    "Next we solve for the steady state policy functions by repeatedly applying the backward iteration function until convergence."
   ]
  },
  {
   "cell_type": "code",
   "execution_count": 3,
   "metadata": {},
   "outputs": [],
   "source": [
    "def pol_ss(Pi, e_grid, a_grid, r, w, beta, eis, Va_seed=None, tol=1E-8, maxit=5000):\n",
    "    \"\"\"Find steady-state policy functions.\"\"\"\n",
    "    if Va_seed is None:\n",
    "        coh = (1 + r) * a_grid[np.newaxis, :] + w * e_grid[:, np.newaxis]\n",
    "        Va = (1 + r) * (0.1 * coh) ** (-1 / eis)\n",
    "    else:\n",
    "        Va = Va_seed\n",
    "\n",
    "    # iterate until convergence of a policy by tol, or reach max number of iterations\n",
    "    a = np.empty_like(Va)\n",
    "    for it in range(maxit):\n",
    "        Va, anew, c = backward_iterate(Va, Pi, a_grid, e_grid, r, w, beta, eis)\n",
    "\n",
    "        if it % 10 == 1 and utils.within_tolerance(a, anew, tol):\n",
    "            break\n",
    "        a = anew\n",
    "    else:\n",
    "        raise ValueError(f'No convergence after {maxit} backward iterations!')\n",
    "    a = anew\n",
    "\n",
    "    return Va, a, c"
   ]
  },
  {
   "cell_type": "markdown",
   "metadata": {},
   "source": [
    "Next, we use the steady state policies to compute the stationary distribution. This does not involve any simulation: instead, when the policy `a` is in between two gridpoints, we proportionally assign mass between those two gridpoints. (See for instance [Young (2010)](https://www.sciencedirect.com/science/article/pii/S0165188909001316).) This code is generic for models with one endogenous state and thus relegated to `utils.py`.\n",
    "\n",
    "Now we're ready to put all these steps together in a single function, which gives the complete partial equilibrium behavior of the household sector in steady state: when fed with the Markov transition matrix, the grids, the interest rate, and so on, it gives the steady-state distribution, aggregate and individual policies, and so on."
   ]
  },
  {
   "cell_type": "code",
   "execution_count": 4,
   "metadata": {},
   "outputs": [],
   "source": [
    "def household_ss(Pi, a_grid, e_grid, r, w, beta, eis, Va_seed=None, D_seed=None, pi_seed=None):\n",
    "    \"\"\"Solve for steady-state policies and distribution. Report results in dict.\"\"\"\n",
    "    # solve ha block\n",
    "    Va, a, c = pol_ss(Pi, e_grid, a_grid, r, w, beta, eis, Va_seed)\n",
    "    D = utils.dist_ss(a, Pi, a_grid, D_seed, pi_seed)\n",
    "\n",
    "    # return dictionary with results and inputs\n",
    "    inputs = {'Pi': Pi, 'a_grid': a_grid, 'e_grid': e_grid, 'r': r, 'w': w, 'beta': beta, 'eis': eis}\n",
    "    results = {'D': D, 'Va': Va, 'a': a, 'c': c, 'A': np.vdot(D, a), 'C': np.vdot(D, c)}\n",
    "\n",
    "    return {**inputs, **results}"
   ]
  },
  {
   "cell_type": "markdown",
   "metadata": {},
   "source": [
    "<a id=\"2-calibration\"></a>\n",
    "\n",
    "## 2 Calibrating the steady state\n",
    "Next, we calibrate the HA block in general equilibrium. The calibration exercise amounts to finding the right discount factor to hit a targeted annual interest rate conditional on all the other exogenous parameters. We use Brent's method, an efficient way to solve for a root on an interval, from the `scipy.optimize` package to do so.\n",
    "\n",
    "Although additional efficiency gains would be possible here (for instance, by updating our initial guesses for policy and distribution along the way), we will not implement them, since they are not our focus here.\n",
    "\n",
    "Our default values depart slightly from the canonical Krusell-Smith calibration, mainly by assuming a 7-state income process and a lower capital share. More risk increases the precautionary savings motive, while less capital limits the ability to self-insure. These changes lead to higher MPCs and less RA-like behavior."
   ]
  },
  {
   "cell_type": "code",
   "execution_count": 5,
   "metadata": {},
   "outputs": [],
   "source": [
    "def ks_ss(lb=0.98, ub=0.999, r=0.01, eis=1, delta=0.025, alpha=0.11, rho=0.966, sigma=0.5, nS=7, nA=500, amax=20):\n",
    "    \"\"\"Solve steady state of full GE model. Calibrate beta to hit target for interest rate.\"\"\"\n",
    "    # set up grid\n",
    "    a_grid = utils.agrid(amax=amax, n=nA)\n",
    "    e_grid, pi_s, Pi = utils.markov_rouwenhorst(rho=rho, sigma=sigma, N=nS)\n",
    "\n",
    "    # solve for aggregates analitically\n",
    "    rk = r + delta\n",
    "    Z = (rk / alpha) ** alpha  # normalize so that Y=1\n",
    "    K = (alpha * Z / rk) ** (1 / (1 - alpha))\n",
    "    Y = Z * K ** alpha\n",
    "    w = (1 - alpha) * Z * (alpha * Z / rk) ** (alpha / (1 - alpha))\n",
    "\n",
    "    # solve for beta consistent with this\n",
    "    beta_min = lb / (1 + r)\n",
    "    beta_max = ub / (1 + r)\n",
    "    beta, sol = opt.brentq(lambda bet: household_ss(Pi, a_grid, e_grid, r, w, bet, eis)['A']\n",
    "                              - K, beta_min, beta_max, full_output=True)\n",
    "    if not sol.converged:\n",
    "        raise ValueError('Steady-state solver did not converge.')\n",
    "\n",
    "    # extra evaluation to report variables\n",
    "    ss = household_ss(Pi, a_grid, e_grid, r, w, beta, eis)\n",
    "    ss.update({'w': w, 'Z': Z, 'K': K, 'L': 1, 'Y': Y, 'alpha': alpha, 'delta': delta,\n",
    "               'goods_mkt': Y - ss['C'] - delta * K})\n",
    "\n",
    "    return ss"
   ]
  },
  {
   "cell_type": "markdown",
   "metadata": {},
   "source": [
    "Let's solve for the steady state using our default calibration, and plot the consumption policy function for all skill types  as a function of assets."
   ]
  },
  {
   "cell_type": "code",
   "execution_count": 6,
   "metadata": {
    "scrolled": true
   },
   "outputs": [
    {
     "data": {
      "image/png": "[encoded data removed]",
      "text/plain": [
       "<Figure size 432x288 with 1 Axes>"
      ]
     },
     "metadata": {},
     "output_type": "display_data"
    }
   ],
   "source": [
    "ss = ks_ss()\n",
    "plt.plot(ss['a_grid'], ss['c'].T)\n",
    "plt.xlabel('Assets'), plt.ylabel('Consumption')\n",
    "plt.show()"
   ]
  },
  {
   "cell_type": "markdown",
   "metadata": {},
   "source": [
    "### Speed of steady-state solution\n",
    "Our backward and forward iterations use Numba, [a just-in-time compilation library](https://numba.pydata.org/numba-doc/dev/user/5minguide.html) that translates pure numerical Python to fast machine code. The first time functions are run, there is some compilation lag, similar to (but much less time-consuming than) compilation time in languages like C++, Fortran, and Julia.\n",
    "\n",
    "Now that we have run everything once, we can time our steady-state calibration routine. An efficient steady state is not the focus of this notebook or our methods, but it is nice to see that performance is still quite good:"
   ]
  },
  {
   "cell_type": "code",
   "execution_count": 7,
   "metadata": {},
   "outputs": [
    {
     "name": "stdout",
     "output_type": "stream",
     "text": [
      "CPU times: user 474 ms, sys: 3.99 ms, total: 478 ms\n",
      "Wall time: 477 ms\n"
     ]
    }
   ],
   "source": [
    "%time ss = ks_ss()"
   ]
  },
  {
   "cell_type": "markdown",
   "metadata": {},
   "source": [
    "Indeed, this simple example is so fast that increasing the number of asset gridpoints from 500 to 2000, and thus the total number of states from $7 \\times 500=3500$ to $7 \\times 2000 = 14000,$ increases computation time by less than a factor of four."
   ]
  },
  {
   "cell_type": "code",
   "execution_count": 8,
   "metadata": {},
   "outputs": [
    {
     "name": "stdout",
     "output_type": "stream",
     "text": [
      "CPU times: user 2.62 s, sys: 39.9 ms, total: 2.66 s\n",
      "Wall time: 1.36 s\n"
     ]
    }
   ],
   "source": [
    "%time _ = ks_ss(nA=2000)"
   ]
  },
  {
   "cell_type": "markdown",
   "metadata": {},
   "source": [
    "### Checking Walras's law\n",
    "It's always useful to check whether Walras's law holds. The omitted goods market clearing condition reads as \n",
    "\n",
    "$$\n",
    "Y_t = \\mathcal{C}_t(\\{r_t, w_t\\}) + K_t - (1 - \\delta) K_{t-1}\n",
    "$$\n",
    "\n",
    "and is reported by the `ks_ss` function above."
   ]
  },
  {
   "cell_type": "code",
   "execution_count": 9,
   "metadata": {
    "scrolled": true
   },
   "outputs": [
    {
     "name": "stdout",
     "output_type": "stream",
     "text": [
      "6.67261731979174e-10\n"
     ]
    }
   ],
   "source": [
    "print(ss['goods_mkt'])"
   ]
  },
  {
   "cell_type": "markdown",
   "metadata": {},
   "source": [
    "<a id=\"3-jacobian\"></a>\n",
    "\n",
    "## 3 Jacobians\n",
    "Jacobians are the key concept to solve and to estimate models in sequence space. Each model block has its own Jacobians, which can be combined via the chain rule into Jacobians for the complete model. A Jacobian in a $T$-dimensional (truncated) sequence space is a $T \\times T$ matrix of the form\n",
    "\n",
    "$$\n",
    "\\frac{d Y}{d Z} = \n",
    "\\begin{pmatrix}\n",
    "\\frac{d Y_0}{d Z_0} & \\frac{d Y_0}{d Z_1} & \\dots & \\frac{d Y_0}{d Z_T} \\\\\n",
    "\\vdots & \\vdots & \\ddots & \\vdots \\\\\n",
    "\\frac{d Y_T}{d Z_0} & \\frac{d Y_T}{d Z_1} & \\dots & \\frac{d Y_T}{d Z_T}\n",
    "\\end{pmatrix}\n",
    "$$\n",
    "\n",
    "evaluated at the steady state.\n",
    "\n",
    "### 3.1 Recursive blocks\n",
    "To build intuition, let's start with the firm block. In our code, recursive blocks are specified as regular Python functions  endowed with the decorator ``@recursive``. In the body of the function, we simply implement the corresponding equilibrium conditions. The decorator turns the function into an instance of ``RecursiveBlock``, a simple class with methods to evaluate itself in steady state and along a transition path. Notice the use of K(-1) to denote 1-period lag, like Dynare. In general, one can write (-s) and (+s) to denote s-period lags and leads. "
   ]
  },
  {
   "cell_type": "code",
   "execution_count": 10,
   "metadata": {},
   "outputs": [],
   "source": [
    "@recursive\n",
    "def firm(K, L, Z, alpha, delta):\n",
    "    r = alpha * Z * (K(-1) / L) ** (alpha-1) - delta\n",
    "    w = (1 - alpha) * Z * (K(-1) / L) ** alpha\n",
    "    Y = Z * K(-1) ** alpha * L ** (1 - alpha)\n",
    "    return r, w, Y"
   ]
  },
  {
   "cell_type": "markdown",
   "metadata": {},
   "source": [
    "Let's take a look at the Jacobian $dY/dZ$, which the `rec.all_Js` function computes numerically via symmetric differencing.\n",
    "\n",
    "`rec.all_Js` reports the Jacobians it calculates as a nested Python dictionary (\"dict\"), where the first level is the output variable and the second level is the input variable."
   ]
  },
  {
   "cell_type": "code",
   "execution_count": 11,
   "metadata": {},
   "outputs": [
    {
     "name": "stdout",
     "output_type": "stream",
     "text": [
      "[[1.13424196 0.         0.         0.         0.        ]\n",
      " [0.         1.13424196 0.         0.         0.        ]\n",
      " [0.         0.         1.13424196 0.         0.        ]\n",
      " [0.         0.         0.         1.13424196 0.        ]\n",
      " [0.         0.         0.         0.         1.13424196]]\n"
     ]
    }
   ],
   "source": [
    "J_firm = rec.all_Js(firm, ss, T=5, shock_list=['K', 'Z'])\n",
    "print(J_firm['Y']['Z'])"
   ]
  },
  {
   "cell_type": "markdown",
   "metadata": {},
   "source": [
    "The Jacobian is diagonal because the production function does not depend on leads or lags of productivity. Such sparsity is of course very common for simple blocks, and we wrote `rec_block.py` to take advantage of it.\n",
    "\n",
    "In principle, one could calculate a Jacobian between each input-output pair. In practice, it only makes sense to do so with respect to endogenous variables and shocks, hence the `shock_list` option. In this model, capital and TFP are the only inputs that will ever change.\n",
    "\n",
    "### 3.2 HA blocks\n",
    "HA blocks have more complicated Jacobians, but there's a regular structure that we can exploit to calculate them very quickly. For comprehensive coverage of our methods, please see the [het-agent Jacobian notebook](het_jacobian.ipynb).\n",
    "\n",
    "The tools for dealing with Jacobians of HA blocks are in `het_block.py`. At the end of the day, we'll be able to call a single function, much like `rec_block.all_Js` above. Note that the shocked inputs are specified as a nested dict. This may look like an unnecessarily complicated formulation for now, but it pays off handsomely in richer models, since it allows us to compute Jacobians with respect to shocks that change several multidimensional inputs to the HA block."
   ]
  },
  {
   "cell_type": "code",
   "execution_count": 12,
   "metadata": {
    "scrolled": true
   },
   "outputs": [
    {
     "name": "stdout",
     "output_type": "stream",
     "text": [
      "[[ 0.09632253 -0.68178927 -0.64130547 -0.60454707 -0.57086443]\n",
      " [ 0.09466496  0.13510863 -0.6484996  -0.61150701 -0.57744828]\n",
      " [ 0.0930273   0.13004573  0.16694294 -0.61993632 -0.58548838]\n",
      " [ 0.0913931   0.12554447  0.15988168  0.1942259  -0.59502316]\n",
      " [ 0.08977355  0.12161136  0.15351844  0.18572618  0.21806655]]\n"
     ]
    }
   ],
   "source": [
    "J_ha = het.all_Js(backward_iterate, ss, T=5, shock_dict={'r': {'r': 1}, 'w': {'w': 1}})\n",
    "print(J_ha['C']['r'])"
   ]
  },
  {
   "cell_type": "markdown",
   "metadata": {},
   "source": [
    "Notice that this matrix is no longer sparse. This generally the case for HA blocks. The Bellman equation implies that policies are forward-looking, and then aggregates are also backward-looking due to persistence coming via the distribution."
   ]
  },
  {
   "cell_type": "markdown",
   "metadata": {},
   "source": [
    "<a id=\"4-linear\"></a>\n",
    "\n",
    "## 4 Linearized dynamics using Jacobians\n",
    "Recall that we reduced the model to a single equation $H$\n",
    "\n",
    "$$\n",
    "H_t(K, Z) \\equiv \\mathcal{K}_t\\left(\\left\\{\\alpha Z_s \\left(\\frac{K_{s-1}}{\\pi l}\\right)^{\\alpha-1} - \\delta, (1-\\alpha) Z_s \\left(\\frac{K_{s-1}}{\\pi l}\\right)^{\\alpha}\\right\\}\\right) - K_t = 0.\n",
    "$$\n",
    "\n",
    "to be solved for $K$ given any $Z$.\n",
    "\n",
    "This is the composition of the household capital supply function $\\mathcal{K}$ with the interest rate $r(K_{t-1}, Z_t) = \\alpha Z_t \\left(\\frac{K_{t-1}}{\\pi l}\\right)^{\\alpha-1} - \\delta$ and wage $w(K_{t-1}, Z_t) = (1-\\alpha) Z_t \\left(\\frac{K_{t-1}}{\\pi l}\\right)^{\\alpha}$ functions."
   ]
  },
  {
   "cell_type": "markdown",
   "metadata": {},
   "source": [
    "### 4.1 Algorithm\n",
    "We will obtain a linear characterization of all impulse responses following the four-part procedure on page 13 of the beamer slides. We'll do so for the steady state we've already solved, which has information contained in `ss`, and a 300-period truncation horizon.\n",
    "\n",
    "#### Step 1: For each block, obtain Jacobians of outputs with respect to inputs\n",
    "Here, we only have two blocks: the firm and household blocks. Getting these Jacobians is quite quick, even for the HA block."
   ]
  },
  {
   "cell_type": "code",
   "execution_count": 13,
   "metadata": {
    "scrolled": true
   },
   "outputs": [
    {
     "name": "stdout",
     "output_type": "stream",
     "text": [
      "CPU times: user 3.96 ms, sys: 3.17 ms, total: 7.13 ms\n",
      "Wall time: 3.98 ms\n",
      "CPU times: user 482 ms, sys: 17.7 ms, total: 499 ms\n",
      "Wall time: 251 ms\n"
     ]
    }
   ],
   "source": [
    "T=300\n",
    "\n",
    "# firm Jacobian: r and w as functions of Z and K\n",
    "%time J_firm = rec.all_Js(firm, ss, T, ['K', 'Z'])\n",
    "\n",
    "# household Jacobian: curlyK (called 'a' for assets by J_ha) as function of r and w\n",
    "J_ha = het.all_Js(backward_iterate, ss, T, {'r': {'r': 1}, 'w': {'w': 1}}) # compile burn-in\n",
    "%time J_ha = het.all_Js(backward_iterate, ss, T, {'r': {'r': 1}, 'w': {'w': 1}})"
   ]
  },
  {
   "cell_type": "markdown",
   "metadata": {},
   "source": [
    "#### Step 2: Compose Jacobians along the computational graph\n",
    "Here, we manually apply the chain rule to calculate Jacobians of household $\\mathcal{K}$ with respect to $K$ and $Z$, by composing `J_ha` (which maps $r$ and $w$ to $\\mathcal{K}$) with `J_firm` (which maps $K$ and $Z$ to $r$, $w$, and $Y$)."
   ]
  },
  {
   "cell_type": "code",
   "execution_count": 14,
   "metadata": {},
   "outputs": [],
   "source": [
    "J_curlyK_K = J_ha['A']['r'] @ J_firm['r']['K'] + J_ha['A']['w'] @ J_firm['w']['K']\n",
    "J_curlyK_Z = J_ha['A']['r'] @ J_firm['r']['Z'] + J_ha['A']['w'] @ J_firm['w']['Z']"
   ]
  },
  {
   "cell_type": "markdown",
   "metadata": {},
   "source": [
    "A single application of the chain rule can also be automated using the `jac.compose_jacobians` function, which gives "
   ]
  },
  {
   "cell_type": "code",
   "execution_count": 15,
   "metadata": {
    "scrolled": true
   },
   "outputs": [
    {
     "data": {
      "text/plain": [
       "True"
      ]
     },
     "execution_count": 15,
     "metadata": {},
     "output_type": "execute_result"
    }
   ],
   "source": [
    "J_curly_K = jac.compose_jacobians(J_firm, J_ha)\n",
    "np.array_equal(J_curly_K['A']['Z'], J_curlyK_Z)"
   ]
  },
  {
   "cell_type": "markdown",
   "metadata": {},
   "source": [
    "As we will see in the HANK notebook, for more advanced cases there is a `jac.chain_jacobians` function that can automate the process of chaining together arbitrarily many Jacobians.\n",
    "\n",
    "Now, we will combine `J_curlyK_K` and `J_curlyK_Z` with the firm Jacobians to get a single nested dict with the Jacobians of everything with respect to $K$ and $Z$:"
   ]
  },
  {
   "cell_type": "code",
   "execution_count": 16,
   "metadata": {},
   "outputs": [],
   "source": [
    "J = {**J_firm, 'curlyK': {'K' : J_curlyK_K, 'Z' : J_curlyK_Z}}"
   ]
  },
  {
   "cell_type": "markdown",
   "metadata": {},
   "source": [
    "#### Step 3: Invert $H_K$ to obtain impulse response $dK=-H_K^{-1}H_ZdZ$\n",
    "Now we need to get the Jacobians of our equation $H(K,Z)$, which fully characterizes equilibrium, with respect to $K$ and $Z$. Once we have these, the implicit function theorem gives us the endogenous capital $dK=-H_K^{-1}H_ZdZ$ response to any exogenous shock $dZ$.\n",
    "\n",
    "Recall that $H$ equals household capital supply $\\mathcal{K}$ minus firm capital $K$, so that we can get the Jacobians almost immediately from what we have already calculated."
   ]
  },
  {
   "cell_type": "code",
   "execution_count": 17,
   "metadata": {},
   "outputs": [],
   "source": [
    "H_K = J['curlyK']['K'] - np.eye(T)\n",
    "H_Z = J['curlyK']['Z']"
   ]
  },
  {
   "cell_type": "markdown",
   "metadata": {},
   "source": [
    "We define $G_K \\equiv -H_K^{-1}H_Z$ to be the matrix mapping from any $dZ$ to the corresponding $dK$:"
   ]
  },
  {
   "cell_type": "code",
   "execution_count": 18,
   "metadata": {},
   "outputs": [],
   "source": [
    "G = {'K': -np.linalg.solve(H_K, H_Z)} # H_K^(-1)H_Z"
   ]
  },
  {
   "cell_type": "markdown",
   "metadata": {},
   "source": [
    "#### Step 4: Get all other impulses\n",
    "In `J`, we have Jacobians of $r,w,Y$ with respect to both $Z$ and $K$. If there is a shock to $Z$, we can decompose the change in $r,w,Y$ into a \"direct\" effect from $dZ$ and an \"indirect\" effect from the induced change $dK$.\n",
    "\n",
    "We apply the chain rule to the latter to get matrices $G_r, G_w, G_Y$ mapping any $dZ$ to the corresponding $dr,dw,dY$:"
   ]
  },
  {
   "cell_type": "code",
   "execution_count": 19,
   "metadata": {},
   "outputs": [],
   "source": [
    "G['r'] = J['r']['Z'] + J['r']['K'] @ G['K']\n",
    "G['w'] = J['w']['Z'] + J['w']['K'] @ G['K']\n",
    "G['Y'] = J['Y']['Z'] + J['Y']['K'] @ G['K']"
   ]
  },
  {
   "cell_type": "markdown",
   "metadata": {},
   "source": [
    "The `G` dict characterizes the full linearized dynamics of aggregate variables $K, r, w, Y$ in response to *any* perturbation to $Z$.\n",
    "\n",
    "If we want the linearized dynamics of other variables, e.g. consumption, all we need is to get get the Jacobian from the block in which these are calculated, and then compose it with the `G` of its inputs. It turns out that consumption was already reported in `J_ha`, so we just need to write:"
   ]
  },
  {
   "cell_type": "code",
   "execution_count": 20,
   "metadata": {},
   "outputs": [],
   "source": [
    "G['C'] = J_ha['C']['r'] @ G['r'] + J_ha['C']['w'] @ G['w']"
   ]
  },
  {
   "cell_type": "markdown",
   "metadata": {},
   "source": [
    "If we wanted to trace the evolution of the household distribution or policy functions for a particular shock, then we could feed in the results to `household_td`, defined below."
   ]
  },
  {
   "cell_type": "markdown",
   "metadata": {},
   "source": [
    "### 4.2 Results\n",
    "What do the impulse responses in this model look like? The beauty of our method is that, now that we have the `G`, we can compute impulse responses to any shock almost instantaneously -- it's just matrix multiplication!\n",
    "\n",
    "Let's first consider shocks to $Z$ with different persistences, all normalized so that they have a 1% initial impact, and plot the interest rate response to each."
   ]
  },
  {
   "cell_type": "code",
   "execution_count": 21,
   "metadata": {
    "scrolled": true
   },
   "outputs": [
    {
     "data": {
      "image/png": "[encoded data removed]",
      "text/plain": [
       "<Figure size 432x288 with 1 Axes>"
      ]
     },
     "metadata": {},
     "output_type": "display_data"
    }
   ],
   "source": [
    "rhos = np.array([0.2, 0.4, 0.6, 0.8, 0.9])\n",
    "dZ = 0.01*rhos**(np.arange(T)[:, np.newaxis]) # get T*5 matrix of dZ\n",
    "dr = G['r'] @ dZ\n",
    "plt.plot(dr[:50, :])\n",
    "plt.title(r'$r$ response to 1% $Z$ shocks with $\\rho=(0.2 ... 0.9)$')\n",
    "plt.show()"
   ]
  },
  {
   "cell_type": "markdown",
   "metadata": {},
   "source": [
    "Now let's consider 10,000 different values of rho, for which we can still calculate all $r$ impulse responses almost instantaneously."
   ]
  },
  {
   "cell_type": "code",
   "execution_count": 22,
   "metadata": {
    "scrolled": true
   },
   "outputs": [
    {
     "name": "stdout",
     "output_type": "stream",
     "text": [
      "CPU times: user 65.2 ms, sys: 17.5 ms, total: 82.7 ms\n",
      "Wall time: 41.8 ms\n"
     ]
    }
   ],
   "source": [
    "rhos = np.linspace(0.1, 0.9, 10000)\n",
    "dZ = 0.01*rhos**(np.arange(T)[:, np.newaxis]) # get T*5 matrix of dZ\n",
    "%time dr = G['r'] @ dZ"
   ]
  },
  {
   "cell_type": "markdown",
   "metadata": {},
   "source": [
    "The time taken here differs from run to run, but in the current run (like all runs on a personal laptop) it takes 60 milliseconds of \"wall time\" to compute 10,000 impulse responses means that each impulse response takes less than **6 microseconds**. \"CPU time\" is slightly higher because mild parallelization on two cores is used by the built-in matrix multiplication implementation. By contrast, typical impulse response calculations in heterogeneous agent models in the literature take at least a minute, so this method is more than **10 million** times faster as a way of calculating individual impulse responses.\n",
    "\n",
    "Although this may seem like an extreme example, repeated calculations of this form are quite useful in the most computationally demanding applications, like estimation (as we will see later)."
   ]
  },
  {
   "cell_type": "markdown",
   "metadata": {},
   "source": [
    "Another important feature of our sequence space methodology is that it is easy to calculate the response to shocks that are difficult to cast into recursive form, like news shocks.\n",
    "\n",
    "For example, calculating the response to a news shock where $Z$ is expected to increase at a specific period in the future is trivial -- in fact, that's exactly what the columns of the $G$ matrix are. Below we plot the capital responses to news shocks of $Z$ increases at periods 5, 10, 15, 20, and 25."
   ]
  },
  {
   "cell_type": "code",
   "execution_count": 23,
   "metadata": {
    "scrolled": false
   },
   "outputs": [
    {
     "data": {
      "image/png": "[encoded data removed]",
      "text/plain": [
       "<Figure size 432x288 with 1 Axes>"
      ]
     },
     "metadata": {},
     "output_type": "display_data"
    }
   ],
   "source": [
    "dZ = 0.01*(np.arange(T)[:, np.newaxis] == np.array([5, 10, 15, 20, 25]))\n",
    "dK = G['K'] @ dZ\n",
    "plt.plot(dK[:50])\n",
    "plt.title('$K$ response to 1% Z news shocks for $t=5,...,25$')\n",
    "plt.show()"
   ]
  },
  {
   "cell_type": "markdown",
   "metadata": {},
   "source": [
    "<a id=\"5-moments\"></a>\n",
    "\n",
    "## 5 Second moments\n",
    "Thanks to certainty equivalence, calculating linear impulse responses to shocks gives us an $MA(\\infty)$ representation of equilibrium as a function of the history of shocks -- or, more accurately, an $MA(T)$ representation, where $T$ is our truncation horizon. If we know the second moments of the shocks, then we can use this representation to fully characterize the second moments of various outcomes. This computation can be done in a highly efficient way, without any need for simulation.\n",
    "\n",
    "### 5.1 One-shock case\n",
    "For instance, following slides 35-36, suppose there is a single i.i.d. shock $\\epsilon$ with variance $\\sigma^2$, for which we have a $MA(T)$ representation of any outcome $y$ of the form:\n",
    "\n",
    "$$\n",
    "y_t = \\sum_{k=0}^{T} \\theta_k^y \\epsilon_{t-k}\n",
    "$$\n",
    "\n",
    "Then covariances between outcomes $y$ and $x$ take the form\n",
    "\n",
    "$$\n",
    "\\text{Cov}(y_t,x_{t+l})= \\sigma^2\\sum_{k=0}^{T-l} \\theta_k^{y} \\theta_{k+l}^{x} \\tag{Cov}\n",
    "$$\n",
    "\n",
    "To apply this, suppose that in the Krusell-Smith model we have an AR(1) process for deviations $dZ$ of productivity taking the form\n",
    "\n",
    "$$\n",
    "dZ_t = \\rho dZ_{t-1} + \\epsilon_t\n",
    "$$\n",
    "\n",
    "We can write this as an $MA(\\infty)$:\n",
    "\n",
    "$$\n",
    "dZ_t = \\sum_{k=0}^\\infty \\rho^k\\epsilon_{t-k}\n",
    "$$\n",
    "\n",
    "and then, truncating at $T$, compute the endogenous sequences that result from this shock. \n",
    "\n",
    "Let's do this for $\\rho=0.8$ for the economy we've already solved, calculating $Y$, $C$, and $K$:"
   ]
  },
  {
   "cell_type": "code",
   "execution_count": 24,
   "metadata": {},
   "outputs": [],
   "source": [
    "dZ = 0.8**(np.arange(T))\n",
    "dY, dC, dK = G['Y'] @ dZ, G['C'] @ dZ, G['K'] @ dZ"
   ]
  },
  {
   "cell_type": "markdown",
   "metadata": {},
   "source": [
    "Suppose that we want to calculate $\\text{Cov}(dZ_t, dY_{t+2})$, the covariance between productivity and output two periods later. Then we can apply formula (Cov) above to these, assuming that $\\sigma=0.02$ for now, obtaining a covariance of roughly 0.00088:"
   ]
  },
  {
   "cell_type": "code",
   "execution_count": 25,
   "metadata": {
    "scrolled": true
   },
   "outputs": [
    {
     "data": {
      "text/plain": [
       "0.000926272202302315"
      ]
     },
     "execution_count": 25,
     "metadata": {},
     "output_type": "execute_result"
    }
   ],
   "source": [
    "sigma = 0.02\n",
    "sigma**2*sum(dZ[t]*dY[t+2] for t in range(T-2))"
   ]
  },
  {
   "cell_type": "markdown",
   "metadata": {},
   "source": [
    "If we want to be slightly more ambitious, let's stack these four series, $dZ, dY, dC, dK$, into a single $T\\times 4$ matrix $dX$."
   ]
  },
  {
   "cell_type": "code",
   "execution_count": 26,
   "metadata": {},
   "outputs": [
    {
     "data": {
      "text/plain": [
       "(300, 4)"
      ]
     },
     "execution_count": 26,
     "metadata": {},
     "output_type": "execute_result"
    }
   ],
   "source": [
    "dX = np.stack([dZ, dY, dC, dK], axis=1)\n",
    "dX.shape"
   ]
  },
  {
   "cell_type": "markdown",
   "metadata": {},
   "source": [
    "Then we can write a function that calculates all pairwise covariances for any lag $l$ simultaneously using the same method:"
   ]
  },
  {
   "cell_type": "code",
   "execution_count": 27,
   "metadata": {},
   "outputs": [],
   "source": [
    "def covariances_naive(dX, sigma, l):\n",
    "    return sigma**2*sum(dX[t,:,np.newaxis]*dX[t+l,np.newaxis,:] for t in range(T-l))"
   ]
  },
  {
   "cell_type": "markdown",
   "metadata": {},
   "source": [
    "and verify that it gives the same answer for $\\text{Cov}(dZ_t, dY_{t+2})$:"
   ]
  },
  {
   "cell_type": "code",
   "execution_count": 28,
   "metadata": {
    "scrolled": false
   },
   "outputs": [
    {
     "name": "stdout",
     "output_type": "stream",
     "text": [
      "CPU times: user 3.45 ms, sys: 47 µs, total: 3.5 ms\n",
      "Wall time: 2.14 ms\n"
     ]
    },
    {
     "data": {
      "text/plain": [
       "0.000926272202302315"
      ]
     },
     "execution_count": 28,
     "metadata": {},
     "output_type": "execute_result"
    }
   ],
   "source": [
    "%time covariances_naive(dX, sigma, 2)[0, 1]"
   ]
  },
  {
   "cell_type": "markdown",
   "metadata": {},
   "source": [
    "**More efficient method using the Fast Fourier Transform.** Note, however, that approach takes a few milliseconds to calculate autocovariances at each lag. We could make the function much more efficient by writing it using Numba, but if we want *all* the covariances simultaneously -- for instance, for the estimation exercise we'll see later -- then this will still not be efficient enough.\n",
    "\n",
    "Fortunately, there is a simple way to use the Fast Fourier Transform to perform exactly the same calculation at all lags simultaneously in an extremely efficient way, by passing to the (discrete) frequency domain before applying the covariance function, and then passing back. This is implemented in the following function."
   ]
  },
  {
   "cell_type": "code",
   "execution_count": 29,
   "metadata": {},
   "outputs": [],
   "source": [
    "def all_covariances_oneshock(dX, sigma, T):\n",
    "    dft = np.fft.rfftn(dX, s=(2*T-2,), axes=(0,))\n",
    "    total = sigma**2*(dft.conjugate()[:,:,np.newaxis]*dft[:,np.newaxis,:])\n",
    "    return np.fft.irfftn(total, s=(2*T-2,), axes=(0,))[:T]"
   ]
  },
  {
   "cell_type": "markdown",
   "metadata": {},
   "source": [
    "Now let's see how long it takes to simultaneously calculate covariances for *all* lags up to $T$."
   ]
  },
  {
   "cell_type": "code",
   "execution_count": 30,
   "metadata": {
    "scrolled": false
   },
   "outputs": [
    {
     "name": "stdout",
     "output_type": "stream",
     "text": [
      "CPU times: user 4.28 ms, sys: 1.17 ms, total: 5.45 ms\n",
      "Wall time: 2.63 ms\n"
     ]
    },
    {
     "data": {
      "text/plain": [
       "(300, 4, 4)"
      ]
     },
     "execution_count": 30,
     "metadata": {},
     "output_type": "execute_result"
    }
   ],
   "source": [
    "%time Sigma = all_covariances_oneshock(dX, sigma, T)\n",
    "Sigma.shape"
   ]
  },
  {
   "cell_type": "markdown",
   "metadata": {},
   "source": [
    "This is wildly more efficient: compared to before when we looked at a given lag, it now takes a similar magnitude of time to calculate the covariance matrices *at all lags simultaneously*! (Indeed, it is so efficient that the `%time` command overstates the cost, as it is prone to do when we're dealing with just a few milliseconds. `%timeit` gives a more accurate measure but takes longer to run.)\n",
    "\n",
    "We can verify that it gives exactly the same answers as our previous method by looking at the covariance $\\text{Cov}(dX_t, dX_{t+l}')$ at a given lag, say $l=5$."
   ]
  },
  {
   "cell_type": "code",
   "execution_count": 31,
   "metadata": {
    "scrolled": true
   },
   "outputs": [
    {
     "data": {
      "text/plain": [
       "array([[0.00036409, 0.00054363, 0.00051659, 0.00366688],\n",
       "       [0.0004408 , 0.00067155, 0.00066304, 0.00478809],\n",
       "       [0.00022209, 0.00036969, 0.00042214, 0.00322889],\n",
       "       [0.00099416, 0.00183252, 0.00238867, 0.0190803 ]])"
      ]
     },
     "execution_count": 31,
     "metadata": {},
     "output_type": "execute_result"
    }
   ],
   "source": [
    "Sigma[5, ...]"
   ]
  },
  {
   "cell_type": "code",
   "execution_count": 32,
   "metadata": {
    "scrolled": true
   },
   "outputs": [
    {
     "data": {
      "text/plain": [
       "array([[0.00036409, 0.00054363, 0.00051659, 0.00366688],\n",
       "       [0.0004408 , 0.00067155, 0.00066304, 0.00478809],\n",
       "       [0.00022209, 0.00036969, 0.00042214, 0.00322889],\n",
       "       [0.00099416, 0.00183252, 0.00238867, 0.0190803 ]])"
      ]
     },
     "execution_count": 32,
     "metadata": {},
     "output_type": "execute_result"
    }
   ],
   "source": [
    "covariances_naive(dX, sigma, 5)"
   ]
  },
  {
   "cell_type": "markdown",
   "metadata": {},
   "source": [
    "<a id='section5_2'></a>\n",
    "### 5.2 Multiple-shock case\n",
    "Now that we've successfully analyzed the case of a single shock, let's generalize slightly to the case of multiple shocks, again following the slides. Suppose there are multiple i.i.d. shocks $\\epsilon^s$ with variances $\\sigma^2_s$, in which we have an $MA(T)$ representation for outcomes $y_t$ of the form\n",
    "\n",
    "$$\n",
    "y_t = \\sum_{s=1}^S \\sum_{k=0}^{T} \\theta_k^{y,s} \\epsilon_{t-k}^s\n",
    "$$\n",
    "\n",
    "Then covariances between outcomes $y$ and $x$ take the form\n",
    "\n",
    "$$\n",
    "\\text{Cov}(y_t,x_{t+l})= \\sum_{s=1}^S\\sigma^2_s\\sum_{k=0}^{T-l} \\theta_k^{y,s} \\theta_{k+l}^{x,s} \\tag{Cov2}\n",
    "$$\n",
    "\n",
    "**Application.** Suppose that there are two shocks $s$ to productivity in our Krusell-Smith model: shock 1 is $AR(1)$ with a very high persistence $\\rho=0.9$, and shock 2 is purely transitory.\n",
    "\n",
    "We calculate the impulse responses to the first shock and stack them as before:"
   ]
  },
  {
   "cell_type": "code",
   "execution_count": 33,
   "metadata": {},
   "outputs": [],
   "source": [
    "dZ1 = 0.9**(np.arange(T))\n",
    "dY1, dC1, dK1 = G['Y'] @ dZ1, G['C'] @ dZ1, G['K'] @ dZ1\n",
    "dX1 = np.stack([dZ1, dY1, dC1, dK1], axis=1)"
   ]
  },
  {
   "cell_type": "markdown",
   "metadata": {},
   "source": [
    "and now the second shock as well:"
   ]
  },
  {
   "cell_type": "code",
   "execution_count": 34,
   "metadata": {},
   "outputs": [],
   "source": [
    "dZ2 = np.arange(T) == 0\n",
    "dY2, dC2, dK2 = G['Y'] @ dZ2, G['C'] @ dZ2, G['K'] @ dZ2\n",
    "dX2 = np.stack([dZ2, dY2, dC2, dK2], axis=1)"
   ]
  },
  {
   "cell_type": "markdown",
   "metadata": {},
   "source": [
    "and finally stack all these to make a $T\\times 4 \\times 2$ array giving all impulse responses of the four outcomes to the two shocks:"
   ]
  },
  {
   "cell_type": "code",
   "execution_count": 35,
   "metadata": {
    "scrolled": false
   },
   "outputs": [
    {
     "data": {
      "text/plain": [
       "(300, 4, 2)"
      ]
     },
     "execution_count": 35,
     "metadata": {},
     "output_type": "execute_result"
    }
   ],
   "source": [
    "dX = np.stack([dX1, dX2], axis=2)\n",
    "dX.shape"
   ]
  },
  {
   "cell_type": "markdown",
   "metadata": {},
   "source": [
    "**Modified version of Fast Fourier Transform-based function.** Now, we write a slightly modified version of our earlier function to calculate covariances at all lags using the FFT. The only difference is in the middle step, where we now must multiply (in this case) a $4\\times 2$ times $2\\times 4$ matrix at each frequency to obtain the covariance."
   ]
  },
  {
   "cell_type": "code",
   "execution_count": 36,
   "metadata": {},
   "outputs": [],
   "source": [
    "def all_covariances(dX, sigmas, T):\n",
    "    dft = np.fft.rfftn(dX, s=(2*T-2,), axes=(0,))\n",
    "    total = (dft.conjugate()*sigmas) @ dft.swapaxes(1,2)\n",
    "    return np.fft.irfftn(total, s=(2*T-2,), axes=(0,))[:T]"
   ]
  },
  {
   "cell_type": "markdown",
   "metadata": {},
   "source": [
    "If $\\sigma_1=0.01$ and $\\sigma_2=0.04$, we get:"
   ]
  },
  {
   "cell_type": "code",
   "execution_count": 37,
   "metadata": {
    "scrolled": true
   },
   "outputs": [
    {
     "name": "stdout",
     "output_type": "stream",
     "text": [
      "CPU times: user 2.67 ms, sys: 925 µs, total: 3.59 ms\n",
      "Wall time: 2.1 ms\n"
     ]
    }
   ],
   "source": [
    "sigmas = np.array([0.01, 0.04])\n",
    "%time Sigma = all_covariances(dX, sigmas, T)"
   ]
  },
  {
   "cell_type": "markdown",
   "metadata": {},
   "source": [
    "Note that there is no apparent increase in computation time, which is still extremely low, despite the added complexity of the two-shock case.\n",
    "\n",
    "**Looking at correlations.** Let's turn the covariance matrix `Sigma` into a correlation matrix, by first getting the standard deviation of each series:"
   ]
  },
  {
   "cell_type": "code",
   "execution_count": 38,
   "metadata": {
    "scrolled": true
   },
   "outputs": [
    {
     "data": {
      "text/plain": [
       "array([0.30435436, 0.36632653, 0.21386367, 1.20786813])"
      ]
     },
     "execution_count": 38,
     "metadata": {},
     "output_type": "execute_result"
    }
   ],
   "source": [
    "sd = np.sqrt(np.diag(Sigma[0, ...]))\n",
    "sd"
   ]
  },
  {
   "cell_type": "markdown",
   "metadata": {},
   "source": [
    "and then transforming `Sigma`. With the results in hand, let's take a look at the contemporaneous correlation matrix, which reveals an extremely high correlation between $dZ$ and $dY$ (0.994) and also a surprisingly high correlation between $dC$ and $dK$ (0.959):"
   ]
  },
  {
   "cell_type": "code",
   "execution_count": 39,
   "metadata": {},
   "outputs": [
    {
     "data": {
      "text/plain": [
       "array([[1.        , 0.9946965 , 0.7873479 , 0.60443841],\n",
       "       [0.9946965 , 1.        , 0.84369038, 0.68310275],\n",
       "       [0.7873479 , 0.84369038, 1.        , 0.93825506],\n",
       "       [0.60443841, 0.68310275, 0.93825506, 1.        ]])"
      ]
     },
     "execution_count": 39,
     "metadata": {},
     "output_type": "execute_result"
    }
   ],
   "source": [
    "correl = (Sigma/sd)/(sd[:, np.newaxis])\n",
    "correl[0, ...]"
   ]
  },
  {
   "cell_type": "markdown",
   "metadata": {},
   "source": [
    "Finally, let's plot $\\text{corr}(dZ_t,dZ_{t+l})$, $\\text{corr}(dZ_t,dY_{t+l})$, $\\text{corr}(dZ_t,dC_{t+l})$, and $\\text{corr}(dZ_t,dK_{t+l})$, for $l$ from $-50$ through $50$: the correlations of all series, at various lags, with the driving productivity process."
   ]
  },
  {
   "cell_type": "code",
   "execution_count": 40,
   "metadata": {
    "scrolled": false
   },
   "outputs": [
    {
     "data": {
      "image/png": "[encoded data removed]",
      "text/plain": [
       "<Figure size 432x288 with 1 Axes>"
      ]
     },
     "metadata": {},
     "output_type": "display_data"
    }
   ],
   "source": [
    "ls = np.arange(-50, 51)\n",
    "corrs_l_positive = correl[:51, 0, :]\n",
    "corrs_l_negative = correl[50:0:-1, :, 0]\n",
    "corrs_combined = np.concatenate([corrs_l_negative, corrs_l_positive])\n",
    "\n",
    "plt.plot(ls, corrs_combined[:, 0], label='dZ')\n",
    "plt.plot(ls, corrs_combined[:, 1], label='dY')\n",
    "plt.plot(ls, corrs_combined[:, 2], label='dC')\n",
    "plt.plot(ls, corrs_combined[:, 3], label='dK')\n",
    "plt.legend()\n",
    "plt.title(r'Corr of $dZ_t$ and $X_{t+l}$ for various series $X$')\n",
    "plt.xlabel(r'Lag $l$')\n",
    "plt.show()"
   ]
  },
  {
   "cell_type": "markdown",
   "metadata": {},
   "source": [
    "Here we can see many features of the solution. First, $dY$ is extremely similar to $dZ$, except that it has a greater lagged response due to capital accumulation. Both $dZ$ and $dY$ have a large peak at $l=0$ corresponding to the transitory shock. $dC$ and $dK$, on the other hand, are both much smoother and tend to lag $dZ$, especially $dK$."
   ]
  },
  {
   "cell_type": "markdown",
   "metadata": {},
   "source": [
    "<a id=\"6-likelihood\"></a>\n",
    "\n",
    "## 6 Log-likelihood and estimation\n",
    "The standard way to estimate linearized DSGE models is with a state space framework, calculating the log-likelihood for each set of parameters recursively using the Kalman filter. This becomes difficult with heterogeneous agent models where the relevant state space (even when reduced) may be quite high-dimensional, and the Kalman filter is costly to apply.\n",
    "\n",
    "Fortunately, there is an alternative sequence-space approach to computing the log-likelihood, which directly evaluates the log-likelihood of the multivariate normal and bypasses the Kalman filter entirely. To our knowledge, this idea was introduced to the DSGE literature by [Mankiw and Reis (2007)](https://scholar.harvard.edu/files/mankiw/files/sticky_information.pdf), and until now has been confined to the literature on informational rigidities. We show that it is ideally suited for the estimation of heterogeneous-agent models, particularly given our ability to calculate many linear impulse responses quickly, and that we can implement it such that each evaluation of the log-likelihood takes only a few milliseconds.\n",
    "\n",
    "### 6.1 Computation of log-likelihood\n",
    "The key observation is that assuming the means of all series are zero (which is often imposed through some kind of preliminary demeaning or detrending procedure on the data), and that the shocks are multivariate normal, all we really need to evaluate the log-likelihood is the covariance matrix $\\mathbf{V}_w$ of the vector of observations $\\mathbf{w}$ used for estimation. Then we have (up to a constant):\n",
    "\n",
    "$$\\mathcal{L} = -\\frac{1}{2}\\log(\\det(\\mathbf{V}_w)) - \\frac{1}{2}\\mathbf{w}'\\mathbf{V}_w^{-1}\\mathbf{w} \\tag{log-likelihood}$$ \n",
    "\n",
    "There are two key issues for implementation here: first, how to calculate $\\mathbf{V}_w$ itself, and second, how to evaluate the log determinant and the quadratic form needed for the log-likelihood.\n",
    "\n",
    "**Step 1: calculating $\\mathbf{V}_w$**.\n",
    "To avoid degeneracy and account for real-world data, we will generally assume that there is some measurement error, usually i.i.d.\n",
    "\n",
    "If `Sigma` is a $T\\times O \\times O$ array with autocovariances between observable outcomes $O$ at each horizon up to $T$, and `sigmas_measure` is a length-$O$ array with the standard deviation of i.i.d. measurement error of each observable, and we have a time series of $\\tau$ observations of each observable $O$, then the covariance matrix of the observations can be built using the following simple function, which is jitted using Numba for efficiency."
   ]
  },
  {
   "cell_type": "code",
   "execution_count": 41,
   "metadata": {},
   "outputs": [],
   "source": [
    "@njit\n",
    "def build_full_covariance_matrix(Sigma, sigmas_measure, tau):\n",
    "    \"\"\"Takes in T*O*O array Sigma with covariances at each lag t,\n",
    "       assembles them into (tau*O)*(tau*O) matrix of covariances, including measurement errors\"\"\"\n",
    "    T, O, O = Sigma.shape\n",
    "    V = np.empty((tau,O,tau,O))\n",
    "    for t1 in range(tau):\n",
    "        for t2 in range(tau):\n",
    "            if abs(t1-t2) >= T:\n",
    "                V[t1, : , t2, :] = np.zeros((O,O))\n",
    "            else:\n",
    "                if t1 < t2:\n",
    "                    V[t1, : , t2, :] = Sigma[t2-t1, :, :]\n",
    "                elif t1 > t2:\n",
    "                    V[t1, : , t2, :] = Sigma[t1-t2, :, :].T\n",
    "                else:\n",
    "                    # want exactly symmetric\n",
    "                    V[t1, : , t2, :] = (np.diag(sigmas_measure**2) \n",
    "                                        + (Sigma[0, :, :]+Sigma[0, :, :].T)/2)\n",
    "    return V.reshape((tau*O, tau*O))"
   ]
  },
  {
   "cell_type": "markdown",
   "metadata": {},
   "source": [
    "The `Sigma` itself, in turn, can be obtained given our solution using the methods from the previous section.\n",
    "\n",
    "The explicit construction of $\\mathbf{V}_w$ following this function may be somewhat costly and wasteful for large $\\tau$, since the matrix is Toeplitz and does not contain any information that is not already in the (much smaller) inputs to the `build_full_covariance_matrix` function. Some methods for computing the log-likelihood do not require its explicit construction, but the simple one we'll use in step 2 does.\n",
    "\n",
    "Let's apply this to the `Sigma` we calculated in [section 5.2](#section5_2), assuming measurement error of 0.01 for all series and 100 observation periods. As we can see, it's fairly cheap:"
   ]
  },
  {
   "cell_type": "code",
   "execution_count": 42,
   "metadata": {
    "scrolled": true
   },
   "outputs": [
    {
     "name": "stdout",
     "output_type": "stream",
     "text": [
      "CPU times: user 784 µs, sys: 425 µs, total: 1.21 ms\n",
      "Wall time: 1.21 ms\n"
     ]
    },
    {
     "data": {
      "text/plain": [
       "(400, 400)"
      ]
     },
     "execution_count": 42,
     "metadata": {},
     "output_type": "execute_result"
    }
   ],
   "source": [
    "V = build_full_covariance_matrix(Sigma, np.full(4, 0.01), 100) # burn-in\n",
    "%time V = build_full_covariance_matrix(Sigma, np.full(4, 0.01), 100)\n",
    "V.shape"
   ]
  },
  {
   "cell_type": "markdown",
   "metadata": {},
   "source": [
    "**Step 2: evaluating formula for $\\mathcal{L}$.** Now, given $\\mathbf{V}_w$, we must evaluate formula (log-likelihood). This requires computing the log determinant $\\log(\\det(\\mathbf{V}_w))$ and the quadratic form $\\mathbf{w}'\\mathbf{V}_w^{-1}\\mathbf{w}$.\n",
    "\n",
    "The traditional, simplest way to do so is by obtaining a Cholesky decomposition of $\\mathbf{V}_w$, as in the following function."
   ]
  },
  {
   "cell_type": "code",
   "execution_count": 43,
   "metadata": {},
   "outputs": [],
   "source": [
    "def log_likelihood(V, w):\n",
    "    \"\"\"Implements multivariate normal log-likelihood formula for observations w and variance V\"\"\"    \n",
    "    V_factored = linalg.cho_factor(V)\n",
    "    quadratic_form = np.dot(w, linalg.cho_solve(V_factored, w))\n",
    "    log_determinant = 2*np.sum(np.log(np.diag(V_factored[0])))\n",
    "    return -(log_determinant + quadratic_form)/2"
   ]
  },
  {
   "cell_type": "markdown",
   "metadata": {},
   "source": [
    "Let's check out the evaluation speed for this given the `V` we just obtained, and random noise for the $4\\times 100$ observations."
   ]
  },
  {
   "cell_type": "code",
   "execution_count": 44,
   "metadata": {},
   "outputs": [
    {
     "name": "stdout",
     "output_type": "stream",
     "text": [
      "CPU times: user 6.16 ms, sys: 1.12 ms, total: 7.27 ms\n",
      "Wall time: 4.57 ms\n"
     ]
    },
    {
     "data": {
      "text/plain": [
       "-1050623.7247630164"
      ]
     },
     "execution_count": 44,
     "metadata": {},
     "output_type": "execute_result"
    }
   ],
   "source": [
    "w = np.random.randn(400)\n",
    "%time log_likelihood(V, w)"
   ]
  },
  {
   "cell_type": "markdown",
   "metadata": {},
   "source": [
    "This is also quite fast: just a few milliseconds.\n",
    "\n",
    "An alternative approach is to exploit the special block Toeplitz structure of $\\mathbf{V}_w$ to obtain a block Cholesky decomposition using Levinson recursion. The time necessary for this grows with $\\tau^2$ rather than $\\tau^3$ in the ordinary Cholesky decomposition, but we have found in practical applications that Cholesky is implemented so efficiently that it dominates the Levinson approach except for larger $\\tau$."
   ]
  },
  {
   "cell_type": "markdown",
   "metadata": {},
   "source": [
    "### 6.2 Putting it together: calculating the likelihood in an example\n",
    "Continue to consider the shock process from section 5.2, where $dZ$ had one persistent component and one transitory component. Imagine that we do not know the persistence parameter $\\rho$ of the persistent component, nor do we know the relative variances of these two shocks or the variances of the measurement errors. Given some observed data $\\mathbf{w}$ with 100 observations of $dZ, dY, dC, dY$, what does the log-likelihood as a function of these parameters look like, and how do we compute it?\n",
    "\n",
    "We write the following function."
   ]
  },
  {
   "cell_type": "code",
   "execution_count": 45,
   "metadata": {},
   "outputs": [],
   "source": [
    "def log_likelihood_from_parameters(rho, sigma_persist, sigma_trans, sigmas_measure, w):\n",
    "    # impulse response to persistent shock\n",
    "    dZ1 = rho**(np.arange(T))\n",
    "    dY1, dC1, dK1 = G['Y'] @ dZ1, G['C'] @ dZ1, G['K'] @ dZ1\n",
    "    dX1 = np.stack([dZ1, dY1, dC1, dK1], axis=1)\n",
    "    \n",
    "    # since transitory shock does not depend on any unknown parameters,\n",
    "    # except scale sigma_trans, we just reuse the dX2 already calculated earlier!\n",
    "    \n",
    "    # stack impulse responses together\n",
    "    dX = np.stack([dX1, dX2], axis=2)\n",
    "    \n",
    "    # calculate all covariances\n",
    "    Sigma = all_covariances(dX, np.array([sigma_persist, sigma_trans]), T)\n",
    "    \n",
    "    # build full covariance matrix for data\n",
    "    V_w = build_full_covariance_matrix(Sigma, sigmas_measure, int(w.shape[0]/4))\n",
    "    \n",
    "    # calculate log-likelihood from this\n",
    "    return log_likelihood(V_w, w)"
   ]
  },
  {
   "cell_type": "markdown",
   "metadata": {},
   "source": [
    "Start with the parameters we've been using in sections 5.2 and 6.1:"
   ]
  },
  {
   "cell_type": "code",
   "execution_count": 46,
   "metadata": {},
   "outputs": [],
   "source": [
    "rho = 0.9\n",
    "sigma_persist = 0.01\n",
    "sigma_trans = 0.04\n",
    "sigmas_measure = np.full(4, 0.01)"
   ]
  },
  {
   "cell_type": "markdown",
   "metadata": {},
   "source": [
    "and now see how long this full log-likelihood function takes to evaluate for a given parameter on random data:"
   ]
  },
  {
   "cell_type": "code",
   "execution_count": 47,
   "metadata": {
    "scrolled": true
   },
   "outputs": [
    {
     "name": "stdout",
     "output_type": "stream",
     "text": [
      "CPU times: user 8.48 ms, sys: 2.71 ms, total: 11.2 ms\n",
      "Wall time: 10 ms\n"
     ]
    },
    {
     "data": {
      "text/plain": [
       "-971369.7324924718"
      ]
     },
     "execution_count": 47,
     "metadata": {},
     "output_type": "execute_result"
    }
   ],
   "source": [
    "w = np.random.randn(400)\n",
    "%time log_likelihood_from_parameters(rho, sigma_persist, sigma_trans, sigmas_measure, w)"
   ]
  },
  {
   "cell_type": "markdown",
   "metadata": {},
   "source": [
    "It's just a few milliseconds for one log-likelihood computation! At this pace, full Bayesian estimation would be feasible within a matter of minutes on a personal laptop.\n",
    "\n",
    "What is behind this speed? The key is the same as in section 4: once we have obtained the matrices in `G`, it is nearly free to compute the impulse responses to different shocks. This is extremely useful for estimation.\n",
    "\n",
    "If we consider an alternative estimation exercise where we also estimate parameters of a model, rather than just the shock process, then computing the log-likelihood may become more difficult. There is an important case, however, where it is still mostly trivial: the case where we do not change parameters that affect the heterogeneous-agent blocks. In this case, we only need to compute the steady state and heterogeneous-agent Jacobian (which is the only nontrivial one) once, and solving the model for a change in other parameters is mostly still a simple matter of linear algebra.\n",
    "\n",
    "This case has great appeal, since it is not clear there is much information in the time series to discipline the heterogeneous-agent steady state anyway."
   ]
  },
  {
   "cell_type": "markdown",
   "metadata": {},
   "source": [
    "**Simulate sample data.** Now let's simulate more realistic series $w=\\{dZ, dY, dC, dK\\}$, assuming the same parameters as above, to see what evaluating the log-likelihood is like. To do so, we simply use the variance matrix `V` calculated above."
   ]
  },
  {
   "cell_type": "code",
   "execution_count": 48,
   "metadata": {},
   "outputs": [],
   "source": [
    "w = np.random.multivariate_normal(np.zeros(400), V)"
   ]
  },
  {
   "cell_type": "markdown",
   "metadata": {},
   "source": [
    "Now let's plot the log-likelihood of $w$ as a function of the standard deviation of the persistent component (the true value of which is 0.01), given correct values for all other parameters. Note that evaluating the log-likelihood 100 times takes well below one second."
   ]
  },
  {
   "cell_type": "code",
   "execution_count": 49,
   "metadata": {
    "scrolled": true
   },
   "outputs": [
    {
     "name": "stdout",
     "output_type": "stream",
     "text": [
      "CPU times: user 603 ms, sys: 73.2 ms, total: 676 ms\n",
      "Wall time: 364 ms\n"
     ]
    }
   ],
   "source": [
    "sigma_persist_values = np.linspace(0.005, 0.02, 100)\n",
    "%time lls = np.array([log_likelihood_from_parameters(rho, sigma_persist, sigma_trans, sigmas_measure, w) for sigma_persist in sigma_persist_values])"
   ]
  },
  {
   "cell_type": "code",
   "execution_count": 50,
   "metadata": {
    "scrolled": true
   },
   "outputs": [
    {
     "data": {
      "image/png": "[encoded data removed]",
      "text/plain": [
       "<Figure size 432x288 with 1 Axes>"
      ]
     },
     "metadata": {},
     "output_type": "display_data"
    }
   ],
   "source": [
    "plt.plot(sigma_persist_values, lls)\n",
    "plt.axvline(0.01, linestyle=':', color='gray')\n",
    "plt.title(r'Log likelihood of simulated data as function of $\\sigma_{persist}$')\n",
    "plt.show()"
   ]
  },
  {
   "cell_type": "markdown",
   "metadata": {},
   "source": [
    "Reassuringly, the mode is near (although not exactly at, since we're simulating a finite sample with only 100 periods) the value of $\\sigma_{persist}=0.01$ with which the data was simulated!"
   ]
  },
  {
   "cell_type": "markdown",
   "metadata": {},
   "source": [
    "<a id=\"7-nonlinear\"></a>\n",
    "\n",
    "## 7 Nonlinear dynamics\n",
    "Linearized impulse responses are invariant to the sign and size of aggregate shocks by construction. Although this is not a problem for many applications, it is clearly a limitation. Here, we demonstrate that the Jacobian can also be extremely useful in solving for nonlinear dynamics."
   ]
  },
  {
   "cell_type": "markdown",
   "metadata": {},
   "source": [
    "Let us start by considering the case of an economy that starts at the steady state, and receives an unexpected shock at date 0. This is often called an \"MIT shock\". \n",
    "\n",
    "For a given shock $Z$, the solution is still characterized by the $K$ that solves $H(K,Z)=0$. Our algorithm to find this $K$, a simple variant of Newton's method, iterates on a sequence of guesses $K^j$ for the path of capital as follows:\n",
    "1. starting with $j=0$, guess a path $K^0$\n",
    "2. calculate $H(K^j, Z)$\n",
    "3. update the guess according to $$K^{j+1} = K^j - H_K(K_{ss}, Z_{ss})^{-1} H(K^j, Z)$$\n",
    "and return to step 2 for $j+1$\n",
    "\n",
    "The only difference between this and the standard Newton's method is that we use the Jacobian $H_K$ around the steady state (which we have already calculated), rather than the Jacobian around the current guess (which is somewhat more difficult to calculate). Still, this tends to achieve extremely fast convergence.\n",
    "\n",
    "Although iterative methods to solve for equilibrium in response to MIT shocks are quite common in the heterogeneous-agent literature, these methods generally use ad-hoc rules for updating the guess, which can be fragile and slow. In applications with no or limited heterogeneity (such as spender-saver models) where it is possible to calculate Jacobians easily, Newton's method has been used to provide faster and more robust convergence -- see, for instance, [Juillard (1996)](http://www.cepremap.fr/depot/couv_orange/co9602.pdf).\n",
    "\n",
    "But until now, this has not been applied to heterogeneous-agent models, since the Jacobian has been too difficult to calculate. The only partial applications to date, to our knowledge, are in [Auclert and Rognlie (2018)](http://web.stanford.edu/~aauclert/computational_appendix_inequad.pdf), which uses an auxiliary model to compute an approximate Jacobian, and in [Straub (2018)](https://scholar.harvard.edu/files/straub/files/jmp_straub_jan_2.pdf), which uses interpolation to compute an approximate Jacobian. In this paper, however, we have provided a highly efficient method to compute the *exact* Jacobian around the steady state for any heterogeneous-agent model, and can thus readily apply Newton's method."
   ]
  },
  {
   "cell_type": "markdown",
   "metadata": {},
   "source": [
    "### 7.1 Algorithm\n",
    "First we need functions that can evaluate the building blocks of $H(K,Z)$, the firm block and household block, nonlinearly for arbitrary inputs.\n",
    "\n",
    "Since some of the details are slighly tedious, we relegate the function `household_td` to the module `ks.py`. This function, which performs a backward iteration to get policies and a forward iteration to update the distribution, is called by providing the steady state and then specifying the path of any input that deviates from the steady state.\n",
    "\n",
    "By using the decorator `@recursive`, we have already enabled the firm block to evaluate itself on any path by using the method `.td()`.\n",
    "\n",
    "Combining these, it is easy to write the function $H(K,Z)$ below as `td_map`, which takes in the steady state and paths for $K$ and $Z$ and returns the asset market clearing discrepancy. It also returns, in `td`, paths for $r,w,K,Z,Y$ and household variables that are calculated along the way."
   ]
  },
  {
   "cell_type": "code",
   "execution_count": 51,
   "metadata": {},
   "outputs": [],
   "source": [
    "def td_map(ss, K, Z):\n",
    "    # firm block\n",
    "    r, w, Y = firm.td(ss, K=K, Z=Z)\n",
    "\n",
    "    # ha block\n",
    "    td = ks.household_td(ss, r=r, w=w)\n",
    "    td.update({'r': r, 'w': w, 'K': K, 'Z': Z, 'Y': Y})\n",
    "\n",
    "    return td['A'] - K, td"
   ]
  },
  {
   "cell_type": "markdown",
   "metadata": {},
   "source": [
    "Now we can run Newton's method, given $H_K^{-1}$. Once a path $K$ is found such that asset market clearing holds, we return the dict `td` with all paths."
   ]
  },
  {
   "cell_type": "code",
   "execution_count": 52,
   "metadata": {},
   "outputs": [],
   "source": [
    "def td_nonlinear(ss, H_K_inv, Z, tol=1E-8, maxit=30, noisy=True):\n",
    "    \"\"\"Compute non-linear impulse response via Newton's method.\"\"\"\n",
    "    # initialize guess at ss\n",
    "    T = Z.shape[0]\n",
    "    K = np.full(T, ss['K'])\n",
    "\n",
    "    # iterate until convergence\n",
    "    for it in range(maxit):\n",
    "        asset_mkt, td = td_map(ss, K, Z)\n",
    "        error = np.max(np.abs(asset_mkt))\n",
    "        if noisy:\n",
    "            print(f'Max error {error:.2E} on iteration {it}')\n",
    "        if error < tol:\n",
    "            break\n",
    "        else:\n",
    "            K -= H_K_inv @ asset_mkt\n",
    "    else:\n",
    "        raise ValueError(f'No convergence after {maxit} backward iterations!')\n",
    "\n",
    "    return td"
   ]
  },
  {
   "cell_type": "markdown",
   "metadata": {},
   "source": [
    "### 7.2 Results\n",
    "Let's apply this to a productivity shock that increases $Z$ by 1% on impact, with a persistence of 0.8."
   ]
  },
  {
   "cell_type": "code",
   "execution_count": 53,
   "metadata": {
    "scrolled": true
   },
   "outputs": [
    {
     "name": "stdout",
     "output_type": "stream",
     "text": [
      "Max error 3.37E-02 on iteration 0\n",
      "Max error 5.27E-05 on iteration 1\n",
      "Max error 1.23E-07 on iteration 2\n",
      "Max error 2.17E-10 on iteration 3\n",
      "CPU times: user 528 ms, sys: 66.2 ms, total: 595 ms\n",
      "Wall time: 306 ms\n"
     ]
    }
   ],
   "source": [
    "H_K_inv = np.linalg.inv(H_K)\n",
    "Z = ss['Z'] + 0.01*0.8**np.arange(T)\n",
    "%time td_nonlin = td_nonlinear(ss, H_K_inv, Z)"
   ]
  },
  {
   "cell_type": "markdown",
   "metadata": {},
   "source": [
    "We see that this is quite quick, taking only 3 iterations after the initial guess to achieve high accuracy -- far fewer than typical ad-hoc updating rules, which can take hundreds or thousands of iterations.\n",
    "\n",
    "Now let's compare to the results we'd get for the linearized impulse response, and plot the paths for the real interest rate $r$."
   ]
  },
  {
   "cell_type": "code",
   "execution_count": 54,
   "metadata": {},
   "outputs": [
    {
     "data": {
      "image/png": "[encoded data removed]",
      "text/plain": [
       "<Figure size 432x288 with 1 Axes>"
      ]
     },
     "metadata": {},
     "output_type": "display_data"
    }
   ],
   "source": [
    "dr_nonlin = td_nonlin['r'] - ss['r']\n",
    "dr_lin = G['r'] @ (Z - ss['Z'])\n",
    "plt.plot(dr_nonlin[:50], label='nonlinear', linewidth=2.5)\n",
    "plt.plot(dr_lin[:50], label='linear', linestyle='--', linewidth=2.5)\n",
    "plt.title(r'$r$ response to 1% $Z$ shock with $\\rho=0.8$')\n",
    "plt.legend()\n",
    "plt.show()"
   ]
  },
  {
   "cell_type": "markdown",
   "metadata": {},
   "source": [
    "There is no visible difference -- the first-order approximation is almost perfect here.\n",
    "\n",
    "If we increase the size of the productivity shock on impact to 10% (enormous!), we can begin to see small nonlinearities kick in, and the solution requires five iterations rather than three:"
   ]
  },
  {
   "cell_type": "code",
   "execution_count": 55,
   "metadata": {},
   "outputs": [
    {
     "name": "stdout",
     "output_type": "stream",
     "text": [
      "Max error 3.47E-01 on iteration 0\n",
      "Max error 5.13E-03 on iteration 1\n",
      "Max error 1.15E-04 on iteration 2\n",
      "Max error 1.73E-06 on iteration 3\n",
      "Max error 1.29E-08 on iteration 4\n",
      "Max error 2.81E-10 on iteration 5\n"
     ]
    },
    {
     "data": {
      "image/png": "[encoded data removed]",
      "text/plain": [
       "<Figure size 432x288 with 1 Axes>"
      ]
     },
     "metadata": {},
     "output_type": "display_data"
    }
   ],
   "source": [
    "Z = ss['Z'] + 0.1*0.8**np.arange(T)\n",
    "td_nonlin = td_nonlinear(ss, H_K_inv, Z)\n",
    "dr_nonlin = td_nonlin['r'] - ss['r']\n",
    "dr_lin = G['r'] @ (Z - ss['Z'])\n",
    "plt.plot(dr_nonlin[:50], label='nonlinear', linewidth=2.5)\n",
    "plt.plot(dr_lin[:50], label='linear', linestyle='--', linewidth=2.5)\n",
    "plt.title(r'$r$ response to 10% $Z$ shock with $\\rho=0.8$')\n",
    "plt.legend()\n",
    "plt.show()"
   ]
  }
 ],
 "metadata": {
  "kernelspec": {
   "display_name": "Python 3",
   "language": "python",
   "name": "python3"
  },
  "language_info": {
   "codemirror_mode": {
    "name": "ipython",
    "version": 3
   },
   "file_extension": ".py",
   "mimetype": "text/x-python",
   "name": "python",
   "nbconvert_exporter": "python",
   "pygments_lexer": "ipython3",
   "version": "3.6.8"
  }
 },
 "nbformat": 4,
 "nbformat_minor": 2
}
