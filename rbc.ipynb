{
 "cells": [
  {
   "cell_type": "markdown",
   "metadata": {},
   "source": [
    "# A simple RBC model in sequence space\n",
    "\n",
    "Could compare directly to Dynare `perfect_foresight` with `linear_approximation` option. \n",
    "\n",
    "Let's start from a standard set of equilibrium conditions.\n",
    "\n",
    "$$\n",
    "\\textbf{H}_t(\\textbf{Y}, Z) \\equiv \n",
    "\\begin{pmatrix}\n",
    "C_t^{-\\sigma} - \\beta (1 + r_{t+1}) C_{t+1}^{-\\sigma}\n",
    "\\\\\n",
    "w_t - \\varphi L_t^{\\nu} C_t^{\\sigma}\n",
    "\\\\\n",
    "K_t - (1 - \\delta) K_{t-1} - I_t\n",
    "\\\\\n",
    "r_t + \\delta -\\alpha Z_t \\left(\\frac{K_{t-1}}{L_t} \\right)^{\\alpha-1}\n",
    "\\\\\n",
    "w_t - (1-\\alpha) Z_t \\left(\\frac{K_{t-1}}{L_t} \\right)^{\\alpha}\n",
    "\\\\\n",
    "Y_t - Z_t K_{t-1}^\\alpha L_t^{1-\\alpha}\n",
    "\\\\\n",
    "Y_t - C_t - I_t\n",
    "\\end{pmatrix}\n",
    "= \\begin{pmatrix} 0 \\\\ 0 \\\\ 0 \\\\ 0 \\\\ 0 \\\\ 0 \\\\ 0\\end{pmatrix},\n",
    "\\qquad t = 0, 1, \\dots\n",
    "$$\n"
   ]
  },
  {
   "cell_type": "markdown",
   "metadata": {},
   "source": [
    "## 0 Import packages\n",
    "The first two are standard python packages, the rest contain code we wrote for this project."
   ]
  },
  {
   "cell_type": "code",
   "execution_count": 1,
   "metadata": {},
   "outputs": [],
   "source": [
    "import numpy as np\n",
    "import matplotlib.pyplot as plt\n",
    "\n",
    "import utils\n",
    "from simple_block import simple\n",
    "import jacobian as jac\n",
    "import nonlinear"
   ]
  },
  {
   "cell_type": "markdown",
   "metadata": {},
   "source": [
    "## 1 Steady state"
   ]
  },
  {
   "cell_type": "code",
   "execution_count": 2,
   "metadata": {},
   "outputs": [],
   "source": [
    "def rbc_ss(r=0.01, eis=1, frisch=1, delta=0.025, alpha=0.11):\n",
    "    \"\"\"Solve steady state of full GE model.\"\"\"\n",
    "    # solve for aggregates analytically\n",
    "    rk = r + delta\n",
    "    Z = (rk / alpha) ** alpha  # normalize so that Y=1\n",
    "    K = (alpha * Z / rk) ** (1 / (1 - alpha))\n",
    "    Y = Z * K ** alpha\n",
    "    w = (1 - alpha) * Z * K ** alpha\n",
    "    I = delta * K\n",
    "    C = Y - I\n",
    "    \n",
    "    # preference params from HH optimality, numerical for HA version\n",
    "    beta = 1 / (1 + r)\n",
    "    vphi = w * C ** (-1 / eis)\n",
    "    \n",
    "    # check Walras's law\n",
    "    walras = C - r * K - w\n",
    "    assert np.abs(walras) < 1E-12\n",
    "\n",
    "    # report variables\n",
    "    ss = {'beta': beta, 'eis': eis, 'frisch':frisch, 'vphi': vphi, 'delta': delta, 'alpha': alpha,\n",
    "          'Z': Z, 'K': K, 'I': I, 'Y': Y, 'L': 1, 'C': C, 'w': w, 'r': r, 'walras': walras}\n",
    "\n",
    "    return ss"
   ]
  },
  {
   "cell_type": "code",
   "execution_count": 3,
   "metadata": {},
   "outputs": [],
   "source": [
    "ss = rbc_ss()"
   ]
  },
  {
   "cell_type": "markdown",
   "metadata": {},
   "source": [
    "## 2 Model blocks\n",
    "Alternatively, we could make the Euler equation into a SolvedBlock to determine $C$ before targets. This would be closer to how the HA-version works, but clearly a suboptimal choice here. "
   ]
  },
  {
   "cell_type": "code",
   "execution_count": 4,
   "metadata": {},
   "outputs": [],
   "source": [
    "@simple\n",
    "def firm(K, L, Z, alpha, delta):\n",
    "    r = alpha * Z * (K(-1) / L) ** (alpha-1) - delta\n",
    "    w = (1 - alpha) * Z * (K(-1) / L) ** alpha\n",
    "    Y = Z * K(-1) ** alpha * L ** (1 - alpha)\n",
    "    I = K - (1 - delta) * K(-1)\n",
    "    return r, w, Y, I\n",
    "\n",
    "@simple\n",
    "def household(L, w, eis, frisch, vphi):\n",
    "    C = (w / vphi / L ** (1 / frisch)) ** eis\n",
    "    return C\n",
    "\n",
    "@simple\n",
    "def mkt_clearing(r, C, Y, I, K, L, w, eis, beta):\n",
    "    labor_mkt = C ** (-1 / eis) - beta * (1 + r(+1)) * C(+1) ** (-1 / eis)  \n",
    "    goods_mkt = Y - C - I\n",
    "    walras = C + K - (1 + r) * K(-1) - w * L # we can check this\n",
    "    return labor_mkt, goods_mkt, walras"
   ]
  },
  {
   "cell_type": "markdown",
   "metadata": {},
   "source": [
    "## 3 Linearized solution"
   ]
  },
  {
   "cell_type": "code",
   "execution_count": 5,
   "metadata": {},
   "outputs": [],
   "source": [
    "T = 300\n",
    "\n",
    "G = jac.get_G(block_list=[firm, household, mkt_clearing],\n",
    "              exogenous=['Z'],\n",
    "              unknowns=['K', 'L'],\n",
    "              targets=['labor_mkt', 'goods_mkt'],\n",
    "              T=T, ss=ss)\n",
    "\n",
    "# np.max(np.abs(G['walras']['Z']))"
   ]
  },
  {
   "cell_type": "markdown",
   "metadata": {},
   "source": [
    "Equipped with the `G` matrices, we can get the impulse responses to any shock $dZ$ via matrix multiplication."
   ]
  },
  {
   "cell_type": "code",
   "execution_count": 6,
   "metadata": {},
   "outputs": [
    {
     "data": {
      "image/png": "[encoded data removed]",
      "text/plain": [
       "<Figure size 432x288 with 1 Axes>"
      ]
     },
     "metadata": {},
     "output_type": "display_data"
    }
   ],
   "source": [
    "rho = 0.8\n",
    "dZ = 0.01*ss['Z']*rho**np.arange(T)\n",
    "dC = G['C']['Z'] @ dZ / ss['C']\n",
    "plt.plot(100*dC[:50], linewidth=2.5)\n",
    "plt.title(r'$C$ response to 1% $Z$ shocks with $\\rho=0.8$')\n",
    "plt.ylabel(r'% deviation from ss')\n",
    "plt.xlabel(r'quarters')\n",
    "plt.show()"
   ]
  },
  {
   "cell_type": "markdown",
   "metadata": {},
   "source": [
    "## 4 Nonlinear solution\n",
    "\n",
    "This is shock-specific of course."
   ]
  },
  {
   "cell_type": "code",
   "execution_count": 7,
   "metadata": {},
   "outputs": [
    {
     "name": "stdout",
     "output_type": "stream",
     "text": [
      "On iteration 0\n",
      "   max error for goods_mkt is 8.91E-04\n",
      "   max error for labor_mkt is 2.75E-03\n",
      "On iteration 1\n",
      "   max error for goods_mkt is 9.21E-05\n",
      "   max error for labor_mkt is 4.07E-05\n",
      "On iteration 2\n",
      "   max error for goods_mkt is 4.07E-07\n",
      "   max error for labor_mkt is 4.66E-07\n",
      "On iteration 3\n",
      "   max error for goods_mkt is 5.74E-09\n",
      "   max error for labor_mkt is 5.76E-09\n"
     ]
    }
   ],
   "source": [
    "Z = ss['Z'] + 0.01*0.8**np.arange(T)\n",
    "td_nonlin = nonlinear.td_solve(ss=ss, block_list=[firm, household, mkt_clearing],\n",
    "                               unknowns=['K', 'L'], targets=['goods_mkt', 'labor_mkt'], Z=Z)"
   ]
  },
  {
   "cell_type": "code",
   "execution_count": 8,
   "metadata": {},
   "outputs": [
    {
     "data": {
      "image/png": "[encoded data removed]",
      "text/plain": [
       "<Figure size 432x288 with 1 Axes>"
      ]
     },
     "metadata": {},
     "output_type": "display_data"
    }
   ],
   "source": [
    "dC_nonlin = td_nonlin['C']/ss['C'] - 1\n",
    "dC_lin = G['C']['Z'] @ (Z - ss['Z']) / ss['C']\n",
    "plt.plot(100*dC_lin[:50], label='linear', linewidth=2.5)\n",
    "plt.plot(100*dC_nonlin[:50], label='nonlinear',  linestyle='--', linewidth=2.5)\n",
    "plt.title(r'$C$ response to 1% $Z$ shock with $\\rho=0.8$')\n",
    "plt.ylabel(r'% deviation from ss')\n",
    "plt.xlabel(r'quarters')\n",
    "plt.legend()\n",
    "plt.show()"
   ]
  },
  {
   "cell_type": "markdown",
   "metadata": {},
   "source": [
    "## 5 Replacing the household block"
   ]
  }
 ],
 "metadata": {
  "kernelspec": {
   "display_name": "Python 3",
   "language": "python",
   "name": "python3"
  },
  "language_info": {
   "codemirror_mode": {
    "name": "ipython",
    "version": 3
   },
   "file_extension": ".py",
   "mimetype": "text/x-python",
   "name": "python",
   "nbconvert_exporter": "python",
   "pygments_lexer": "ipython3",
   "version": "3.6.8"
  }
 },
 "nbformat": 4,
 "nbformat_minor": 2
}
