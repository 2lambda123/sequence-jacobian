{
 "cells": [
  {
   "cell_type": "markdown",
   "metadata": {},
   "source": [
    "# A simple RBC model in sequence space\n",
    "\n",
    "In this notebook we showcase the general workflow of setting up and solving dynamic general equilibrium models in sequence space. The process is the exactly the same for heterogeneous-agent models, once the HA blocks are specified.\n",
    "\n",
    "The notebook accompanies the working paper by Auclert, Bardóczy, Rognlie, Straub (2019): \"Using the Sequence-Space Jacobian to Solve and Estimate Heterogeneous-Agent Models\". Please see the [Github repository](https://github.com/shade-econ/sequence-jacobian) for more information and code.\n",
    "\n",
    "## Model description\n",
    "\n",
    "Let's take a standard RBC model with the following equilibrium conditions.\n",
    "\n",
    "$$\n",
    "\\textbf{H}_t(\\textbf{U}, Z) \\equiv \n",
    "\\begin{pmatrix}\n",
    "C_t^{-\\sigma} - \\beta (1 + r_{t+1}) C_{t+1}^{-\\sigma}\n",
    "\\\\\n",
    "w_t - \\varphi L_t^{\\nu} C_t^{\\sigma}\n",
    "\\\\\n",
    "K_t - (1 - \\delta) K_{t-1} - I_t\n",
    "\\\\\n",
    "r_t + \\delta -\\alpha Z_t \\left(\\frac{K_{t-1}}{L_t} \\right)^{\\alpha-1}\n",
    "\\\\\n",
    "w_t - (1-\\alpha) Z_t \\left(\\frac{K_{t-1}}{L_t} \\right)^{\\alpha}\n",
    "\\\\\n",
    "Y_t - Z_t K_{t-1}^\\alpha L_t^{1-\\alpha}\n",
    "\\\\\n",
    "Y_t - C_t - I_t\n",
    "\\end{pmatrix}\n",
    "= \\begin{pmatrix} 0 \\\\ 0 \\\\ 0 \\\\ 0 \\\\ 0 \\\\ 0 \\\\ 0\\end{pmatrix},\n",
    "\\qquad t = 0, 1, \\dots \n",
    "\\tag{1}\n",
    "$$\n",
    "\n",
    "As usual, labor market clearing is imposed implicitly and asset market clearing is omitted by Walras's law."
   ]
  },
  {
   "cell_type": "markdown",
   "metadata": {},
   "source": [
    "## 0 Import packages\n",
    "The first two are standard python packages, the rest contain code we wrote for this project."
   ]
  },
  {
   "cell_type": "code",
   "execution_count": 1,
   "metadata": {},
   "outputs": [
    {
     "ename": "ImportError",
     "evalue": "cannot import name 'simple'",
     "output_type": "error",
     "traceback": [
      "\u001b[1;31m---------------------------------------------------------------------------\u001b[0m",
      "\u001b[1;31mImportError\u001b[0m                               Traceback (most recent call last)",
      "\u001b[1;32m<ipython-input-1-14d50278becb>\u001b[0m in \u001b[0;36m<module>\u001b[1;34m()\u001b[0m\n\u001b[0;32m      3\u001b[0m \u001b[1;33m\u001b[0m\u001b[0m\n\u001b[0;32m      4\u001b[0m \u001b[1;32mimport\u001b[0m \u001b[0mutils\u001b[0m\u001b[1;33m\u001b[0m\u001b[0m\n\u001b[1;32m----> 5\u001b[1;33m \u001b[1;32mfrom\u001b[0m \u001b[0msimple_block\u001b[0m \u001b[1;32mimport\u001b[0m \u001b[0msimple\u001b[0m\u001b[1;33m\u001b[0m\u001b[0m\n\u001b[0m\u001b[0;32m      6\u001b[0m \u001b[1;32mimport\u001b[0m \u001b[0mjacobian\u001b[0m \u001b[1;32mas\u001b[0m \u001b[0mjac\u001b[0m\u001b[1;33m\u001b[0m\u001b[0m\n\u001b[0;32m      7\u001b[0m \u001b[1;32mimport\u001b[0m \u001b[0mnonlinear\u001b[0m\u001b[1;33m\u001b[0m\u001b[0m\n",
      "\u001b[1;32m~\\Python\\sequence-jacobian\\simple_block.py\u001b[0m in \u001b[0;36m<module>\u001b[1;34m()\u001b[0m\n\u001b[0;32m      2\u001b[0m \u001b[1;32mfrom\u001b[0m \u001b[0mnumba\u001b[0m \u001b[1;32mimport\u001b[0m \u001b[0mnjit\u001b[0m\u001b[1;33m\u001b[0m\u001b[0m\n\u001b[0;32m      3\u001b[0m \u001b[1;32mimport\u001b[0m \u001b[0mutils\u001b[0m\u001b[1;33m\u001b[0m\u001b[0m\n\u001b[1;32m----> 4\u001b[1;33m \u001b[1;32mimport\u001b[0m \u001b[0masymptotic\u001b[0m\u001b[1;33m\u001b[0m\u001b[0m\n\u001b[0m\u001b[0;32m      5\u001b[0m \u001b[1;33m\u001b[0m\u001b[0m\n\u001b[0;32m      6\u001b[0m \u001b[1;34m'''Part 1: SimpleBlock class and @simple decorator to generate it'''\u001b[0m\u001b[1;33m\u001b[0m\u001b[0m\n",
      "\u001b[1;32m~\\Python\\sequence-jacobian\\asymptotic.py\u001b[0m in \u001b[0;36m<module>\u001b[1;34m()\u001b[0m\n\u001b[0;32m      3\u001b[0m \u001b[1;32mfrom\u001b[0m \u001b[0mnumpy\u001b[0m\u001b[1;33m.\u001b[0m\u001b[0mfft\u001b[0m \u001b[1;32mimport\u001b[0m \u001b[0mrfft\u001b[0m\u001b[1;33m,\u001b[0m \u001b[0mrfftn\u001b[0m\u001b[1;33m,\u001b[0m \u001b[0mirfft\u001b[0m\u001b[1;33m,\u001b[0m \u001b[0mirfftn\u001b[0m\u001b[1;33m\u001b[0m\u001b[0m\n\u001b[0;32m      4\u001b[0m \u001b[1;32mfrom\u001b[0m \u001b[0mnumba\u001b[0m \u001b[1;32mimport\u001b[0m \u001b[0mnjit\u001b[0m\u001b[1;33m\u001b[0m\u001b[0m\n\u001b[1;32m----> 5\u001b[1;33m \u001b[1;32mimport\u001b[0m \u001b[0mjacobian\u001b[0m \u001b[1;32mas\u001b[0m \u001b[0mjac\u001b[0m\u001b[1;33m\u001b[0m\u001b[0m\n\u001b[0m\u001b[0;32m      6\u001b[0m \u001b[1;33m\u001b[0m\u001b[0m\n\u001b[0;32m      7\u001b[0m \u001b[1;33m\u001b[0m\u001b[0m\n",
      "\u001b[1;32m~\\Python\\sequence-jacobian\\jacobian.py\u001b[0m in \u001b[0;36m<module>\u001b[1;34m()\u001b[0m\n\u001b[0;32m      4\u001b[0m \u001b[1;32mimport\u001b[0m \u001b[0msimple_block\u001b[0m \u001b[1;32mas\u001b[0m \u001b[0msim\u001b[0m\u001b[1;33m\u001b[0m\u001b[0m\n\u001b[0;32m      5\u001b[0m \u001b[1;32mimport\u001b[0m \u001b[0mhet_block\u001b[0m \u001b[1;32mas\u001b[0m \u001b[0mhet\u001b[0m\u001b[1;33m\u001b[0m\u001b[0m\n\u001b[1;32m----> 6\u001b[1;33m \u001b[1;32mimport\u001b[0m \u001b[0msolved_block\u001b[0m \u001b[1;32mas\u001b[0m \u001b[0msol\u001b[0m\u001b[1;33m\u001b[0m\u001b[0m\n\u001b[0m\u001b[0;32m      7\u001b[0m \u001b[1;32mimport\u001b[0m \u001b[0masymptotic\u001b[0m\u001b[1;33m\u001b[0m\u001b[0m\n\u001b[0;32m      8\u001b[0m \u001b[1;33m\u001b[0m\u001b[0m\n",
      "\u001b[1;32m~\\Python\\sequence-jacobian\\solved_block.py\u001b[0m in \u001b[0;36m<module>\u001b[1;34m()\u001b[0m\n\u001b[0;32m      2\u001b[0m \u001b[1;32mimport\u001b[0m \u001b[0mnonlinear\u001b[0m\u001b[1;33m\u001b[0m\u001b[0m\n\u001b[0;32m      3\u001b[0m \u001b[1;32mimport\u001b[0m \u001b[0mjacobian\u001b[0m \u001b[1;32mas\u001b[0m \u001b[0mjac\u001b[0m\u001b[1;33m\u001b[0m\u001b[0m\n\u001b[1;32m----> 4\u001b[1;33m \u001b[1;32mfrom\u001b[0m \u001b[0msimple_block\u001b[0m \u001b[1;32mimport\u001b[0m \u001b[0msimple\u001b[0m\u001b[1;33m\u001b[0m\u001b[0m\n\u001b[0m\u001b[0;32m      5\u001b[0m \u001b[1;33m\u001b[0m\u001b[0m\n\u001b[0;32m      6\u001b[0m \u001b[1;33m\u001b[0m\u001b[0m\n",
      "\u001b[1;31mImportError\u001b[0m: cannot import name 'simple'"
     ]
    }
   ],
   "source": [
    "import numpy as np\n",
    "import matplotlib.pyplot as plt\n",
    "\n",
    "import utils\n",
    "from simple_block import simple\n",
    "import jacobian as jac\n",
    "import nonlinear"
   ]
  },
  {
   "cell_type": "markdown",
   "metadata": {},
   "source": [
    "## 1 Steady state\n",
    "\n",
    "The first step of solving a model is to compute its steady state. We achieve this in general by writing a function that takes in parameters and calibration targets and returns a dict(ionary) of steady state values. \n",
    "\n",
    "In this simple case, the steady state is fully analytical. We choose the discount rate $\\beta$ to hit a given real interest rate $r$, the disutility of labor $\\varphi$ to hit labor $L=1$, and normalize TFP $Z$ to get output $Y=1$. As a sanity check, we compute the error in Walras's law, residual of HH budget constraint, i.e. capital market clearing."
   ]
  },
  {
   "cell_type": "code",
   "execution_count": null,
   "metadata": {},
   "outputs": [],
   "source": [
    "def rbc_ss(r=0.01, eis=1, frisch=1, delta=0.025, alpha=0.11):\n",
    "    \"\"\"Solve steady state of simple RBC model.\n",
    "        \n",
    "    Parameters\n",
    "    ----------\n",
    "    r      : scalar, real interest rate\n",
    "    eis    : scalar, elasticity of intertemporal substitution (1/sigma)\n",
    "    frisch : scalar, Frisch elasticity (1/nu)\n",
    "    delta  : scalar, depreciation rate\n",
    "    alpha  : scalar, capital share\n",
    "\n",
    "    Returns\n",
    "    -------\n",
    "    ss : dict, steady state values\n",
    "    \"\"\"\n",
    "    # solve for aggregates analytically\n",
    "    rk = r + delta\n",
    "    Z = (rk / alpha) ** alpha  # normalize so that Y=1\n",
    "    K = (alpha * Z / rk) ** (1 / (1 - alpha))\n",
    "    Y = Z * K ** alpha\n",
    "    w = (1 - alpha) * Z * K ** alpha\n",
    "    I = delta * K\n",
    "    C = Y - I\n",
    "    \n",
    "    # preference params\n",
    "    beta = 1 / (1 + r)\n",
    "    vphi = w * C ** (-1 / eis)\n",
    "    \n",
    "    # check Walras's law\n",
    "    walras = C - r * K - w\n",
    "    assert np.abs(walras) < 1E-12\n",
    "\n",
    "    return {'beta': beta, 'eis': eis, 'frisch':frisch, 'vphi': vphi, 'delta': delta, 'alpha': alpha,\n",
    "            'Z': Z, 'K': K, 'I': I, 'Y': Y, 'L': 1, 'C': C, 'w': w, 'r': r, 'walras': walras}"
   ]
  },
  {
   "cell_type": "markdown",
   "metadata": {},
   "source": [
    "Let's run this function to get the steady state for the default parameters."
   ]
  },
  {
   "cell_type": "code",
   "execution_count": null,
   "metadata": {},
   "outputs": [],
   "source": [
    "ss = rbc_ss()\n",
    "print(ss)"
   ]
  },
  {
   "cell_type": "markdown",
   "metadata": {},
   "source": [
    "## 2 Model blocks\n",
    "\n",
    "The second step of solving the model is to come up with a Directed Acyclic Graph (DAG) representation for it and specify its building blocks.\n",
    "\n",
    "The 7 equations of the model can be organized as 3 simple blocks to form a Directed Acyclic Graph (DAG) in 2 unknowns $\\{K, L\\}$ and 2 targets, the Euler equation and goods market clearing. In our code, simple blocks are specified as regular Python functions  endowed with the decorator ``@simple``. In the body of the function, we directly implement the corresponding equilibrium conditions. The decorator turns the function into an instance of ``SimpleBlock``, a class that, among other things, knows how to handle time displacements such as `K(-1)` to denote 1-period lags and `r(+1)` to denote 1-period leads. In general, one can write (-s) and (+s) to denote s-period lags and leads. "
   ]
  },
  {
   "cell_type": "code",
   "execution_count": null,
   "metadata": {},
   "outputs": [],
   "source": [
    "@simple\n",
    "def firm(K, L, Z, alpha, delta):\n",
    "    r = alpha * Z * (K(-1) / L) ** (alpha-1) - delta\n",
    "    w = (1 - alpha) * Z * (K(-1) / L) ** alpha\n",
    "    Y = Z * K(-1) ** alpha * L ** (1 - alpha)\n",
    "    return r, w, Y\n",
    "\n",
    "@simple\n",
    "def household(K, L, w, eis, frisch, vphi, delta):\n",
    "    C = (w / vphi / L ** (1 / frisch)) ** eis\n",
    "    I = K - (1 - delta) * K(-1)\n",
    "    return C, I\n",
    "\n",
    "@simple\n",
    "def mkt_clearing(r, C, Y, I, K, L, w, eis, beta):\n",
    "    goods_mkt = Y - C - I\n",
    "    euler = C ** (-1 / eis) - beta * (1 + r(+1)) * C(+1) ** (-1 / eis)\n",
    "    walras = C + K - (1 + r) * K(-1) - w * L  # we can the check dynamic version too\n",
    "    return goods_mkt, euler, walras"
   ]
  },
  {
   "cell_type": "markdown",
   "metadata": {},
   "source": [
    "Note that we imported the decorator from the module `simple_model.py`. If you're interested in the inner workings of the SimpleBlock class, check it out."
   ]
  },
  {
   "cell_type": "markdown",
   "metadata": {},
   "source": [
    "## 3 Linearized solution\n",
    "\n",
    "The linearized impulse responses of the model are fully charactrized by the general equilibrium Jacobians $G$. These matrices map any sequence of shocks into an impulse response, e.g. $dC = G^{C,Z} dZ.$\n",
    "\n",
    "We can get all of these in a single call to the function `jacobian.get_G`. Not that `get_G` takes in the model blocks (in arbitrary order), the names of exogenous shocks, the names of unknown endogenous variables, the names of target equations, the truncation horizon, and the steady state dict."
   ]
  },
  {
   "cell_type": "code",
   "execution_count": null,
   "metadata": {},
   "outputs": [],
   "source": [
    "G = jac.get_G(block_list=[firm, household, mkt_clearing],\n",
    "              exogenous=['Z'],\n",
    "              unknowns=['K', 'L'],\n",
    "              targets=['euler', 'goods_mkt'],\n",
    "              T=300, ss=ss)"
   ]
  },
  {
   "cell_type": "markdown",
   "metadata": {},
   "source": [
    "To see the $G$ matrices in action, let's construct two sequences of TFP shocks. First, a usual autoregressive shock that hits in period 0 (when the economy is assumed to be in steady state). Second, a news shock that, as agents learn in period 0, will hit TFP in period 10 and then decay at a constant rate. Note that such a news shock would be very costly to formulate recursively.\n",
    "\n",
    "We store the two sequences as columns of a matrix $dZ.$ Let the shock on impact be 1% of steady state productivity, and the  quarterly autocorrelation be 0.8. "
   ]
  },
  {
   "cell_type": "code",
   "execution_count": null,
   "metadata": {},
   "outputs": [],
   "source": [
    "T, impact, rho, news = 300, 0.01, 0.8, 10\n",
    "dZ = np.empty((T, 2))\n",
    "dZ[:, 0] = impact * ss['Z'] * rho**np.arange(T)\n",
    "dZ[:, 1] = np.concatenate((np.zeros(news), dZ[:-news, 0])) \n",
    "\n",
    "plt.plot(100*dZ[:50, 0]/ss['Z'], label='regular shock', linewidth=2.5)\n",
    "plt.plot(100*dZ[:50, 1]/ss['Z'], label='news shock', linewidth=2.5)\n",
    "plt.title(r'Two TFP shocks')\n",
    "plt.ylabel(r'% deviation from ss')\n",
    "plt.xlabel(r'quarters')\n",
    "plt.legend()\n",
    "plt.show()"
   ]
  },
  {
   "cell_type": "markdown",
   "metadata": {},
   "source": [
    "Just apply the $G$ matrix to map these into impulses responses for, say, consumption. We multiply by 100 and divide by $C_{ss}$ just to get the answer in units of % deviations from steady state."
   ]
  },
  {
   "cell_type": "code",
   "execution_count": null,
   "metadata": {},
   "outputs": [],
   "source": [
    "dC = 100 * G['C']['Z'] @ dZ / ss['C']"
   ]
  },
  {
   "cell_type": "markdown",
   "metadata": {},
   "source": [
    "Now plot the result."
   ]
  },
  {
   "cell_type": "code",
   "execution_count": null,
   "metadata": {},
   "outputs": [],
   "source": [
    "plt.plot(dC[:50, 0], label='regular shock', linewidth=2.5)\n",
    "plt.plot(dC[:50, 1], label='news shock', linewidth=2.5)\n",
    "plt.legend()\n",
    "plt.title(r'Consumption response to TFP shocks')\n",
    "plt.ylabel(r'% deviation from ss')\n",
    "plt.xlabel(r'quarters')\n",
    "plt.show()"
   ]
  },
  {
   "cell_type": "markdown",
   "metadata": {},
   "source": [
    "For those of you familiar with Dynare, these impulse responses are identical to what you could obtain by running the perfect foresight solver `simul` with the `linear_approximation` option."
   ]
  },
  {
   "cell_type": "markdown",
   "metadata": {},
   "source": [
    "## 4 Nonlinear solution\n",
    "\n",
    "To obtain nonlinear impulse responses that capture the different scale- and sign effects of shocks, we use `nonlinear.td_solve`. Similarly to `get_G` avove, it takes in the steady state dict, the model blocks (in arbitrary order), the names of unknown endogenous variables and the names of target equations. However, the name of the exogenous variable would not be sufficient, as the impulses are shock-specific. Instead, it takes on directly sequences of exogenous variables whose length determines the truncation horizon as well.\n",
    "\n",
    "So for the news shock above, we can just call: "
   ]
  },
  {
   "cell_type": "code",
   "execution_count": null,
   "metadata": {},
   "outputs": [],
   "source": [
    "td_nonlin = nonlinear.td_solve(ss=ss, \n",
    "                               block_list=[firm, household, mkt_clearing],\n",
    "                               unknowns=['K', 'L'],\n",
    "                               targets=['goods_mkt', 'euler'],\n",
    "                               Z=ss['Z']+dZ[:, 1])"
   ]
  },
  {
   "cell_type": "markdown",
   "metadata": {},
   "source": [
    "As you can see, the linearized solution is very accurate in this case."
   ]
  },
  {
   "cell_type": "code",
   "execution_count": null,
   "metadata": {},
   "outputs": [],
   "source": [
    "dC_nonlin = 100 * (td_nonlin['C']/ss['C'] - 1)\n",
    "\n",
    "plt.plot(dC[:50, 1], label='linear', linewidth=2.5)\n",
    "plt.plot(dC_nonlin[:50], label='nonlinear',  linestyle='--', linewidth=2.5)\n",
    "plt.title(r'Consumption response to 1% TFP news shock')\n",
    "plt.ylabel(r'% deviation from ss')\n",
    "plt.xlabel(r'quarters')\n",
    "plt.legend()\n",
    "plt.show()"
   ]
  },
  {
   "cell_type": "markdown",
   "metadata": {},
   "source": [
    "For those of you familiar with Dynare, these impulse responses are identical to what you could obtain by running the perfect foresight solver `simul`."
   ]
  }
 ],
 "metadata": {
  "kernelspec": {
   "display_name": "Python 3",
   "language": "python",
   "name": "python3"
  },
  "language_info": {
   "codemirror_mode": {
    "name": "ipython",
    "version": 3
   },
   "file_extension": ".py",
   "mimetype": "text/x-python",
   "name": "python",
   "nbconvert_exporter": "python",
   "pygments_lexer": "ipython3",
   "version": "3.6.5"
  }
 },
 "nbformat": 4,
 "nbformat_minor": 2
}
