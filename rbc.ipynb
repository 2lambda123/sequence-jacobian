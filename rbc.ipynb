{
 "cells": [
  {
   "cell_type": "markdown",
   "metadata": {},
   "source": [
    "# A simple RBC model in sequence space\n",
    "\n",
    "Let's start from a standard set of equilibrium conditions.\n",
    "\n",
    "$$\n",
    "\\textbf{H}_t(\\textbf{U}, Z) \\equiv \n",
    "\\begin{pmatrix}\n",
    "C_t^{-\\sigma} - \\beta (1 + r_{t+1}) C_{t+1}^{-\\sigma}\n",
    "\\\\\n",
    "w_t - \\varphi L_t^{\\nu} C_t^{\\sigma}\n",
    "\\\\\n",
    "K_t - (1 - \\delta) K_{t-1} - I_t\n",
    "\\\\\n",
    "r_t + \\delta -\\alpha Z_t \\left(\\frac{K_{t-1}}{L_t} \\right)^{\\alpha-1}\n",
    "\\\\\n",
    "w_t - (1-\\alpha) Z_t \\left(\\frac{K_{t-1}}{L_t} \\right)^{\\alpha}\n",
    "\\\\\n",
    "Y_t - Z_t K_{t-1}^\\alpha L_t^{1-\\alpha}\n",
    "\\\\\n",
    "Y_t - C_t - I_t\n",
    "\\end{pmatrix}\n",
    "= \\begin{pmatrix} 0 \\\\ 0 \\\\ 0 \\\\ 0 \\\\ 0 \\\\ 0 \\\\ 0\\end{pmatrix},\n",
    "\\qquad t = 0, 1, \\dots \n",
    "\\tag{1}\n",
    "$$\n",
    "\n",
    "As usual, labor market clearing is imposed implicitly and asset market clearing is omitted by Walras's law."
   ]
  },
  {
   "cell_type": "markdown",
   "metadata": {},
   "source": [
    "## 0 Import packages\n",
    "The first two are standard python packages, the rest contain code we wrote for this project."
   ]
  },
  {
   "cell_type": "code",
   "execution_count": 1,
   "metadata": {},
   "outputs": [],
   "source": [
    "import numpy as np\n",
    "import matplotlib.pyplot as plt\n",
    "\n",
    "import utils\n",
    "from simple_block import simple\n",
    "import jacobian as jac\n",
    "import nonlinear"
   ]
  },
  {
   "cell_type": "markdown",
   "metadata": {},
   "source": [
    "## 1 Steady state\n",
    "\n",
    "This simple model has an analytical steady state."
   ]
  },
  {
   "cell_type": "code",
   "execution_count": 2,
   "metadata": {},
   "outputs": [],
   "source": [
    "def rbc_ss(r=0.01, eis=1, frisch=1, delta=0.025, alpha=0.11):\n",
    "    \"\"\"Solve steady state of full GE model.\"\"\"\n",
    "    # solve for aggregates analytically\n",
    "    rk = r + delta\n",
    "    Z = (rk / alpha) ** alpha  # normalize so that Y=1\n",
    "    K = (alpha * Z / rk) ** (1 / (1 - alpha))\n",
    "    Y = Z * K ** alpha\n",
    "    w = (1 - alpha) * Z * K ** alpha\n",
    "    I = delta * K\n",
    "    C = Y - I\n",
    "    \n",
    "    # preference params from HH optimality, numerical for HA version\n",
    "    beta = 1 / (1 + r)\n",
    "    vphi = w * C ** (-1 / eis)\n",
    "    \n",
    "    # check Walras's law\n",
    "    walras = C - r * K - w\n",
    "    assert np.abs(walras) < 1E-12\n",
    "\n",
    "    # report variables\n",
    "    ss = {'beta': beta, 'eis': eis, 'frisch':frisch, 'vphi': vphi, 'delta': delta, 'alpha': alpha,\n",
    "          'Z': Z, 'K': K, 'I': I, 'Y': Y, 'L': 1, 'C': C, 'w': w, 'r': r, 'walras': walras}\n",
    "\n",
    "    return ss"
   ]
  },
  {
   "cell_type": "markdown",
   "metadata": {},
   "source": [
    "Let's run this function to get the steady state for the default parameters."
   ]
  },
  {
   "cell_type": "code",
   "execution_count": 3,
   "metadata": {},
   "outputs": [],
   "source": [
    "ss = rbc_ss()"
   ]
  },
  {
   "cell_type": "markdown",
   "metadata": {},
   "source": [
    "## 2 Model blocks\n",
    "\n",
    "The 7 equations of the model can be organized into 3 blocks to form a Directed Acyclic Graph (DAG) in 2 unknowns, $\\{K, L\\}.$"
   ]
  },
  {
   "cell_type": "code",
   "execution_count": 4,
   "metadata": {},
   "outputs": [],
   "source": [
    "@simple\n",
    "def firm(K, L, Z, alpha, delta):\n",
    "    r = alpha * Z * (K(-1) / L) ** (alpha-1) - delta\n",
    "    w = (1 - alpha) * Z * (K(-1) / L) ** alpha\n",
    "    Y = Z * K(-1) ** alpha * L ** (1 - alpha)\n",
    "    return r, w, Y\n",
    "\n",
    "@simple\n",
    "def household(K, L, w, eis, frisch, vphi, delta):\n",
    "    C = (w / vphi / L ** (1 / frisch)) ** eis\n",
    "    I = K - (1 - delta) * K(-1)\n",
    "    return C, I\n",
    "\n",
    "@simple\n",
    "def mkt_clearing(r, C, Y, I, K, L, w, eis, beta):\n",
    "    goods_mkt = Y - C - I\n",
    "    euler = C ** (-1 / eis) - beta * (1 + r(+1)) * C(+1) ** (-1 / eis)  # effectively labor_mkt\n",
    "    walras = C + K - (1 + r) * K(-1) - w * L                            # check dynamic version too\n",
    "    return goods_mkt, euler, walras"
   ]
  },
  {
   "cell_type": "markdown",
   "metadata": {},
   "source": [
    "## 3 Linearized solution\n",
    "\n",
    "Given the steady state, we can get the general equilibrium Jacobians $G$ via a single function call for any SHADE model. In particular, the same function works for models with heterogeneous-agent blocks as well."
   ]
  },
  {
   "cell_type": "code",
   "execution_count": 5,
   "metadata": {},
   "outputs": [],
   "source": [
    "T = 300\n",
    "\n",
    "G = jac.get_G(block_list=[firm, household, mkt_clearing],\n",
    "              exogenous=['Z'],\n",
    "              unknowns=['K', 'L'],\n",
    "              targets=['euler', 'goods_mkt'],\n",
    "              T=T, ss=ss)"
   ]
  },
  {
   "cell_type": "markdown",
   "metadata": {},
   "source": [
    "Equipped with the $G$ matrices, we can get the impulse responses to any shock $dZ$ via matrix multiplication. Let's construct two sequences of TFP shocks. First, 1% shock that decays with a quarterly autocorrelation of 0.8 that hits in period 0. Second, a news shock version of the same shock that hits in period 10. Note that this latter would be very costly to formulate recursively.\n",
    "\n",
    "We store the two sequences as columns of a matrix $dZ.$"
   ]
  },
  {
   "cell_type": "code",
   "execution_count": 6,
   "metadata": {},
   "outputs": [],
   "source": [
    "rho, news = 0.8, 10\n",
    "dZ = np.empty((T, 2))\n",
    "dZ[:, 0] = 0.01 * ss['Z'] * rho**np.arange(T)\n",
    "dZ[:, 1] = np.concatenate((np.zeros(news), dZ[:-news, 0])) "
   ]
  },
  {
   "cell_type": "markdown",
   "metadata": {},
   "source": [
    "Just apply the $G$ matrix to map these into impulses responses for, say, consumption."
   ]
  },
  {
   "cell_type": "code",
   "execution_count": 7,
   "metadata": {},
   "outputs": [],
   "source": [
    "dC = G['C']['Z'] @ dZ / ss['C']"
   ]
  },
  {
   "cell_type": "markdown",
   "metadata": {},
   "source": [
    "Now plot the result."
   ]
  },
  {
   "cell_type": "code",
   "execution_count": 8,
   "metadata": {},
   "outputs": [
    {
     "data": {
      "image/png": "[encoded data removed]",
      "text/plain": [
       "<Figure size 432x288 with 1 Axes>"
      ]
     },
     "metadata": {},
     "output_type": "display_data"
    }
   ],
   "source": [
    "plt.plot(100*dC[:50, 0], label='regular shock', linewidth=2.5)\n",
    "plt.plot(100*dC[:50, 1], label='news shock', linewidth=2.5)\n",
    "plt.legend()\n",
    "plt.title(r'$C$ response to 1% $Z$ shocks with $\\rho=0.8$')\n",
    "plt.ylabel(r'% deviation from ss')\n",
    "plt.xlabel(r'quarters')\n",
    "plt.show()"
   ]
  },
  {
   "cell_type": "markdown",
   "metadata": {},
   "source": [
    "## 4 Nonlinear solution\n",
    "\n",
    "This is shock-specific of course."
   ]
  },
  {
   "cell_type": "code",
   "execution_count": 10,
   "metadata": {},
   "outputs": [
    {
     "name": "stdout",
     "output_type": "stream",
     "text": [
      "On iteration 0\n",
      "   max error for goods_mkt is 8.91E-04\n",
      "   max error for euler is 2.75E-03\n",
      "On iteration 1\n",
      "   max error for goods_mkt is 9.21E-05\n",
      "   max error for euler is 4.07E-05\n",
      "On iteration 2\n",
      "   max error for goods_mkt is 4.07E-07\n",
      "   max error for euler is 4.66E-07\n",
      "On iteration 3\n",
      "   max error for goods_mkt is 5.74E-09\n",
      "   max error for euler is 5.76E-09\n"
     ]
    }
   ],
   "source": [
    "Z = ss['Z'] + 0.01*0.8**np.arange(T)\n",
    "td_nonlin = nonlinear.td_solve(ss=ss, block_list=[firm, household, mkt_clearing],\n",
    "                               unknowns=['K', 'L'], targets=['goods_mkt', 'euler'], Z=Z)"
   ]
  },
  {
   "cell_type": "code",
   "execution_count": 11,
   "metadata": {},
   "outputs": [
    {
     "data": {
      "image/png": "[encoded data removed]",
      "text/plain": [
       "<Figure size 432x288 with 1 Axes>"
      ]
     },
     "metadata": {},
     "output_type": "display_data"
    }
   ],
   "source": [
    "dC_nonlin = td_nonlin['C']/ss['C'] - 1\n",
    "dC_lin = G['C']['Z'] @ (Z - ss['Z']) / ss['C']\n",
    "\n",
    "plt.plot(100*dC_lin[:50], label='linear', linewidth=2.5)\n",
    "plt.plot(100*dC_nonlin[:50], label='nonlinear',  linestyle='--', linewidth=2.5)\n",
    "plt.title(r'$C$ response to 1% $Z$ shock with $\\rho=0.8$')\n",
    "plt.ylabel(r'% deviation from ss')\n",
    "plt.xlabel(r'quarters')\n",
    "plt.legend()\n",
    "plt.show()"
   ]
  },
  {
   "cell_type": "markdown",
   "metadata": {},
   "source": [
    "## 5 Replacing the household block"
   ]
  },
  {
   "cell_type": "code",
   "execution_count": null,
   "metadata": {},
   "outputs": [],
   "source": [
    "import hank\n",
    "import het_block as ha"
   ]
  },
  {
   "cell_type": "code",
   "execution_count": null,
   "metadata": {},
   "outputs": [],
   "source": [
    "def bewley_ss(beta_guess=0.97, vphi_guess=1, r=0.01, eis=1, frisch=1, delta=0.025, alpha=0.11,\n",
    "              rho=0.966, sigma=0.5, nS=7, nA=500, amax=1000):\n",
    "    \"\"\"Solve steady state of full GE model.\"\"\"\n",
    "    # solve for aggregates analytically\n",
    "    rk = r + delta\n",
    "    Z = (rk / alpha) ** alpha  # normalize so that Y=1\n",
    "    K = (alpha * Z / rk) ** (1 / (1 - alpha))\n",
    "    Y = Z * K ** alpha\n",
    "    w = (1 - alpha) * Z * K ** alpha\n",
    "    I = delta * K\n",
    "\n",
    "    # set up grid\n",
    "    a_grid = utils.agrid(amax=amax, n=nA)\n",
    "    e_grid, pi_e, Pi = utils.markov_rouwenhorst(rho=rho, sigma=sigma, N=nS)\n",
    "    T = np.empty_like(e_grid)\n",
    "    fininc = (1 + r) * a_grid + T[:, np.newaxis] - a_grid[0]\n",
    "\n",
    "    # initial guess for backward variable Va\n",
    "    coh = (1 + r) * a_grid[np.newaxis, :] + w * e_grid[:, np.newaxis]\n",
    "    Va = (1 + r) * (0.1 * coh) ** (-1 / eis)\n",
    "\n",
    "    # residual function\n",
    "    def res(x):\n",
    "        beta_loc, vphi_loc = x\n",
    "        # precompute constrained c and n which don't depend on Va\n",
    "        c_const_loc, n_const_loc = hank.solve_cn(w * e_grid[:, np.newaxis], fininc, eis, frisch, vphi_loc, Va)\n",
    "        if beta_loc > 0.999 / (1 + r) or vphi_loc < 0.001:\n",
    "            raise ValueError('Clearly invalid inputs')\n",
    "        out = hank.household.ss(Va=Va, Pi=Pi, a_grid=a_grid, e_grid=e_grid, T=T, w=w, r=r, beta=beta_loc, eis=eis,\n",
    "                                frisch=frisch, vphi=vphi_loc, c_const=c_const_loc, n_const=n_const_loc, ssflag=True)\n",
    "        return np.array([out['A'] - K, out['NS'] - 1])\n",
    "\n",
    "    # solve for beta, vphi\n",
    "    (beta, vphi), _ = utils.broyden_solver(res, np.array([beta_guess, vphi_guess]), noisy=False)\n",
    "\n",
    "    # extra evaluation to report variables\n",
    "    c_const, n_const = hank.solve_cn(w * e_grid[:, np.newaxis], fininc, eis, frisch, vphi, Va)\n",
    "    ss = hank.household.ss(Va=Va, Pi=Pi, a_grid=a_grid, e_grid=e_grid, T=T, w=w, r=r, beta=beta, eis=eis,\n",
    "                           frisch=frisch, vphi=vphi, c_const=c_const, n_const=n_const, ssflag=True)\n",
    "\n",
    "    # check Walras's law\n",
    "    walras = Y - ss['C'] - I\n",
    "    assert np.abs(walras) < 1E-8\n",
    "\n",
    "    # report variables\n",
    "    ss.update({'delta': delta, 'alpha': alpha, 'Z': Z, 'K': K, 'I': I, 'Y': Y, 'L': 1, 'walras': walras})\n",
    "\n",
    "    return ss"
   ]
  },
  {
   "cell_type": "code",
   "execution_count": null,
   "metadata": {},
   "outputs": [],
   "source": [
    "ss2 = bewley_ss()"
   ]
  },
  {
   "cell_type": "code",
   "execution_count": null,
   "metadata": {},
   "outputs": [],
   "source": [
    "@simple\n",
    "def mkt_clearing_ha(K, L, A, NS):\n",
    "    asset_mkt = A - K\n",
    "    labor_mkt = NS - L\n",
    "    return asset_mkt, labor_mkt\n",
    "\n",
    "G2 = jac.get_G(block_list=[firm, hank.household, mkt_clearing_ha],\n",
    "               exogenous=['Z'],\n",
    "               unknowns=['K', 'L'],\n",
    "               targets=['labor_mkt', 'asset_mkt'],\n",
    "               T=T, ss=ss2)"
   ]
  },
  {
   "cell_type": "code",
   "execution_count": null,
   "metadata": {},
   "outputs": [],
   "source": [
    "dC2 = G2['C']['Z'] @ dZ / ss2['C']\n",
    "\n",
    "plt.plot(100*dC[:50, 0], label='RA', linewidth=2.5)\n",
    "plt.plot(100*dC2[:50, 0], label='HA', linestyle='--', linewidth=2.5)\n",
    "plt.legend()\n",
    "plt.title(r'$C$ response to 1% $Z$ shocks with $\\rho=0.8$')\n",
    "plt.ylabel(r'% deviation from ss')\n",
    "plt.xlabel(r'quarters')\n",
    "plt.show()"
   ]
  }
 ],
 "metadata": {
  "kernelspec": {
   "display_name": "Python 3",
   "language": "python",
   "name": "python3"
  },
  "language_info": {
   "codemirror_mode": {
    "name": "ipython",
    "version": 3
   },
   "file_extension": ".py",
   "mimetype": "text/x-python",
   "name": "python",
   "nbconvert_exporter": "python",
   "pygments_lexer": "ipython3",
   "version": "3.6.5"
  }
 },
 "nbformat": 4,
 "nbformat_minor": 2
}
