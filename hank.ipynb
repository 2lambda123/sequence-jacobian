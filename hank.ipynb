{
 "cells": [
  {
   "cell_type": "markdown",
   "metadata": {},
   "source": [
    "# Solving a one-asset HANK model in sequence space\n",
    "In this notebook we show how to\n",
    "1. [Set up a heterogenous agent block](#1-hetblock)\n",
    "2. [Solve for a steady state with multiple calibration targets](#2-calibration)\n",
    "3. [Compute the Jacobian almost automatically via helper functions](#3-jacobian)\n",
    "4. [Compute linearized impulse responses](#4-linear)\n",
    "5. [Compute nonlinear impulse responses](#5-nonlinear)\n",
    "6. [Check local determinacy](#6-determinacy)\n",
    "\n",
    "This notebook accompanies work in progress by Auclert, Bardóczy, Rognlie, Straub (2019): \"Using the Sequence-Space Jacobian to Solve and Estimate Heterogeneous-Agent Models\". Please see the [Github repository](https://github.com/shade-econ/sequence-jacobian) for more information and code.\n",
    "\n",
    "## Model description\n",
    "The model is a HA version of the textbook New Keynesian model. Technology is linear in labor, prices are sticky á la Rotemberg, and monetary policy follows a Taylor rule. For a detailed description of the model, please see the slides. As a reminder, the model can be summarized in sequence form as\n",
    "\n",
    "$$\n",
    "\\textbf{H}_t(\\textbf{Y}, Z) \\equiv \n",
    "\\begin{pmatrix}\n",
    "Y_t - Z_t L_t\n",
    "\\\\\n",
    "Y_t \\left[1 - \\frac{\\mu}{\\mu-1}\\frac{1}{2\\kappa} \\log(1 + \\pi_t)^2\\right] - w_t L_t - d_t\n",
    "\\\\\n",
    "r_t B - \\tau_t\n",
    "\\\\\n",
    "r^*_t + \\phi \\pi_t - i_t\n",
    "\\\\\n",
    "1 + r_t - \\frac{1+i_{t-1}}{1+\\pi_t}\n",
    "\\\\\n",
    "\\kappa \\left(\\frac{w_t}{Z_t} - \\frac{1}{\\mu} \\right)  + \\frac{1}{1+r_{t+1}} \\frac{Y_{t+1}}{Y_t} \\log(1+\\pi_{t+1}) - \\log(1+\\pi_t)\n",
    "\\\\\n",
    "\\mathcal{A}_t(\\{r_s, w_s, \\tau_s, d_s\\})  - B\n",
    "\\\\\n",
    "\\mathcal{N}_t(\\{r_s, w_s, \\tau_s, d_s\\}) - L_t\n",
    "\\end{pmatrix}\n",
    "= \\begin{pmatrix} 0 \\\\ 0 \\\\ 0 \\\\ 0 \\\\ 0 \\\\ 0 \\\\ 0 \\\\ 0\\end{pmatrix},\n",
    "\\qquad t = 0, 1, \\dots\n",
    "$$\n",
    "\n",
    "where the endogenous variables are $\\textbf{Y} = (Y, L, r, w, d, \\pi, \\tau, i)$ and the exogenous variables are $\\textbf{Z}=(r^*, Z)$. \n",
    "\n",
    "The asset demand and labor supply functions $\\{\\mathcal{A}, \\mathcal{L}\\}$ follow from the household block with Bellman equation\n",
    "\n",
    "$$\n",
    "\\begin{align}\n",
    "V_t(e, a_{-}) = \\max_{c, n, a} &\\left\\{\\frac{c^{1-\\sigma}}{1-\\sigma} - \\varphi \\frac{n^{1+\\nu}}{1+\\nu} + \\beta \\sum_{e'}V_{t+1}(e', a) \\mathcal{P}(e,e') \\right\\}\n",
    "\\\\\n",
    "c + a &= (1 + r_t)a_{-} + w_t e n - \\tau_t \\bar{\\tau}(e) + d_t \\bar{d}(e)\n",
    "\\\\\n",
    "a &\\geq 0\n",
    "\\end{align}\n",
    "$$\n",
    "\n",
    "where $\\bar\\tau(e)$ and $\\bar d(e)$ are skill-specific incidence rules for taxes and dividends. \n",
    "\n",
    "We can think of the model as a directed acyclical graph (DAG) with **3 endogenous inputs**  \n",
    "\n",
    "![Directed Acyclical Graph](figures/hank_dag.png) \n",
    "\n",
    "and write it as an implicit function\n",
    "\n",
    "$$\n",
    "H(\\pi, Y, w; \\epsilon, Z) = 0.\n",
    "$$"
   ]
  },
  {
   "cell_type": "markdown",
   "metadata": {},
   "source": [
    "## 0 Import packages\n",
    "The first two are standard python packages, the rest contain code we wrote for this project."
   ]
  },
  {
   "cell_type": "code",
   "execution_count": 1,
   "metadata": {},
   "outputs": [],
   "source": [
    "import numpy as np\n",
    "import matplotlib.pyplot as plt\n",
    "\n",
    "import utils\n",
    "import het_block as het\n",
    "import simple_block as sim\n",
    "from simple_block import simple\n",
    "import jacobian as jac\n",
    "import nonlinear\n",
    "import hank"
   ]
  },
  {
   "cell_type": "markdown",
   "metadata": {},
   "source": [
    "<a id=\"1-hetblock\"></a>\n",
    "\n",
    "## 1 Set up heterogeneous-agent block\n",
    "The main task here is to write a **backward iteration function** that represents the Bellman equation. This has to be a single step of an iterative solution method such as value function iteration. For the standard income fluctuation problem with endogenous labor supply we're dealing with here, the endogenous gridpoint method of [Carroll (2006)](https://www.sciencedirect.com/science/article/pii/S0165176505003368) is the best practice.\n",
    "\n",
    "Solving the endogenous-labor problem via EGM is standard but somewhat tedious and so the details are left to ``hank.py``. Given the backward iteration function, it is straighforward to construct a `HetBlock` instance. As its name suggests, HetBlock is a general class of heterogeneous-agent blocks that comes with useful methods, such as solving for steady-state policy functions by iteration and computing Jacobians. In this notebook, we are going to cover the most important of these."
   ]
  },
  {
   "cell_type": "code",
   "execution_count": 2,
   "metadata": {},
   "outputs": [],
   "source": [
    "household = het.HetBlock(hank.backward_iterate, exogenous='Pi', policy='a', backward='Va')"
   ]
  },
  {
   "cell_type": "markdown",
   "metadata": {},
   "source": [
    "<a id=\"2-calibration\"></a>\n",
    "\n",
    "## 2 Calibrating the steady state\n",
    "Next, we embed this HA block in general equilibrium. We calibrate the discount factor $\\beta$ and disutility of labor $\\varphi$ to hit quarterly interest rate $r=0.005$ (approx. 2% annually) and total effective labor $L=1.$\n",
    "\n",
    "This is a two-dimensional rootfinding problem that we solve by Broyden's method which we implemented in ``utils.py``. it takes a function $f: \\mathbb{R}^n \\to \\mathbb{R}^n$ and an initial guess for its roots, $x_0 \\in \\mathbb{R}^n.$ The user can  define a set of invalid inputs from which the solver backtracks. This useful feature is the main reason for implementing our own routine.\n",
    "\n",
    "The calibration has two substantive steps. First, express analytically all variables that don't depend on $(\\beta, \\varphi).$ Second, construct the residual function that takes the current guesses $(\\beta, \\varphi)$ and maps them into deviations from he calibration targets. This just requires an evaluation of the household block. The rootfinder does the rest. \n",
    "\n",
    "Although additional efficiency gains would be possible here (for instance, by updating our initial guesses for policy and distribution along the way), we will not implement them, since they are not our focus here."
   ]
  },
  {
   "cell_type": "code",
   "execution_count": 3,
   "metadata": {},
   "outputs": [],
   "source": [
    "def hank_ss(beta_guess=0.986, vphi_guess=0.8, r=0.005, eis=0.5, frisch=0.5, mu=1.2, B_Y=5.6, rho_s=0.966, sigma_s=0.5,\n",
    "            kappa=0.1, phi=1.5, nS=7, amax=150, nA=500, tax_rule=None, div_rule=None):\n",
    "    \"\"\"Solve steady state of full GE model. Calibrate (beta, vphi) to hit target for interest rate and Y.\"\"\"\n",
    "\n",
    "    # set up grid\n",
    "    a_grid = utils.agrid(amax=amax, n=nA)\n",
    "    e_grid, pi_s, Pi = utils.markov_rouwenhorst(rho=rho_s, sigma=sigma_s, N=nS)\n",
    "\n",
    "    # default incidence rule is proportional to skill\n",
    "    if tax_rule is None:\n",
    "        tax_rule = e_grid  # scale does not matter, will be normalized anyway\n",
    "    if div_rule is None:\n",
    "        div_rule = e_grid\n",
    "\n",
    "    assert tax_rule.shape[0] == div_rule.shape[0] == nS, 'Incidence rules are inconsistent with income grid.'\n",
    "\n",
    "    # solve analitically what we can\n",
    "    B = B_Y\n",
    "    w = 1 / mu\n",
    "    Div = (1 - w)\n",
    "    Tax = r * B\n",
    "    div = Div / np.sum(pi_s * div_rule) * div_rule\n",
    "    tax = Tax / np.sum(pi_s * tax_rule) * tax_rule\n",
    "    T = div - tax\n",
    "\n",
    "    # figure out initializer\n",
    "    fininc = (1 + r) * a_grid + T[:, np.newaxis] - a_grid[0]\n",
    "    coh = (1 + r) * a_grid[np.newaxis, :] + w * e_grid[:, np.newaxis] + T[:, np.newaxis]\n",
    "    Va = (1 + r) * (0.1 * coh) ** (-1 / eis)\n",
    "\n",
    "    # residual function\n",
    "    def res(x):\n",
    "        beta_loc, vphi_loc = x\n",
    "        # precompute constrained c and n which don't depend on Va\n",
    "        c_const_loc, n_const_loc = hank.solve_cn(w * e_grid[:, np.newaxis], fininc, eis, frisch, vphi_loc, Va)\n",
    "        if beta_loc > 0.999 / (1 + r) or vphi_loc < 0.001:\n",
    "            raise ValueError('Clearly invalid inputs')\n",
    "        # out = household_labor_ss(Pi, a_grid, e_grid, T, w, r, beta_loc, eis, frisch, vphi_loc)\n",
    "        out = household.ss(Va=Va, Pi=Pi, a_grid=a_grid, e_grid=e_grid, T=T, w=w, r=r, beta=beta_loc, eis=eis,\n",
    "                           frisch=frisch, vphi=vphi_loc, c_const=c_const_loc, n_const=n_const_loc, ssflag=True)\n",
    "        return np.array([out['A'] - B, out['NS'] - 1])\n",
    "\n",
    "    # solve for beta, vphi\n",
    "    (beta, vphi), _ = utils.broyden_solver(res, np.array([beta_guess, vphi_guess]), noisy=False)\n",
    "\n",
    "    # extra evaluation to report variables\n",
    "    c_const, n_const = hank.solve_cn(w * e_grid[:, np.newaxis], fininc, eis, frisch, vphi, Va)\n",
    "    ss = household.ss(Va=Va, Pi=Pi, a_grid=a_grid, e_grid=e_grid, T=T, w=w, r=r, beta=beta, eis=eis,\n",
    "                      frisch=frisch, vphi=vphi, c_const=c_const, n_const=n_const, ssflag=True)\n",
    "    ss.update({'pi_s': pi_s, 'B': B, 'phi': phi, 'kappa': kappa, 'Y': 1, 'rstar': r, 'Z': 1, 'mu': mu, 'L': 1, 'pi': 0,\n",
    "               'Div': Div, 'Tax': Tax, 'div': div, 'tax': tax, 'div_rule': div_rule, 'tax_rule': tax_rule,\n",
    "               'goods_mkt': 1 - ss['C'], 'ssflag': False})\n",
    "    return ss"
   ]
  },
  {
   "cell_type": "markdown",
   "metadata": {},
   "source": [
    "Let's solve for the steady state using our default calibration, and plot the labor supply policy as function of assets for each skill type. In general, poorer and more productive households choose to work more. "
   ]
  },
  {
   "cell_type": "code",
   "execution_count": 4,
   "metadata": {},
   "outputs": [
    {
     "data": {
      "image/png": "[encoded data removed]",
      "text/plain": [
       "<Figure size 432x288 with 1 Axes>"
      ]
     },
     "metadata": {},
     "output_type": "display_data"
    }
   ],
   "source": [
    "ss = hank_ss()\n",
    "plt.plot(ss['a_grid'], ss['n'].T)\n",
    "plt.xlabel('Assets'), plt.ylabel('Labor supply')\n",
    "plt.show()"
   ]
  },
  {
   "cell_type": "markdown",
   "metadata": {},
   "source": [
    "### Checking Walras's law\n",
    "It's always a good idea to check whether Walras's law holds. The omitted goods market clearing condition reads simply as \n",
    "$$\n",
    "Y = C\n",
    "$$\n",
    "(there are no price-adjustment costs in the zero-inflation steady state) and is reported by the `hank_ss` function above."
   ]
  },
  {
   "cell_type": "code",
   "execution_count": 5,
   "metadata": {},
   "outputs": [
    {
     "name": "stdout",
     "output_type": "stream",
     "text": [
      "-5.258184998524484e-09\n"
     ]
    }
   ],
   "source": [
    "print(ss['goods_mkt'])"
   ]
  },
  {
   "cell_type": "markdown",
   "metadata": {},
   "source": [
    "<a id=\"3-jacobian\"></a>\n",
    "\n",
    "## 3 Jacobians\n",
    "Jacobians are the key concept to solve and to estimate models in sequence space. Each model block has its own Jacobians which can be combined via the chain rule into Jacobians of full model. A Jacobian in a $T$-dimensional (truncated) sequence space is a $T \\times T$ matrix of the form\n",
    "\n",
    "$$\n",
    "\\frac{d Y}{d X} = \n",
    "\\begin{pmatrix}\n",
    "\\frac{d Y_0}{d X_0} & \\frac{d Y_0}{d X_1} & \\dots & \\frac{d Y_0}{d X_T} \\\\\n",
    "\\vdots & \\vdots & \\ddots & \\vdots \\\\\n",
    "\\frac{d Y_T}{d X_0} & \\frac{d Y_T}{d X_1} & \\dots & \\frac{d Y_T}{d X_T}\n",
    "\\end{pmatrix}\n",
    "$$\n",
    "\n",
    "evaluated at the steady state.\n",
    "\n",
    "### 3.1 Simple blocks\n",
    "To build intuition, let's start with the firm block. In our code, simple blocks are specified as regular Python functions  endowed with the decorator ``@simple``. In the body of the function, we directly implement the corresponding equilibrium conditions. The decorator turns the function into an instance of ``SimpleBlock``, a simple class with methods to evaluate itself in steady state and along a transition path. Notice the use of K(-1) to denote 1-period lag, similarly to Dynare. In general, one can write (-s) and (+s) to denote s-period lags and leads.\n",
    "\n",
    "The DAG above has 6 simple nodes. But it makes sense to consolidate all market clearing conditions in a single block. This leaves us with the following five blocks."
   ]
  },
  {
   "cell_type": "code",
   "execution_count": 6,
   "metadata": {},
   "outputs": [],
   "source": [
    "@simple\n",
    "def firm(Y, w, Z, pi, mu, kappa):\n",
    "    L = Y / Z\n",
    "    Div = Y - w * L - mu/(mu-1)/(2*kappa) * np.log(1+pi)**2 * Y\n",
    "    return L, Div\n",
    "\n",
    "@simple\n",
    "def monetary(pi, rstar, phi):\n",
    "    r = (1 + rstar(-1) + phi * pi(-1)) / (1 + pi) - 1\n",
    "    return r\n",
    "\n",
    "@simple\n",
    "def fiscal(r, B):\n",
    "    Tax = r * B\n",
    "    return Tax\n",
    "\n",
    "@simple\n",
    "def nkpc(pi, w, Z, Y, r, mu, kappa):\n",
    "    nkpc_res = kappa * (w / Z - 1 / mu) + Y(+1) / Y * np.log(1 + pi(+1)) / (1 + r(+1)) - np.log(1 + pi)\n",
    "    return nkpc_res\n",
    "\n",
    "@simple\n",
    "def mkt_clearing(A, NS, C, L, Y, B, pi, mu, kappa):\n",
    "    asset_mkt = A - B\n",
    "    labor_mkt = NS - L\n",
    "    goods_mkt = Y - C - mu/(mu-1)/(2*kappa) * np.log(1+pi)**2 * Y\n",
    "    return asset_mkt, labor_mkt, goods_mkt"
   ]
  },
  {
   "cell_type": "markdown",
   "metadata": {},
   "source": [
    "Let's take a look at the Jacobians of the Phillips curve."
   ]
  },
  {
   "cell_type": "code",
   "execution_count": 7,
   "metadata": {},
   "outputs": [
    {
     "name": "stdout",
     "output_type": "stream",
     "text": [
      "[[-1.          0.99502488  0.          0.          0.        ]\n",
      " [ 0.         -1.          0.99502488  0.          0.        ]\n",
      " [ 0.          0.         -1.          0.99502488  0.        ]\n",
      " [ 0.          0.          0.         -1.          0.99502488]\n",
      " [ 0.          0.          0.          0.         -1.        ]]\n",
      "dict_keys(['pi', 'w', 'Z'])\n"
     ]
    }
   ],
   "source": [
    "J_nkpc = nkpc.jac(ss, T=5, shock_list=['pi', 'w', 'Z', 'Y', 'r'])\n",
    "print(J_nkpc['nkpc_res']['pi'])\n",
    "print(J_nkpc['nkpc_res'].keys())"
   ]
  },
  {
   "cell_type": "markdown",
   "metadata": {},
   "source": [
    "Notice two things. First, inflation shows up with a lead as well as contemporaneously, so the corresponsing Jacobian is not diagonal, though still sparse. Second, ``J_nkpc`` does not have entries for $(Y, r)$ even though we asked for them. The reason is they have no first-order effect, i.e. their Jacobians are zero. ``simple_block.jac`` recognizes this and does return them. This behavior ensures that we won't inadvertently do wasteful computations.   "
   ]
  },
  {
   "cell_type": "markdown",
   "metadata": {},
   "source": [
    "### 3.2 HA blocks\n",
    "The Jacobians of HA blocks are analogous objects to the Jacobians of simple blocks we just saw. They are $T \\times T$ matrices linking aggregate inputs to aggregate outputs. We propose an efficient **fake news algorithm** to compute them. Please see the paper and the `het_jacobian.ipynb` notebook for details. \n",
    "\n",
    "The tools for dealing with Jacobians of HA blocks are in `het_block.py`. At the end of the day, we'll be able to use a method analogous to `SimpleBlock.jac` above. A notable difference is that the shocked inputs are specified as a nested dict. This may look like an unnecessarily complicated formulation, but it allows us to use the same, concise ``hank.backward_iterate`` function in any macro model. From the households' perspective, all that matters is what $(r, w, T)$ are. They just take this given, irrespective of how they are determined in the GE. \n",
    "\n",
    "So we proceed in two steps. First, compute the derivative of the state-specific transfer income with respect to aggregate dividends and taxes. Second, call ``HetBlock.jac`` method that we used for Krusell-Smith model as well. "
   ]
  },
  {
   "cell_type": "code",
   "execution_count": 8,
   "metadata": {},
   "outputs": [
    {
     "name": "stdout",
     "output_type": "stream",
     "text": [
      "[[ 0.39667524 -0.03822541 -0.03366479 -0.03039279 -0.02772737]\n",
      " [-0.03850205  0.40413096 -0.03411295 -0.03080763 -0.02816506]\n",
      " [-0.03411674 -0.03445217  0.40793446 -0.03134045 -0.02864567]\n",
      " [-0.03124063 -0.03123534 -0.03165717  0.41055054 -0.02924257]\n",
      " [-0.02884023 -0.02899304 -0.02905567 -0.02954448  0.41252088]]\n"
     ]
    }
   ],
   "source": [
    "T_div = ss['div_rule'] / np.sum(ss['pi_s'] * ss['div_rule'])\n",
    "T_tax = -ss['tax_rule'] / np.sum(ss['pi_s'] * ss['tax_rule'])\n",
    "J_ha = household.jac(ss=ss, T=5,\n",
    "                     shock_dict={'r': {'r': 1}, 'w': {'w': 1}, 'Div': {'T': T_div}, 'Tax': {'T': T_tax}}, \n",
    "                     desired_outputs=['c', 'a', 'n', 'ns'])\n",
    "\n",
    "print(J_ha['N']['w'])"
   ]
  },
  {
   "cell_type": "markdown",
   "metadata": {},
   "source": [
    "<a id=\"4-linear\"></a>\n",
    "\n",
    "## 4 Linearized dynamics using Jacobians\n",
    "Recall that we reduced the to the following DAG:\n",
    "\n",
    "![Directed Acyclical Graph](figures/hank_dag.png) \n",
    "\n",
    "that can also be written as an implicit equation\n",
    "\n",
    "$$\n",
    "H(\\pi, Y, w; r^*, Z) =\n",
    "\\begin{pmatrix}\n",
    "\\kappa \\left(\\frac{w_t}{Z_t} - \\frac{1}{\\mu} \\right)  + \\frac{1}{1+r_{t+1}} \\frac{Y_{t+1}}{Y_t} \\log(1+\\pi_{t+1}) - \\log(1+\\pi_t)\n",
    "\\\\\n",
    "\\mathcal{A}_t(\\{r_s, w_s, \\tau_s, d_s\\})  - B\n",
    "\\\\\n",
    "\\mathcal{L}_t(\\{r_s, w_s, \\tau_s, d_s\\}) - L_t\n",
    "\\end{pmatrix}\n",
    "= \\begin{pmatrix} 0 \\\\ 0 \\\\ 0\\end{pmatrix},\n",
    "$$\n",
    "\n",
    "to be solved for $U=(\\pi, w, Y)$ given any $Z=(Z, r^*)$. The rest of the endogenous variables are be obtained as explicit functions of $(\\pi, w, Y; Z, r^*)$ along the DAG, but it would be tedious to write them out.\n",
    "\n",
    "Keep in mind that the implicit function theorem implies that the response of unknowns\n",
    "\n",
    "$$\n",
    "dU = \\underbrace{-H_U^{-1}H_Z}_{G} dZ \\tag{1}\n",
    "$$\n",
    "\n",
    "Then the response of other endogenous variables, e.g. consumption, can be computed as the sum of direct and indirect effects:\n",
    "\n",
    "$$\n",
    "dC = \\underbrace{\\frac{\\partial C}{\\partial r^*} d r^* + \\frac{\\partial C}{\\partial Z} dZ}_{\\text{direct}} + \\underbrace{\\frac{dC}{dU} dU}_{\\text{indirect}}. \\tag{2}\n",
    "$$\n",
    "\n",
    "Recall that we already solved for a steady state and stored is as `ss`. Furthermore, we will use a 300-period truncation horizon. "
   ]
  },
  {
   "cell_type": "markdown",
   "metadata": {},
   "source": [
    "### 4.1 Convenient approach¶\n",
    "\n",
    "The surest way to obtain the general equilibrium Jacobians is to precompute the Jacobian of the HA block(s), then call the `get_G` convenience function."
   ]
  },
  {
   "cell_type": "code",
   "execution_count": 9,
   "metadata": {},
   "outputs": [],
   "source": [
    "# setup\n",
    "T = 300\n",
    "exogenous = ['rstar', 'Z']\n",
    "unknowns = ['pi', 'w', 'Y']\n",
    "targets = ['nkpc_res', 'asset_mkt', 'labor_mkt']\n",
    "\n",
    "# jacobian of HA block\n",
    "J_ha = household.jac(ss=ss, T=T,\n",
    "                     shock_dict={'r': {'r': 1}, 'w': {'w': 1}, 'Div': {'T': T_div}, 'Tax': {'T': T_tax}}, \n",
    "                     desired_outputs=['c', 'a', 'n', 'ns'])\n",
    "\n",
    "# general equilibrium jacobians\n",
    "block_list = [firm, monetary, fiscal, nkpc, mkt_clearing, J_ha]\n",
    "G = jac.get_G(block_list, exogenous, unknowns, targets, T, ss)"
   ]
  },
  {
   "cell_type": "markdown",
   "metadata": {},
   "source": [
    "### 4.2 Breaking down `get_G`"
   ]
  },
  {
   "cell_type": "markdown",
   "metadata": {},
   "source": [
    "#### Step 1: Topological sort and partial Jacobians\n",
    "By looking at the inputs and outputs of each block, we can sort them in a correct (not necessarily unique) order along the DAG. Knowing the DAG is a prerequisite for all that follows, and also allows us to avoid wasteful Jacobian calculations: we only need Jacobians with respect to unknowns, exogenous, and outputs of earlier blocks."
   ]
  },
  {
   "cell_type": "code",
   "execution_count": 10,
   "metadata": {},
   "outputs": [],
   "source": [
    "curlyJs, required = jac.curlyJ_sorted(block_list, unknowns+exogenous, ss)"
   ]
  },
  {
   "cell_type": "markdown",
   "metadata": {},
   "source": [
    "The first output `curlyJs` is a list of nested dictionaries. Each element of the list contain all the necessary Jacobians for the corresponding block. The order of blocks is as in the DAG. \n",
    "\n",
    "For example, the first block is `monetary`, because it only takes an unknown $\\pi$ and an exogenous $r^*$ as inputs. Let's take a look. "
   ]
  },
  {
   "cell_type": "code",
   "execution_count": 11,
   "metadata": {},
   "outputs": [
    {
     "name": "stdout",
     "output_type": "stream",
     "text": [
      "{'r': {'pi': SimpleSparse({(0, 0): -1.005, (-1, 0): 1.500}), 'rstar': SimpleSparse({(-1, 0): 1.000})}}\n"
     ]
    }
   ],
   "source": [
    "print(curlyJs[0])"
   ]
  },
  {
   "cell_type": "markdown",
   "metadata": {},
   "source": [
    "Since this is a simple block, the Jacobians are represented as a instances of the `SimpleSparse` class. Note that `jac.curlyJ_sorted` correctly determined that it is not necessary to differentiate with respect to the Taylor rule parameter $\\phi$ (if we wanted to consider shocks to this parameter, we'd just have to include it among the exogenous inputs.)\n",
    "\n",
    "The second output `required` is a set of extra variables (not unknowns and exogenous) that we have to differentiate with respect to, because they are outputs of some blocks and inputs of others. "
   ]
  },
  {
   "cell_type": "code",
   "execution_count": 12,
   "metadata": {},
   "outputs": [
    {
     "name": "stdout",
     "output_type": "stream",
     "text": [
      "{'r', 'Div', 'Tax', 'L', 'A', 'NS', 'C'}\n"
     ]
    }
   ],
   "source": [
    "print(required)"
   ]
  },
  {
   "cell_type": "markdown",
   "metadata": {},
   "source": [
    "#### Step 2: Compose Jacobians along the DAG\n",
    "We're interested in the Jacobians with respect to the inputs of $H$, that means the unknowns $(\\pi, w, Y)$ and the shocks $(r^*, Z).$  \n",
    "\n",
    "First, we apply the chain rule by using `jac.forward_accumulate`. This gives the $T \\times T$ building blocks of the $H_U$ and $H_Z$ that relate targets to unknowns and exogenous. "
   ]
  },
  {
   "cell_type": "code",
   "execution_count": 13,
   "metadata": {},
   "outputs": [
    {
     "name": "stdout",
     "output_type": "stream",
     "text": [
      "dict_keys(['nkpc_res', 'asset_mkt', 'labor_mkt'])\n",
      "dict_keys(['pi', 'w', 'Y'])\n"
     ]
    }
   ],
   "source": [
    "J_curlyH_U = jac.forward_accumulate(curlyJs, unknowns, targets, required)\n",
    "J_curlyH_Z = jac.forward_accumulate(curlyJs, exogenous, targets, required)\n",
    "print(J_curlyH_U.keys())\n",
    "print(J_curlyH_U['asset_mkt'].keys())"
   ]
  },
  {
   "cell_type": "markdown",
   "metadata": {},
   "source": [
    "Next, we just have to pack them into two (big) matrices. These capture (to first order) the implicit relationship between unknowns $X=(\\pi, w, Y)$ induced by the requirement that markets clear and the Phillips curve holds, i.e. that the targets of the DAG evaluate to zero."
   ]
  },
  {
   "cell_type": "code",
   "execution_count": 14,
   "metadata": {},
   "outputs": [
    {
     "name": "stdout",
     "output_type": "stream",
     "text": [
      "(900, 900)\n",
      "(900, 600)\n"
     ]
    }
   ],
   "source": [
    "H_U = jac.pack_jacobians(J_curlyH_U, unknowns, targets, T)\n",
    "H_Z = jac.pack_jacobians(J_curlyH_Z, exogenous, targets, T)\n",
    "print(H_U.shape)\n",
    "print(H_Z.shape)"
   ]
  },
  {
   "cell_type": "markdown",
   "metadata": {},
   "source": [
    "#### Step 3: General equilibrium Jacobians\n",
    "First we can get the response of unknowns directly by the implicit function theorem."
   ]
  },
  {
   "cell_type": "code",
   "execution_count": 15,
   "metadata": {},
   "outputs": [
    {
     "name": "stdout",
     "output_type": "stream",
     "text": [
      "dict_keys(['pi', 'w', 'Y'])\n"
     ]
    }
   ],
   "source": [
    "G_U = jac.unpack_jacobians(-np.linalg.solve(H_U, H_Z), exogenous, unknowns, T)\n",
    "print(G_U.keys())"
   ]
  },
  {
   "cell_type": "markdown",
   "metadata": {},
   "source": [
    "And the rest can be obtained by forward accumulation that accounts for the direct and indirect effects alike."
   ]
  },
  {
   "cell_type": "code",
   "execution_count": 16,
   "metadata": {},
   "outputs": [],
   "source": [
    "curlyJs = [G_U] + curlyJs\n",
    "outputs = set().union(*(curlyJ.keys() for curlyJ in curlyJs)) - set(targets)\n",
    "\n",
    "G2 = jac.forward_accumulate(curlyJs, exogenous, outputs, required | set(unknowns))"
   ]
  },
  {
   "cell_type": "markdown",
   "metadata": {},
   "source": [
    "### 4.3 Results\n",
    "First let's check that the two approaches give the same answer."
   ]
  },
  {
   "cell_type": "code",
   "execution_count": 17,
   "metadata": {},
   "outputs": [],
   "source": [
    "for o in G.keys():\n",
    "    for i in G[o].keys():\n",
    "        assert np.allclose(G[o][i], G2[o][i])"
   ]
  },
  {
   "cell_type": "markdown",
   "metadata": {},
   "source": [
    "Now let's consider 25 basis point monetary policy shocks with different persistences and plot the response of inflation."
   ]
  },
  {
   "cell_type": "code",
   "execution_count": 18,
   "metadata": {},
   "outputs": [
    {
     "data": {
      "image/png": "[encoded data removed]",
      "text/plain": [
       "<Figure size 432x288 with 1 Axes>"
      ]
     },
     "metadata": {},
     "output_type": "display_data"
    }
   ],
   "source": [
    "rhos = np.array([0.2, 0.4, 0.6, 0.8, 0.9])\n",
    "drstar = -0.0025 * rhos ** (np.arange(T)[:, np.newaxis])\n",
    "dpi = G['pi']['rstar'] @ drstar\n",
    "plt.plot(10000 * dpi[:21])\n",
    "plt.title(r'Inflation response to 25 bp monetary policy shocks with $\\rho=(0.2 ... 0.9)$')\n",
    "plt.xlabel('quarters'); plt.ylabel('basis point')\n",
    "plt.show()"
   ]
  },
  {
   "cell_type": "markdown",
   "metadata": {},
   "source": [
    "<a id=\"5-nonlinear\"></a>\n",
    "\n",
    "## 5. Nonlinear dynamics\n",
    "Conceptually there's nothing new in this section compared to the Krusell-Smith notebook. We're going to implement a quasi-Newton algorithm to solve for the unknown sequences $U=(\\pi, w, Y)$ given some sequences of shocks $(r^*, Z).$ We initialize the algorithm by the naive guess that the variables in $U$ stay constant at their steady-state level. Then we evaluate the DAG and update the guess using the inverse Jacobian $H_U^{-1}.$ The algorithm converges in a few steps, despite the presence of substantial nonlinearities."
   ]
  },
  {
   "cell_type": "code",
   "execution_count": 19,
   "metadata": {},
   "outputs": [],
   "source": [
    "def td_map(ss, **kwargs):\n",
    "    # initialize results\n",
    "    results = kwargs\n",
    "\n",
    "    # blocks before HA\n",
    "    for b in [firm, monetary, fiscal]:\n",
    "        results.update(b.td(ss, **{k: results[k] for k in b.inputs if k in results}))\n",
    "\n",
    "    # hetinput\n",
    "    results['div'] = results['Div'][:, np.newaxis] / np.sum(ss['pi_s'] * ss['div_rule']) * ss['div_rule']\n",
    "    results['tax'] = results['Tax'][:, np.newaxis] / np.sum(ss['pi_s'] * ss['tax_rule']) * ss['tax_rule']\n",
    "\n",
    "    # HA block\n",
    "    results.update(household.td(ss, monotonic=True, T=results['div']-results['tax'],\n",
    "                                **{k: results[k] for k in household.inputs if k in results}))\n",
    "\n",
    "    # blocks after HA\n",
    "    for b in [nkpc, mkt_clearing]:\n",
    "        results.update(b.td(ss, **{k: results[k] for k in b.inputs if k in results}))\n",
    "\n",
    "    return results"
   ]
  },
  {
   "cell_type": "markdown",
   "metadata": {},
   "source": [
    "### 5.1 A typical monetary policy shock\n",
    "Note that the linearized solution ignores price adjustment costs. For a monetary policy shock of typical size and persistent, this does not really matter.   "
   ]
  },
  {
   "cell_type": "code",
   "execution_count": 20,
   "metadata": {},
   "outputs": [
    {
     "name": "stdout",
     "output_type": "stream",
     "text": [
      "On iteration 0\n",
      "   max error for nkpc_res is 0.00E+00\n",
      "   max error for asset_mkt is 1.00E-02\n",
      "   max error for labor_mkt is 2.20E-03\n",
      "On iteration 1\n",
      "   max error for nkpc_res is 1.01E-06\n",
      "   max error for asset_mkt is 6.97E-05\n",
      "   max error for labor_mkt is 6.08E-06\n",
      "On iteration 2\n",
      "   max error for nkpc_res is 2.06E-08\n",
      "   max error for asset_mkt is 8.90E-07\n",
      "   max error for labor_mkt is 3.66E-08\n",
      "On iteration 3\n",
      "   max error for nkpc_res is 4.32E-10\n",
      "   max error for asset_mkt is 1.05E-08\n",
      "   max error for labor_mkt is 1.31E-09\n",
      "On iteration 4\n",
      "   max error for nkpc_res is 5.46E-12\n",
      "   max error for asset_mkt is 1.13E-10\n",
      "   max error for labor_mkt is 2.12E-11\n"
     ]
    }
   ],
   "source": [
    "rho_r, sig_r = 0.5, -0.0025\n",
    "drstar = sig_r * rho_r ** (np.arange(T))\n",
    "rstar = ss['r'] + drstar\n",
    "Z = np.full(T, ss['Z'])\n",
    "\n",
    "H_U = jac.get_H_U(block_list, unknowns, targets, T, ss)\n",
    "H_U_factored = utils.factor(H_U)\n",
    "\n",
    "td_nonlin = nonlinear.td_solve(ss, block_list, unknowns, targets, H_U_factored=H_U_factored, td_map_user=td_map,\n",
    "                               rstar=rstar, Z=Z)"
   ]
  },
  {
   "cell_type": "code",
   "execution_count": 21,
   "metadata": {},
   "outputs": [
    {
     "data": {
      "image/png": "[encoded data removed]",
      "text/plain": [
       "<Figure size 432x288 with 1 Axes>"
      ]
     },
     "metadata": {},
     "output_type": "display_data"
    }
   ],
   "source": [
    "dC_nonlin = td_nonlin['C'] - ss['C']\n",
    "dC_lin = G['C']['rstar'] @ drstar\n",
    "\n",
    "plt.plot(dC_lin[:21], label='linear', linestyle='-')\n",
    "plt.plot(td_nonlin['C'][:21]-ss['C'], label='nonlinear', linestyle='--')\n",
    "plt.legend()\n",
    "plt.show()"
   ]
  },
  {
   "cell_type": "markdown",
   "metadata": {},
   "source": [
    "### 5.2 A large monetary policy shock\n",
    "However, the nonlinearities may become substantial for large or persistent monetary policy shocks. Reassuringly, the Jacobian still works well as an updating rule. The quasi-Newton method still converges in just 7 iterations."
   ]
  },
  {
   "cell_type": "code",
   "execution_count": 22,
   "metadata": {},
   "outputs": [
    {
     "name": "stdout",
     "output_type": "stream",
     "text": [
      "On iteration 0\n",
      "   max error for nkpc_res is 0.00E+00\n",
      "   max error for asset_mkt is 1.95E-01\n",
      "   max error for labor_mkt is 1.56E-02\n",
      "On iteration 1\n",
      "   max error for nkpc_res is 1.11E-05\n",
      "   max error for asset_mkt is 8.11E-03\n",
      "   max error for labor_mkt is 1.03E-03\n",
      "On iteration 2\n",
      "   max error for nkpc_res is 6.54E-06\n",
      "   max error for asset_mkt is 4.81E-04\n",
      "   max error for labor_mkt is 1.30E-04\n",
      "On iteration 3\n",
      "   max error for nkpc_res is 8.32E-07\n",
      "   max error for asset_mkt is 4.09E-05\n",
      "   max error for labor_mkt is 1.88E-05\n",
      "On iteration 4\n",
      "   max error for nkpc_res is 1.69E-07\n",
      "   max error for asset_mkt is 4.20E-06\n",
      "   max error for labor_mkt is 3.12E-06\n",
      "On iteration 5\n",
      "   max error for nkpc_res is 2.40E-08\n",
      "   max error for asset_mkt is 5.76E-07\n",
      "   max error for labor_mkt is 5.10E-07\n",
      "On iteration 6\n",
      "   max error for nkpc_res is 4.15E-09\n",
      "   max error for asset_mkt is 6.98E-08\n",
      "   max error for labor_mkt is 8.14E-08\n",
      "On iteration 7\n",
      "   max error for nkpc_res is 6.54E-10\n",
      "   max error for asset_mkt is 1.10E-08\n",
      "   max error for labor_mkt is 1.33E-08\n",
      "On iteration 8\n",
      "   max error for nkpc_res is 1.07E-10\n",
      "   max error for asset_mkt is 1.71E-09\n",
      "   max error for labor_mkt is 2.14E-09\n"
     ]
    },
    {
     "data": {
      "image/png": "[encoded data removed]",
      "text/plain": [
       "<Figure size 432x288 with 1 Axes>"
      ]
     },
     "metadata": {},
     "output_type": "display_data"
    }
   ],
   "source": [
    "rho_r, sig_r = 0.9, -0.005\n",
    "drstar = sig_r * rho_r ** (np.arange(T))\n",
    "rstar = ss['r'] + drstar\n",
    "\n",
    "td_nonlin = nonlinear.td_solve(ss, block_list, unknowns, targets, H_U_factored=H_U_factored, td_map_user=td_map,\n",
    "                               rstar=rstar, Z=Z)\n",
    "\n",
    "dC_nonlin = td_nonlin['C'] - ss['C']\n",
    "dC_lin = G['C']['rstar'] @ drstar\n",
    "\n",
    "plt.plot(dC_lin[:21], label='linear', linestyle='-')\n",
    "plt.plot(td_nonlin['C'][:21]-ss['C'], label='nonlinear', linestyle='--')\n",
    "plt.legend()\n",
    "plt.show()"
   ]
  },
  {
   "cell_type": "markdown",
   "metadata": {},
   "source": [
    "<a id=\"6-determinacy\"></a>\n",
    "\n",
    "## 6. Local determinacy\n",
    "Local determinacy boils down to the invertibility of the matrix $H_U.$ The steady state is a locally-stable equilibrium if and only if $H_X$ is invertible. In practice, $H_U$ is obtained numerically for a finite horizon, and thus we can never expect it to be exactly singular. Still, near-singularity of $H_U$ that gets worse with increasing the horizon $T$ is a clear indication of indeterminacy. \n",
    "\n",
    "As it is well-known, determinacy in the New Keynesian models requires that the interest rate rule is sufficiently responsive to inflation. Therefore, we're going to illustrate the issue by varying the parameter $\\phi$ and trace its effect on $H_U.$\n",
    "\n",
    "### 6.1 Stable case\n",
    "Let's start with the the baseline calibration with $\\phi=1.5$."
   ]
  },
  {
   "cell_type": "code",
   "execution_count": 23,
   "metadata": {},
   "outputs": [
    {
     "name": "stdout",
     "output_type": "stream",
     "text": [
      "Condition number: 4354.18\n",
      "Smallest singular value: 0.07\n"
     ]
    }
   ],
   "source": [
    "# condition number\n",
    "cond = np.linalg.cond(H_U)\n",
    "print(f'Condition number: {cond:.2f}')\n",
    "\n",
    "# smallest singular value\n",
    "_, s, _ = np.linalg.svd(H_U)\n",
    "print(f'Smallest singular value: {s[-1]:.2f}')"
   ]
  },
  {
   "cell_type": "markdown",
   "metadata": {},
   "source": [
    "### 6.2 Unstable case\n",
    "Let's see what happens with $\\phi=0.75$. First of all, we'll have to recompute the Jacobian. It's important to realize that $\\phi$ does not affect the steady state, and affects dynamics only through the monetary block. Thus, recomputing the Jacobians of any other block, especially the heterogeneous household block, would be wasteful."
   ]
  },
  {
   "cell_type": "code",
   "execution_count": 24,
   "metadata": {},
   "outputs": [],
   "source": [
    "import copy\n",
    "ss2 = copy.deepcopy(ss)\n",
    "ss2['phi'] = 0.75 \n",
    "\n",
    "H_U2 = jac.get_H_U(block_list, unknowns, targets, T, ss2)"
   ]
  },
  {
   "cell_type": "markdown",
   "metadata": {},
   "source": [
    "This time the condition number and smallest singular value both clearly indicate indeterminacy."
   ]
  },
  {
   "cell_type": "code",
   "execution_count": 25,
   "metadata": {},
   "outputs": [
    {
     "name": "stdout",
     "output_type": "stream",
     "text": [
      "Condition number: 185538894026.09\n",
      "Smallest singular value: 0.000000\n"
     ]
    }
   ],
   "source": [
    "# condition number\n",
    "cond2 = np.linalg.cond(H_U2)\n",
    "print(f'Condition number: {cond2:.2f}')\n",
    "\n",
    "# smallest singular value\n",
    "_, s2, _ = np.linalg.svd(H_U2)\n",
    "print(f'Smallest singular value: {s2[-1]:.6f}')"
   ]
  },
  {
   "cell_type": "markdown",
   "metadata": {},
   "source": [
    "Not surprisingly, if we tried to use this Jacobian to compute impulse responses, we'd fail. (We'll wrap in a try/except block to avoid a giant error message.)"
   ]
  },
  {
   "cell_type": "code",
   "execution_count": 26,
   "metadata": {
    "scrolled": true
   },
   "outputs": [
    {
     "name": "stdout",
     "output_type": "stream",
     "text": [
      "On iteration 0\n",
      "   max error for nkpc_res is 0.00E+00\n",
      "   max error for asset_mkt is 1.95E-01\n",
      "   max error for labor_mkt is 1.56E-02\n"
     ]
    },
    {
     "name": "stderr",
     "output_type": "stream",
     "text": [
      "C:\\Users\\Bence\\Anaconda3\\lib\\site-packages\\ipykernel_launcher.py:4: RuntimeWarning: invalid value encountered in log\n",
      "  after removing the cwd from sys.path.\n"
     ]
    },
    {
     "name": "stdout",
     "output_type": "stream",
     "text": [
      "Cannot solve constrained household's problem: No convergence after 30 iterations!\n"
     ]
    }
   ],
   "source": [
    "try:\n",
    "    td_nonlin = nonlinear.td_solve(ss2, block_list, unknowns, targets, H_U=H_U2, td_map_user=td_map,\n",
    "                               rstar=rstar, Z=Z)\n",
    "except ValueError as e:\n",
    "    print(e)"
   ]
  },
  {
   "cell_type": "markdown",
   "metadata": {},
   "source": [
    "In fact, it fails after the first iteration: since the Jacobian is nearly singular, using its inverse in Newton's method leads to a very large step to the next guess, which then is outside the admissible domain and leads to an error within the household routine."
   ]
  }
 ],
 "metadata": {
  "kernelspec": {
   "display_name": "Python 3",
   "language": "python",
   "name": "python3"
  },
  "language_info": {
   "codemirror_mode": {
    "name": "ipython",
    "version": 3
   },
   "file_extension": ".py",
   "mimetype": "text/x-python",
   "name": "python",
   "nbconvert_exporter": "python",
   "pygments_lexer": "ipython3",
   "version": "3.6.5"
  }
 },
 "nbformat": 4,
 "nbformat_minor": 2
}
