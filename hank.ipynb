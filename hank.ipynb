{
 "cells": [
  {
   "cell_type": "markdown",
   "metadata": {},
   "source": [
    "# Solving a one-asset HANK model in sequence space\n",
    "In this notebook we show how to\n",
    "1. [Set up a heterogenous agent block](#1-hetblock)\n",
    "2. [Solve for a steady state with multiple calibration targets](#2-calibration)\n",
    "3. [Compute the Jacobian almost automatically via helper functions](#3-jacobian)\n",
    "4. [Compute linearized impulse responses](#4-linear)\n",
    "5. [Compute nonlinear impulse responses](#5-nonlinear)\n",
    "6. [Check local determinacy](#6-determinacy)\n",
    "\n",
    "This notebook accompanies work in progress by Auclert, Bardóczy, Rognlie, Straub (2019): \"Using the Sequence-Space Jacobian to Solve and Estimate Heterogeneous-Agent Models\". Please see the [Github repository](https://github.com/shade-econ/sequence-jacobian) for more information and code.\n",
    "\n",
    "## Model description\n",
    "The model is a HA version of the textbook New Keynesian model. Technology is linear in labor, prices are sticky á la Rotemberg, and monetary policy follows a Taylor rule. For a detailed description of the model, please see the slides. As a reminder, the model can be summarized in sequence form as\n",
    "\n",
    "$$\n",
    "\\textbf{H}_t(\\textbf{Y}, Z) \\equiv \n",
    "\\begin{pmatrix}\n",
    "Y_t - Z_t L_t\n",
    "\\\\\n",
    "Y_t \\left[1 - \\frac{\\mu}{\\mu-1}\\frac{1}{2\\kappa} \\log(1 + \\pi_t)^2\\right] - w_t L_t - d_t\n",
    "\\\\\n",
    "r_t B - \\tau_t\n",
    "\\\\\n",
    "r^*_t + \\phi \\pi_t - i_t\n",
    "\\\\\n",
    "1 + r_t - \\frac{1+i_{t-1}}{1+\\pi_t}\n",
    "\\\\\n",
    "\\kappa \\left(\\frac{w_t}{Z_t} - \\frac{1}{\\mu} \\right)  + \\frac{1}{1+r_{t+1}} \\frac{Y_{t+1}}{Y_t} \\log(1+\\pi_{t+1}) - \\log(1+\\pi_t)\n",
    "\\\\\n",
    "\\mathcal{A}_t(\\{r_s, w_s, \\tau_s, d_s\\})  - B\n",
    "\\\\\n",
    "\\mathcal{N}_t(\\{r_s, w_s, \\tau_s, d_s\\}) - L_t\n",
    "\\end{pmatrix}\n",
    "= \\begin{pmatrix} 0 \\\\ 0 \\\\ 0 \\\\ 0 \\\\ 0 \\\\ 0 \\\\ 0 \\\\ 0\\end{pmatrix},\n",
    "\\qquad t = 0, 1, \\dots\n",
    "$$\n",
    "\n",
    "where the endogenous variables are $\\textbf{Y} = (Y, L, r, w, d, \\pi, \\tau, i)$ and the exogenous variables are $\\textbf{Z}=(r^*, Z)$. \n",
    "\n",
    "The asset demand and labor supply functions $\\{\\mathcal{A}, \\mathcal{L}\\}$ follow from the household block with Bellman equation\n",
    "\n",
    "$$\n",
    "\\begin{align}\n",
    "V_t(e, a_{-}) = \\max_{c, n, a} &\\left\\{\\frac{c^{1-\\sigma}}{1-\\sigma} - \\varphi \\frac{n^{1+\\nu}}{1+\\nu} + \\beta \\sum_{e'}V_{t+1}(e', a) \\mathcal{P}(e,e') \\right\\}\n",
    "\\\\\n",
    "c + a &= (1 + r_t)a_{-} + w_t e n - \\tau_t \\bar{\\tau}(e) + d_t \\bar{d}(e)\n",
    "\\\\\n",
    "a &\\geq 0\n",
    "\\end{align}\n",
    "$$\n",
    "\n",
    "where $\\bar\\tau(e)$ and $\\bar d(e)$ are skill-specific incidence rules for taxes and dividends. \n",
    "\n",
    "We can think of the model as a directed acyclical graph (DAG) with **3 endogenous inputs**  \n",
    "\n",
    "![Directed Acyclical Graph](figures/hank_dag.png) \n",
    "\n",
    "and write it as an implicit function\n",
    "\n",
    "$$\n",
    "H(\\pi, Y, w; \\epsilon, Z) = 0.\n",
    "$$"
   ]
  },
  {
   "cell_type": "markdown",
   "metadata": {},
   "source": [
    "## 0 Import packages\n",
    "The first two are standard python packages, the rest contain code we wrote for this project."
   ]
  },
  {
   "cell_type": "code",
   "execution_count": 1,
   "metadata": {},
   "outputs": [],
   "source": [
    "import numpy as np\n",
    "import matplotlib.pyplot as plt\n",
    "\n",
    "import utils\n",
    "import het_block as het\n",
    "import simple_block as sim\n",
    "from simple_block import simple\n",
    "import jacobian as jac\n",
    "import nonlinear\n",
    "import hank"
   ]
  },
  {
   "cell_type": "markdown",
   "metadata": {},
   "source": [
    "<a id=\"1-hetblock\"></a>\n",
    "\n",
    "## 1 Set up heterogeneous-agent block\n",
    "The main task here is to write a **backward iteration function** that represents the Bellman equation. This has to be a single step of an iterative solution method such as value function iteration. For the standard income fluctuation problem with endogenous labor supply we're dealing with here, the endogenous gridpoint method of [Carroll (2006)](https://www.sciencedirect.com/science/article/pii/S0165176505003368) is the best practice.\n",
    "\n",
    "Solving the endogenous-labor problem via EGM is standard but somewhat tedious and so the details are left to ``hank.py``. Given the backward iteration function, it is straighforward to construct a `HetBlock` instance. As its name suggests, HetBlock is a general class of heterogeneous-agent blocks that comes with useful methods, such as solving for steady-state policy functions by iteration and computing Jacobians. In this notebook, we are going to cover the most important of these."
   ]
  },
  {
   "cell_type": "code",
   "execution_count": 2,
   "metadata": {},
   "outputs": [],
   "source": [
    "household = het.HetBlock(hank.backward_iterate, exogenous='Pi', policy='a', backward='Va')"
   ]
  },
  {
   "cell_type": "markdown",
   "metadata": {},
   "source": [
    "<a id=\"2-calibration\"></a>\n",
    "\n",
    "## 2 Calibrating the steady state\n",
    "Next, we embed this HA block in general equilibrium. We calibrate the discount factor $\\beta$ and disutility of labor $\\varphi$ to hit quarterly interest rate $r=0.005$ (approx. 2% annually) and total effective labor $L=1.$\n",
    "\n",
    "This is a two-dimensional rootfinding problem that we solve by Broyden's method which we implemented in ``utils.py``. it takes a function $f: \\mathbb{R}^n \\to \\mathbb{R}^n$ and an initial guess for its roots, $x_0 \\in \\mathbb{R}^n.$ The user can  define a set of invalid inputs from which the solver backtracks. This useful feature is the main reason for implementing our own routine.\n",
    "\n",
    "The calibration has two substantive steps. First, express analytically all variables that don't depend on $(\\beta, \\varphi).$ Second, construct the residual function that takes the current guesses $(\\beta, \\varphi)$ and maps them into deviations from he calibration targets. This just requires an evaluation of the household block. The rootfinder does the rest. \n",
    "\n",
    "Although additional efficiency gains would be possible here (for instance, by updating our initial guesses for policy and distribution along the way), we will not implement them, since they are not our focus here."
   ]
  },
  {
   "cell_type": "code",
   "execution_count": 3,
   "metadata": {},
   "outputs": [],
   "source": [
    "def hank_ss(beta_guess=0.986, vphi_guess=0.8, r=0.005, eis=0.5, frisch=0.5, mu=1.2, B_Y=5.6, rho_s=0.966, sigma_s=0.5,\n",
    "            kappa=0.1, phi=1.5, nS=7, amax=150, nA=500, tax_rule=None, div_rule=None):\n",
    "    \"\"\"Solve steady state of full GE model. Calibrate (beta, vphi) to hit target for interest rate and Y.\"\"\"\n",
    "\n",
    "    # set up grid\n",
    "    a_grid = utils.agrid(amax=amax, n=nA)\n",
    "    e_grid, pi_s, Pi = utils.markov_rouwenhorst(rho=rho_s, sigma=sigma_s, N=nS)\n",
    "\n",
    "    # default incidence rule is proportional to skill\n",
    "    if tax_rule is None:\n",
    "        tax_rule = e_grid  # scale does not matter, will be normalized anyway\n",
    "    if div_rule is None:\n",
    "        div_rule = e_grid\n",
    "\n",
    "    assert tax_rule.shape[0] == div_rule.shape[0] == nS, 'Incidence rules are inconsistent with income grid.'\n",
    "\n",
    "    # solve analitically what we can\n",
    "    B = B_Y\n",
    "    w = 1 / mu\n",
    "    Div = (1 - w)\n",
    "    Tax = r * B\n",
    "    div = Div / np.sum(pi_s * div_rule) * div_rule\n",
    "    tax = Tax / np.sum(pi_s * tax_rule) * tax_rule\n",
    "    T = div - tax\n",
    "\n",
    "    # figure out initializer\n",
    "    fininc = (1 + r) * a_grid + T[:, np.newaxis] - a_grid[0]\n",
    "    coh = (1 + r) * a_grid[np.newaxis, :] + w * e_grid[:, np.newaxis] + T[:, np.newaxis]\n",
    "    Va = (1 + r) * (0.1 * coh) ** (-1 / eis)\n",
    "\n",
    "    # residual function\n",
    "    def res(x):\n",
    "        beta_loc, vphi_loc = x\n",
    "        # precompute constrained c and n which don't depend on Va\n",
    "        c_const_loc, n_const_loc = hank.solve_cn(w * e_grid[:, np.newaxis], fininc, eis, frisch, vphi_loc, Va)\n",
    "        if beta_loc > 0.999 / (1 + r) or vphi_loc < 0.001:\n",
    "            raise ValueError('Clearly invalid inputs')\n",
    "        # out = household_labor_ss(Pi, a_grid, e_grid, T, w, r, beta_loc, eis, frisch, vphi_loc)\n",
    "        out = household.ss(Va=Va, Pi=Pi, a_grid=a_grid, e_grid=e_grid, T=T, w=w, r=r, beta=beta_loc, eis=eis,\n",
    "                           frisch=frisch, vphi=vphi_loc, c_const=c_const_loc, n_const=n_const_loc, ssflag=True)\n",
    "        return np.array([out['A'] - B, out['NS'] - 1])\n",
    "\n",
    "    # solve for beta, vphi\n",
    "    (beta, vphi), _ = utils.broyden_solver(res, np.array([beta_guess, vphi_guess]), noisy=False)\n",
    "\n",
    "    # extra evaluation to report variables\n",
    "    c_const, n_const = hank.solve_cn(w * e_grid[:, np.newaxis], fininc, eis, frisch, vphi, Va)\n",
    "    ss = household.ss(Va=Va, Pi=Pi, a_grid=a_grid, e_grid=e_grid, T=T, w=w, r=r, beta=beta, eis=eis,\n",
    "                      frisch=frisch, vphi=vphi, c_const=c_const, n_const=n_const, ssflag=True)\n",
    "    ss.update({'pi_s': pi_s, 'B': B, 'phi': phi, 'kappa': kappa, 'Y': 1, 'rstar': r, 'Z': 1, 'mu': mu, 'L': 1, 'pi': 0,\n",
    "               'Div': Div, 'Tax': Tax, 'div': div, 'tax': tax, 'div_rule': div_rule, 'tax_rule': tax_rule,\n",
    "               'goods_mkt': 1 - ss['C'], 'ssflag': False})\n",
    "    return ss"
   ]
  },
  {
   "cell_type": "markdown",
   "metadata": {},
   "source": [
    "Let's solve for the steady state using our default calibration, and plot the labor supply policy as function of assets for each skill type. In general, poorer and more productive households choose to work more. "
   ]
  },
  {
   "cell_type": "code",
   "execution_count": 4,
   "metadata": {},
   "outputs": [
    {
     "data": {
      "image/png": "[encoded data removed]",
      "text/plain": [
       "<Figure size 432x288 with 1 Axes>"
      ]
     },
     "metadata": {},
     "output_type": "display_data"
    }
   ],
   "source": [
    "ss = hank_ss()\n",
    "plt.plot(ss['a_grid'], ss['n'].T)\n",
    "plt.xlabel('Assets'), plt.ylabel('Labor supply')\n",
    "plt.show()"
   ]
  },
  {
   "cell_type": "markdown",
   "metadata": {},
   "source": [
    "### Checking Walras's law\n",
    "It's always a good idea to check whether Walras's law holds. The omitted goods market clearing condition reads simply as \n",
    "$$\n",
    "Y = C\n",
    "$$\n",
    "(there are no price-adjustment costs in the zero-inflation steady state) and is reported by the `hank_ss` function above."
   ]
  },
  {
   "cell_type": "code",
   "execution_count": 5,
   "metadata": {},
   "outputs": [
    {
     "name": "stdout",
     "output_type": "stream",
     "text": [
      "-5.258184998524484e-09\n"
     ]
    }
   ],
   "source": [
    "print(ss['goods_mkt'])"
   ]
  },
  {
   "cell_type": "markdown",
   "metadata": {},
   "source": [
    "<a id=\"3-jacobian\"></a>\n",
    "\n",
    "## 3 Jacobians\n",
    "Jacobians are the key concept to solve and to estimate models in sequence space. Each model block has its own Jacobians which can be combined via the chain rule into Jacobians of full model. A Jacobian in a $T$-dimensional (truncated) sequence space is a $T \\times T$ matrix of the form\n",
    "\n",
    "$$\n",
    "\\frac{d Y}{d X} = \n",
    "\\begin{pmatrix}\n",
    "\\frac{d Y_0}{d X_0} & \\frac{d Y_0}{d X_1} & \\dots & \\frac{d Y_0}{d X_T} \\\\\n",
    "\\vdots & \\vdots & \\ddots & \\vdots \\\\\n",
    "\\frac{d Y_T}{d X_0} & \\frac{d Y_T}{d X_1} & \\dots & \\frac{d Y_T}{d X_T}\n",
    "\\end{pmatrix}\n",
    "$$\n",
    "\n",
    "evaluated at the steady state.\n",
    "\n",
    "### 3.1 Simple blocks\n",
    "To build intuition, let's start with the firm block. In our code, simple blocks are specified as regular Python functions  endowed with the decorator ``@simple``. In the body of the function, we directly implement the corresponding equilibrium conditions. The decorator turns the function into an instance of ``SimpleBlock``, a simple class with methods to evaluate itself in steady state and along a transition path. Notice the use of K(-1) to denote 1-period lag, similarly to Dynare. In general, one can write (-s) and (+s) to denote s-period lags and leads.\n",
    "\n",
    "The DAG above has 6 simple nodes. But it makes sense to consolidate all market clearing conditions in a single block. This leaves us with the following five blocks."
   ]
  },
  {
   "cell_type": "code",
   "execution_count": 6,
   "metadata": {},
   "outputs": [],
   "source": [
    "@simple\n",
    "def firm(Y, w, Z, pi, mu, kappa):\n",
    "    L = Y / Z\n",
    "    Div = Y - w * L - mu/(mu-1)/(2*kappa) * np.log(1+pi)**2 * Y\n",
    "    return L, Div\n",
    "\n",
    "@simple\n",
    "def monetary(pi, rstar, phi):\n",
    "    r = (1 + rstar(-1) + phi * pi(-1)) / (1 + pi) - 1\n",
    "    return r\n",
    "\n",
    "@simple\n",
    "def fiscal(r, B):\n",
    "    Tax = r * B\n",
    "    return Tax\n",
    "\n",
    "@simple\n",
    "def nkpc(pi, w, Z, Y, r, mu, kappa):\n",
    "    nkpc_res = kappa * (w / Z - 1 / mu) + Y(+1) / Y * np.log(1 + pi(+1)) / (1 + r(+1)) - np.log(1 + pi)\n",
    "    return nkpc_res\n",
    "\n",
    "@simple\n",
    "def mkt_clearing(A, NS, C, L, Y, B, pi, mu, kappa):\n",
    "    asset_mkt = A - B\n",
    "    labor_mkt = NS - L\n",
    "    goods_mkt = Y - C - mu/(mu-1)/(2*kappa) * np.log(1+pi)**2 * Y\n",
    "    return asset_mkt, labor_mkt, goods_mkt"
   ]
  },
  {
   "cell_type": "markdown",
   "metadata": {},
   "source": [
    "Let's take a look at the Jacobians of the Phillips curve."
   ]
  },
  {
   "cell_type": "code",
   "execution_count": 7,
   "metadata": {},
   "outputs": [
    {
     "name": "stdout",
     "output_type": "stream",
     "text": [
      "[[-1.          0.99502488  0.          0.          0.        ]\n",
      " [ 0.         -1.          0.99502488  0.          0.        ]\n",
      " [ 0.          0.         -1.          0.99502488  0.        ]\n",
      " [ 0.          0.          0.         -1.          0.99502488]\n",
      " [ 0.          0.          0.          0.         -1.        ]]\n",
      "dict_keys(['pi', 'w', 'Z'])\n"
     ]
    }
   ],
   "source": [
    "J_nkpc = sim.jac(nkpc, ss, T=5, shock_list=['pi', 'w', 'Z', 'Y', 'r'])\n",
    "print(J_nkpc['nkpc_res']['pi'])\n",
    "print(J_nkpc['nkpc_res'].keys())"
   ]
  },
  {
   "cell_type": "markdown",
   "metadata": {},
   "source": [
    "Notice two things. First, inflation shows up with a lead as well as contemporaneously, so the corresponsing Jacobian is not diagonal, though still sparse. Second, ``J_nkpc`` does not have entries for $(Y, r)$ even though we asked for them. The reason is they have no first-order effect, i.e. their Jacobians are zero. ``simple_block.jac`` recognizes this and does return them. This behavior ensures that we won't inadvertently do wasteful computations.   "
   ]
  },
  {
   "cell_type": "markdown",
   "metadata": {},
   "source": [
    "### 3.2 HA blocks\n",
    "The Jacobians of HA blocks are analogous objects to the Jacobians of simple blocks we just saw. They are $T \\times T$ matrices linking aggregate inputs to aggregate outputs. We propose an efficient **fake news algorithm** to compute them. Please see the paper and the `het_jacobian.ipynb` notebook for details. \n",
    "\n",
    "The algorithm is implemented in `het_block.py`. At the end of the day, we'll be able to call a single function, much like `simple_block.own_jac` above.  The difference is that the shocked inputs have to be specified as a nested dict. This may look like an unnecessarily complicated formulation, but it allows us to use the same, concise ``backward_iteration_labor`` function in any macro model. From the households' perspective, all that matters is what $(r, w, T)$ are. They just take this given, irrespective of how they are determined in the GE. \n",
    "\n",
    "So we proceed in two steps. First, compute the derivative of the state-specific transfer income with respect to aggregate dividends and taxes. Second, call ``HetBlock.jac`` method that we used for Krusell-Smith model as well. "
   ]
  },
  {
   "cell_type": "code",
   "execution_count": 8,
   "metadata": {},
   "outputs": [
    {
     "name": "stdout",
     "output_type": "stream",
     "text": [
      "[[ 0.39667524 -0.03822541 -0.03366479 -0.03039279 -0.02772737]\n",
      " [-0.03850205  0.40413096 -0.03411295 -0.03080763 -0.02816506]\n",
      " [-0.03411674 -0.03445217  0.40793446 -0.03134045 -0.02864567]\n",
      " [-0.03124063 -0.03123534 -0.03165717  0.41055054 -0.02924257]\n",
      " [-0.02884023 -0.02899304 -0.02905567 -0.02954448  0.41252088]]\n"
     ]
    }
   ],
   "source": [
    "T_div = ss['div_rule'] / np.sum(ss['pi_s'] * ss['div_rule'])\n",
    "T_tax = -ss['tax_rule'] / np.sum(ss['pi_s'] * ss['tax_rule'])\n",
    "J_ha = household.jac(ss=ss, T=5,\n",
    "                        shock_dict={'r': {'r': 1}, 'w': {'w': 1}, 'Div': {'T': T_div}, 'Tax': {'T': T_tax}}, \n",
    "                        desired_outputs=['c', 'a', 'n', 'ns'])\n",
    "\n",
    "print(J_ha['N']['w'])"
   ]
  },
  {
   "cell_type": "markdown",
   "metadata": {},
   "source": [
    "<a id=\"4-linear\"></a>\n",
    "\n",
    "## 4 Linearized dynamics using Jacobians\n",
    "Recall that we reduced the to the following DAG:\n",
    "\n",
    "![Directed Acyclical Graph](figures/hank_dag.png) \n",
    "\n",
    "that can also be written as an implicit equation\n",
    "\n",
    "$$\n",
    "H(\\pi, Y, w; r^*, Z) =\n",
    "\\begin{pmatrix}\n",
    "\\kappa \\left(\\frac{w_t}{Z_t} - \\frac{1}{\\mu} \\right)  + \\frac{1}{1+r_{t+1}} \\frac{Y_{t+1}}{Y_t} \\log(1+\\pi_{t+1}) - \\log(1+\\pi_t)\n",
    "\\\\\n",
    "\\mathcal{A}_t(\\{r_s, w_s, \\tau_s, d_s\\})  - B\n",
    "\\\\\n",
    "\\mathcal{L}_t(\\{r_s, w_s, \\tau_s, d_s\\}) - L_t\n",
    "\\end{pmatrix}\n",
    "= \\begin{pmatrix} 0 \\\\ 0 \\\\ 0\\end{pmatrix},\n",
    "$$\n",
    "\n",
    "to be solved for $X=(\\pi, w, Y)$ given any $(Z, r^*)$. The rest of the endogenous variables are be obtained as explicit functions of $(\\pi, w, Y; Z, r^*)$ along the DAG, but it would be tedious to write them out.\n",
    "\n",
    "Keep in mind that the implicit function theorem implies that\n",
    "\n",
    "$$\n",
    "dX = -\\left[\\frac{dH}{dX}\\right]^{-1} \\left(\\frac{dH}{dr^*} dr^* + \\frac{dH}{dZ} dZ\\right). \\tag{1}\n",
    "$$\n",
    "\n",
    "Then the response of other endogenous variables, e.g. consumption,  can be computed as the sum of direct and indirect effects:\n",
    "\n",
    "$$\n",
    "dC = \\underbrace{\\frac{\\partial C}{\\partial r^*} d r^* + \\frac{\\partial C}{\\partial Z} dZ}_{\\text{direct}} + \\underbrace{\\frac{dC}{dX} dX}_{\\text{indirect}}. \\tag{2}\n",
    "$$\n",
    "\n",
    "### 4.1 Algorithm\n",
    "We will obtain a linear characterization of all impulse responses that parallels the four-part procedure on page 13 of the beamer slides. In contrast to the simpler Krusell-Smith model, we'll rely more on convenience functions to manipulate Jacobians. This is to simplify the code and minimize errors. \n",
    "\n",
    "Recall that we already solved for a steady state and stored is as `ss`. Furthermore, we will use a 300-period truncation horizon. "
   ]
  },
  {
   "cell_type": "markdown",
   "metadata": {},
   "source": [
    "#### Step 1: For each block, obtain Jacobians of outputs with respect to inputs\n",
    "Here, we have six blocks: five simple blocks and the heterogeneous household block. First, let's define lists with the names of exogenous inputs, endogenous inputs (unknowns), and targets. These will be useful later. Second, let's use `sim.jac` to differentiate the 5 simple blocks with respect to their inputs that can change (so not the parameters). Third, we calculate the Jacobians of the HA household block in two steps as discussed in section 3. "
   ]
  },
  {
   "cell_type": "code",
   "execution_count": 9,
   "metadata": {},
   "outputs": [],
   "source": [
    "T = 300\n",
    "exogenous = ['rstar', 'Z']\n",
    "unknowns = ['pi', 'w', 'Y']\n",
    "targets = ['nkpc_res', 'asset_mkt', 'labor_mkt']\n",
    "\n",
    "# jacobians for simple blocks\n",
    "J_firm = sim.jac(firm, ss, T)\n",
    "J_monetary = sim.jac(monetary, ss, T, ['pi', 'rstar'])\n",
    "J_fiscal = sim.jac(fiscal, ss, T, ['r'])\n",
    "J_nkpc = sim.jac(nkpc, ss, T, ['pi', 'w', 'Z', 'Y', 'r'])\n",
    "J_mkt = sim.jac(mkt_clearing, ss, T, ['A', 'NS', 'C', 'L', 'Y'])\n",
    "\n",
    "# jacobian of HA block\n",
    "J_ha = household.jac(ss=ss, T=T,\n",
    "                     shock_dict={'r': {'r': 1}, 'w': {'w': 1}, 'Div': {'T': T_div}, 'Tax': {'T': T_tax}}, \n",
    "                     desired_outputs=['c', 'a', 'n', 'ns'])"
   ]
  },
  {
   "cell_type": "markdown",
   "metadata": {},
   "source": [
    "#### Step 2: Compose Jacobians along the computational graph\n",
    "We're interested in the Jacobians with respect to the inputs of $H$, that means the unknowns $(\\pi, w, Y)$ and the shocks $(r^*, Z).$\n",
    "\n",
    "Manually composing the Jacobians of six blocks would be a tedious and error-prone process. Instead, we're going to use `jac.chain_jacobians` to apply the chain rule to all blocks at once. Note that the **order of blocks in jacdicts matters**: they have follow each other as in the DAG. For example, `J_firm` has to preceed `J_ha`, because the firm block outputs dividends which is an input to the households. The resulting `J` dictionary contains the Jacobian of the outputs of all blocks with respect to the variables in `unknowns` and `exogenous`.  "
   ]
  },
  {
   "cell_type": "code",
   "execution_count": 10,
   "metadata": {},
   "outputs": [],
   "source": [
    "J = jac.chain_jacobians(jacdicts=[J_firm, J_monetary, J_fiscal, J_ha, J_mkt, J_nkpc],\n",
    "                        inputs=unknowns+exogenous)"
   ]
  },
  {
   "cell_type": "markdown",
   "metadata": {},
   "source": [
    "#### Step 3 and 4: Use the inverse Jacobian $H_X^{-1}$  and the shock-specific multiplier matrices $H_{r^*}, H_Z$ to build all impulses\n",
    "The convenience functions from `jacobian.py` allow us to implement these seemingly complex operations in just a few lines. First, we assemble the large Jacobian $H_X \\in \\mathbb{R}^{3T \\times 3T}$ using `jac.pack_jacobians`. This matrix captures (to first order) the implicit relationship between unknowns $X=(\\pi, w, Y)$ induced by the requirement that markets clear and the Phillips curve holds, i.e. that the targets of the DAG evaluate to zero. Second, we implement equations (1) and (2) by chaining together the $H_X^{-1}$ with $H_{r^*}, H_Z$ and $J.$ The latter is needed for the direct effects."
   ]
  },
  {
   "cell_type": "code",
   "execution_count": 11,
   "metadata": {},
   "outputs": [],
   "source": [
    "# assemble large Jacobian\n",
    "H_X = jac.pack_jacobians(J, unknowns, targets, T)\n",
    "\n",
    "# calculate H_X^(-1) and H_rstar and H_Z unpacked as jacobian dicts\n",
    "J_unknowns = jac.unpack_jacobians(-np.linalg.inv(H_X), targets, unknowns, T) # unpacked H_X^(-1)\n",
    "J_targets = {k: v for k, v in J.items() if k in targets}                     # unpacked H_rstar and H_Z\n",
    "\n",
    "# get G for everything by chaining these together and then also chaining with J\n",
    "G = jac.chain_jacobians(jacdicts=[J_targets, J_unknowns, J], inputs=exogenous)"
   ]
  },
  {
   "cell_type": "markdown",
   "metadata": {},
   "source": [
    "### 4.2 Convenient approach\n",
    "\n",
    "These steps can be automatized for the entire class of SHADE models. A SHADE model is characterized by its blocks, exogenous shocks, unknowns, and targets. In addition, we need to know the steady state around which to linearize as well as the truncation horizon.\n",
    "\n",
    "If we define a market clearing block that returns the target (asset market clearing), we can get the general equilibrium Jacobian `G` by a single function call. (Note that the Jacobian of the HA block still has to be precomputed)."
   ]
  },
  {
   "cell_type": "code",
   "execution_count": 12,
   "metadata": {},
   "outputs": [],
   "source": [
    "G2 = jac.get_G(block_list=[firm, monetary, fiscal, nkpc, mkt_clearing, J_ha],\n",
    "               exogenous=exogenous, unknowns=unknowns, targets=targets, T=T, ss=ss)"
   ]
  },
  {
   "cell_type": "markdown",
   "metadata": {},
   "source": [
    "Check that the two approaches give the same answer."
   ]
  },
  {
   "cell_type": "code",
   "execution_count": 13,
   "metadata": {},
   "outputs": [],
   "source": [
    "for o in G2.keys():\n",
    "    for i in G2[o].keys():\n",
    "        assert np.allclose(G[o][i], G2[o][i])"
   ]
  },
  {
   "cell_type": "markdown",
   "metadata": {},
   "source": [
    "### 4.2 Results\n",
    "Let's consider 25 basis point monetary policy shocks with different persistences and plot the response of inflation."
   ]
  },
  {
   "cell_type": "code",
   "execution_count": 14,
   "metadata": {},
   "outputs": [
    {
     "data": {
      "image/png": "[encoded data removed]",
      "text/plain": [
       "<Figure size 432x288 with 1 Axes>"
      ]
     },
     "metadata": {},
     "output_type": "display_data"
    }
   ],
   "source": [
    "rhos = np.array([0.2, 0.4, 0.6, 0.8, 0.9])\n",
    "drstar = -0.0025 * rhos ** (np.arange(T)[:, np.newaxis])\n",
    "dpi = G['pi']['rstar'] @ drstar\n",
    "plt.plot(10000 * dpi[:21])\n",
    "plt.title(r'Inflation response to 25 bp monetary policy shocks with $\\rho=(0.2 ... 0.9)$')\n",
    "plt.xlabel('quarters'); plt.ylabel('basis point')\n",
    "plt.show()"
   ]
  },
  {
   "cell_type": "markdown",
   "metadata": {},
   "source": [
    "<a id=\"5-nonlinear\"></a>\n",
    "\n",
    "## 5. Nonlinear dynamics\n",
    "Conceptually there's nothing new in this section compared to the Krusell-Smith notebook. We're going to implement a quasi-Newton algorithm to solve for the unknown sequences $X=(\\pi, w, Y)$ given some sequences of shocks $(r^*, Z).$ We initialize the algorithm by the naive guess that the variables in $X$ stay constant at their steady-state level. Then we evaluate the DAG and update the guess using the inverse Jacobian $H_X^{-1}.$ The algorithm converges in a few steps, despite the presence of substantial nonlinearities."
   ]
  },
  {
   "cell_type": "code",
   "execution_count": 15,
   "metadata": {},
   "outputs": [],
   "source": [
    "def td_map(ss, pi, w, Y, rstar, Z):\n",
    "    # simple blocks\n",
    "    L, Div = firm.td(ss, Y=Y, w=w, Z=Z, pi=pi)\n",
    "    r = monetary.td(ss, pi=pi, rstar=rstar)\n",
    "    Tax = fiscal.td(ss, r=r)\n",
    "    div = Div[:, np.newaxis] / np.sum(ss['pi_s'] * ss['div_rule']) * ss['div_rule']\n",
    "    tax = Tax[:, np.newaxis] / np.sum(ss['pi_s'] * ss['tax_rule']) * ss['tax_rule']\n",
    "\n",
    "    # ha block\n",
    "    td = household_td(backward_iterate_labor, ss, T=div-tax, w=w, r=r)\n",
    "    td.update({'pi': pi, 'w': w, 'Y': Y, 'L': L, 'r': r, 'Div': Div, 'Tax': Tax, 'rstar': rstar, 'Z': Z})\n",
    "\n",
    "    # nkpc and market clearing\n",
    "    nkpc_res = nkpc.td(ss, pi=pi, w=w, Y=Y, Z=Z, r=r)\n",
    "    asset_mkt, labor_mkt, td['goods_mkt'] = mkt_clearing.td(ss, **{k: td[k] for k in ('A', 'NS', 'C', 'L', 'Y', 'pi')})\n",
    "\n",
    "    return nkpc_res, asset_mkt, labor_mkt, td"
   ]
  },
  {
   "cell_type": "code",
   "execution_count": 16,
   "metadata": {},
   "outputs": [],
   "source": [
    "H_X = jac.pack_jacobians(J, inputs=['pi', 'w', 'Y'], outputs=['nkpc_res', 'asset_mkt', 'labor_mkt'], T=T)"
   ]
  },
  {
   "cell_type": "code",
   "execution_count": 17,
   "metadata": {},
   "outputs": [],
   "source": [
    "# initialize guess at ss\n",
    "pi = np.full(T, 0)\n",
    "w = np.full(T, ss['w'])\n",
    "Y = np.full(T, ss['Y'])\n",
    "rstar = ss['r'] + drstar"
   ]
  },
  {
   "cell_type": "code",
   "execution_count": 30,
   "metadata": {},
   "outputs": [
    {
     "data": {
      "text/plain": [
       "{'L': Displace([1., 1., 1., 1., 1., 1., 1., 1., 1., 1., 1., 1., 1., 1., 1., 1.,\n",
       "           1., 1., 1., 1., 1., 1., 1., 1., 1., 1., 1., 1., 1., 1., 1., 1.,\n",
       "           1., 1., 1., 1., 1., 1., 1., 1., 1., 1., 1., 1., 1., 1., 1., 1.,\n",
       "           1., 1., 1., 1., 1., 1., 1., 1., 1., 1., 1., 1., 1., 1., 1., 1.,\n",
       "           1., 1., 1., 1., 1., 1., 1., 1., 1., 1., 1., 1., 1., 1., 1., 1.,\n",
       "           1., 1., 1., 1., 1., 1., 1., 1., 1., 1., 1., 1., 1., 1., 1., 1.,\n",
       "           1., 1., 1., 1., 1., 1., 1., 1., 1., 1., 1., 1., 1., 1., 1., 1.,\n",
       "           1., 1., 1., 1., 1., 1., 1., 1., 1., 1., 1., 1., 1., 1., 1., 1.,\n",
       "           1., 1., 1., 1., 1., 1., 1., 1., 1., 1., 1., 1., 1., 1., 1., 1.,\n",
       "           1., 1., 1., 1., 1., 1., 1., 1., 1., 1., 1., 1., 1., 1., 1., 1.,\n",
       "           1., 1., 1., 1., 1., 1., 1., 1., 1., 1., 1., 1., 1., 1., 1., 1.,\n",
       "           1., 1., 1., 1., 1., 1., 1., 1., 1., 1., 1., 1., 1., 1., 1., 1.,\n",
       "           1., 1., 1., 1., 1., 1., 1., 1., 1., 1., 1., 1., 1., 1., 1., 1.,\n",
       "           1., 1., 1., 1., 1., 1., 1., 1., 1., 1., 1., 1., 1., 1., 1., 1.,\n",
       "           1., 1., 1., 1., 1., 1., 1., 1., 1., 1., 1., 1., 1., 1., 1., 1.,\n",
       "           1., 1., 1., 1., 1., 1., 1., 1., 1., 1., 1., 1., 1., 1., 1., 1.,\n",
       "           1., 1., 1., 1., 1., 1., 1., 1., 1., 1., 1., 1., 1., 1., 1., 1.,\n",
       "           1., 1., 1., 1., 1., 1., 1., 1., 1., 1., 1., 1., 1., 1., 1., 1.,\n",
       "           1., 1., 1., 1., 1., 1., 1., 1., 1., 1., 1., 1.]),\n",
       " 'Div': Displace([0.16666667, 0.16666667, 0.16666667, 0.16666667, 0.16666667,\n",
       "           0.16666667, 0.16666667, 0.16666667, 0.16666667, 0.16666667,\n",
       "           0.16666667, 0.16666667, 0.16666667, 0.16666667, 0.16666667,\n",
       "           0.16666667, 0.16666667, 0.16666667, 0.16666667, 0.16666667,\n",
       "           0.16666667, 0.16666667, 0.16666667, 0.16666667, 0.16666667,\n",
       "           0.16666667, 0.16666667, 0.16666667, 0.16666667, 0.16666667,\n",
       "           0.16666667, 0.16666667, 0.16666667, 0.16666667, 0.16666667,\n",
       "           0.16666667, 0.16666667, 0.16666667, 0.16666667, 0.16666667,\n",
       "           0.16666667, 0.16666667, 0.16666667, 0.16666667, 0.16666667,\n",
       "           0.16666667, 0.16666667, 0.16666667, 0.16666667, 0.16666667,\n",
       "           0.16666667, 0.16666667, 0.16666667, 0.16666667, 0.16666667,\n",
       "           0.16666667, 0.16666667, 0.16666667, 0.16666667, 0.16666667,\n",
       "           0.16666667, 0.16666667, 0.16666667, 0.16666667, 0.16666667,\n",
       "           0.16666667, 0.16666667, 0.16666667, 0.16666667, 0.16666667,\n",
       "           0.16666667, 0.16666667, 0.16666667, 0.16666667, 0.16666667,\n",
       "           0.16666667, 0.16666667, 0.16666667, 0.16666667, 0.16666667,\n",
       "           0.16666667, 0.16666667, 0.16666667, 0.16666667, 0.16666667,\n",
       "           0.16666667, 0.16666667, 0.16666667, 0.16666667, 0.16666667,\n",
       "           0.16666667, 0.16666667, 0.16666667, 0.16666667, 0.16666667,\n",
       "           0.16666667, 0.16666667, 0.16666667, 0.16666667, 0.16666667,\n",
       "           0.16666667, 0.16666667, 0.16666667, 0.16666667, 0.16666667,\n",
       "           0.16666667, 0.16666667, 0.16666667, 0.16666667, 0.16666667,\n",
       "           0.16666667, 0.16666667, 0.16666667, 0.16666667, 0.16666667,\n",
       "           0.16666667, 0.16666667, 0.16666667, 0.16666667, 0.16666667,\n",
       "           0.16666667, 0.16666667, 0.16666667, 0.16666667, 0.16666667,\n",
       "           0.16666667, 0.16666667, 0.16666667, 0.16666667, 0.16666667,\n",
       "           0.16666667, 0.16666667, 0.16666667, 0.16666667, 0.16666667,\n",
       "           0.16666667, 0.16666667, 0.16666667, 0.16666667, 0.16666667,\n",
       "           0.16666667, 0.16666667, 0.16666667, 0.16666667, 0.16666667,\n",
       "           0.16666667, 0.16666667, 0.16666667, 0.16666667, 0.16666667,\n",
       "           0.16666667, 0.16666667, 0.16666667, 0.16666667, 0.16666667,\n",
       "           0.16666667, 0.16666667, 0.16666667, 0.16666667, 0.16666667,\n",
       "           0.16666667, 0.16666667, 0.16666667, 0.16666667, 0.16666667,\n",
       "           0.16666667, 0.16666667, 0.16666667, 0.16666667, 0.16666667,\n",
       "           0.16666667, 0.16666667, 0.16666667, 0.16666667, 0.16666667,\n",
       "           0.16666667, 0.16666667, 0.16666667, 0.16666667, 0.16666667,\n",
       "           0.16666667, 0.16666667, 0.16666667, 0.16666667, 0.16666667,\n",
       "           0.16666667, 0.16666667, 0.16666667, 0.16666667, 0.16666667,\n",
       "           0.16666667, 0.16666667, 0.16666667, 0.16666667, 0.16666667,\n",
       "           0.16666667, 0.16666667, 0.16666667, 0.16666667, 0.16666667,\n",
       "           0.16666667, 0.16666667, 0.16666667, 0.16666667, 0.16666667,\n",
       "           0.16666667, 0.16666667, 0.16666667, 0.16666667, 0.16666667,\n",
       "           0.16666667, 0.16666667, 0.16666667, 0.16666667, 0.16666667,\n",
       "           0.16666667, 0.16666667, 0.16666667, 0.16666667, 0.16666667,\n",
       "           0.16666667, 0.16666667, 0.16666667, 0.16666667, 0.16666667,\n",
       "           0.16666667, 0.16666667, 0.16666667, 0.16666667, 0.16666667,\n",
       "           0.16666667, 0.16666667, 0.16666667, 0.16666667, 0.16666667,\n",
       "           0.16666667, 0.16666667, 0.16666667, 0.16666667, 0.16666667,\n",
       "           0.16666667, 0.16666667, 0.16666667, 0.16666667, 0.16666667,\n",
       "           0.16666667, 0.16666667, 0.16666667, 0.16666667, 0.16666667,\n",
       "           0.16666667, 0.16666667, 0.16666667, 0.16666667, 0.16666667,\n",
       "           0.16666667, 0.16666667, 0.16666667, 0.16666667, 0.16666667,\n",
       "           0.16666667, 0.16666667, 0.16666667, 0.16666667, 0.16666667,\n",
       "           0.16666667, 0.16666667, 0.16666667, 0.16666667, 0.16666667,\n",
       "           0.16666667, 0.16666667, 0.16666667, 0.16666667, 0.16666667,\n",
       "           0.16666667, 0.16666667, 0.16666667, 0.16666667, 0.16666667,\n",
       "           0.16666667, 0.16666667, 0.16666667, 0.16666667, 0.16666667,\n",
       "           0.16666667, 0.16666667, 0.16666667, 0.16666667, 0.16666667,\n",
       "           0.16666667, 0.16666667, 0.16666667, 0.16666667, 0.16666667,\n",
       "           0.16666667, 0.16666667, 0.16666667, 0.16666667, 0.16666667])}"
      ]
     },
     "execution_count": 30,
     "metadata": {},
     "output_type": "execute_result"
    }
   ],
   "source": [
    "firm.td(ss, Y=Y, w=w, pi=pi)"
   ]
  },
  {
   "cell_type": "code",
   "execution_count": 29,
   "metadata": {},
   "outputs": [
    {
     "data": {
      "text/plain": [
       "array([[0.0025  , 0.0025  , 0.0025  , 0.0025  , 0.0025  ],\n",
       "       [0.0045  , 0.004   , 0.0035  , 0.003   , 0.00275 ],\n",
       "       [0.0049  , 0.0046  , 0.0041  , 0.0034  , 0.002975],\n",
       "       ...,\n",
       "       [0.005   , 0.005   , 0.005   , 0.005   , 0.005   ],\n",
       "       [0.005   , 0.005   , 0.005   , 0.005   , 0.005   ],\n",
       "       [0.005   , 0.005   , 0.005   , 0.005   , 0.005   ]])"
      ]
     },
     "execution_count": 29,
     "metadata": {},
     "output_type": "execute_result"
    }
   ],
   "source": []
  },
  {
   "cell_type": "code",
   "execution_count": 19,
   "metadata": {},
   "outputs": [
    {
     "ename": "ValueError",
     "evalue": "operands could not be broadcast together with shapes (300,5) (300,) ",
     "output_type": "error",
     "traceback": [
      "\u001b[1;31m---------------------------------------------------------------------------\u001b[0m",
      "\u001b[1;31mValueError\u001b[0m                                Traceback (most recent call last)",
      "\u001b[1;32m<ipython-input-19-aeda841423d6>\u001b[0m in \u001b[0;36m<module>\u001b[1;34m()\u001b[0m\n\u001b[1;32m----> 1\u001b[1;33m \u001b[0mr\u001b[0m \u001b[1;33m=\u001b[0m \u001b[0mmonetary\u001b[0m\u001b[1;33m.\u001b[0m\u001b[0mtd\u001b[0m\u001b[1;33m(\u001b[0m\u001b[0mss\u001b[0m\u001b[1;33m,\u001b[0m \u001b[0mpi\u001b[0m\u001b[1;33m=\u001b[0m\u001b[0mpi\u001b[0m\u001b[1;33m,\u001b[0m \u001b[0mrstar\u001b[0m\u001b[1;33m=\u001b[0m\u001b[0mrstar\u001b[0m\u001b[1;33m)\u001b[0m\u001b[1;33m\u001b[0m\u001b[0m\n\u001b[0m",
      "\u001b[1;32m~\\Python\\sequence-jacobian\\simple_block.py\u001b[0m in \u001b[0;36mtd\u001b[1;34m(self, ss, **kwargs)\u001b[0m\n\u001b[0;32m    246\u001b[0m                 \u001b[0mkwargs_new\u001b[0m\u001b[1;33m[\u001b[0m\u001b[0mk\u001b[0m\u001b[1;33m]\u001b[0m \u001b[1;33m=\u001b[0m \u001b[0mIgnore\u001b[0m\u001b[1;33m(\u001b[0m\u001b[0mss\u001b[0m\u001b[1;33m[\u001b[0m\u001b[0mk\u001b[0m\u001b[1;33m]\u001b[0m\u001b[1;33m)\u001b[0m\u001b[1;33m\u001b[0m\u001b[0m\n\u001b[0;32m    247\u001b[0m \u001b[1;33m\u001b[0m\u001b[0m\n\u001b[1;32m--> 248\u001b[1;33m         \u001b[1;32mreturn\u001b[0m \u001b[0mdict\u001b[0m\u001b[1;33m(\u001b[0m\u001b[0mzip\u001b[0m\u001b[1;33m(\u001b[0m\u001b[0mself\u001b[0m\u001b[1;33m.\u001b[0m\u001b[0moutput_list\u001b[0m\u001b[1;33m,\u001b[0m \u001b[0mutils\u001b[0m\u001b[1;33m.\u001b[0m\u001b[0mmake_tuple\u001b[0m\u001b[1;33m(\u001b[0m\u001b[0mself\u001b[0m\u001b[1;33m.\u001b[0m\u001b[0mf\u001b[0m\u001b[1;33m(\u001b[0m\u001b[1;33m**\u001b[0m\u001b[0mkwargs_new\u001b[0m\u001b[1;33m)\u001b[0m\u001b[1;33m)\u001b[0m\u001b[1;33m)\u001b[0m\u001b[1;33m)\u001b[0m\u001b[1;33m\u001b[0m\u001b[0m\n\u001b[0m\u001b[0;32m    249\u001b[0m \u001b[1;33m\u001b[0m\u001b[0m\n\u001b[0;32m    250\u001b[0m     \u001b[1;32mdef\u001b[0m \u001b[0m__call__\u001b[0m\u001b[1;33m(\u001b[0m\u001b[0mself\u001b[0m\u001b[1;33m,\u001b[0m \u001b[1;33m*\u001b[0m\u001b[0margs\u001b[0m\u001b[1;33m,\u001b[0m \u001b[1;33m**\u001b[0m\u001b[0mkwargs\u001b[0m\u001b[1;33m)\u001b[0m\u001b[1;33m:\u001b[0m\u001b[1;33m\u001b[0m\u001b[0m\n",
      "\u001b[1;32m<ipython-input-6-6fe4d03570eb>\u001b[0m in \u001b[0;36mmonetary\u001b[1;34m(pi, rstar, phi)\u001b[0m\n\u001b[0;32m      7\u001b[0m \u001b[1;33m@\u001b[0m\u001b[0msimple\u001b[0m\u001b[1;33m\u001b[0m\u001b[0m\n\u001b[0;32m      8\u001b[0m \u001b[1;32mdef\u001b[0m \u001b[0mmonetary\u001b[0m\u001b[1;33m(\u001b[0m\u001b[0mpi\u001b[0m\u001b[1;33m,\u001b[0m \u001b[0mrstar\u001b[0m\u001b[1;33m,\u001b[0m \u001b[0mphi\u001b[0m\u001b[1;33m)\u001b[0m\u001b[1;33m:\u001b[0m\u001b[1;33m\u001b[0m\u001b[0m\n\u001b[1;32m----> 9\u001b[1;33m     \u001b[0mr\u001b[0m \u001b[1;33m=\u001b[0m \u001b[1;33m(\u001b[0m\u001b[1;36m1\u001b[0m \u001b[1;33m+\u001b[0m \u001b[0mrstar\u001b[0m\u001b[1;33m(\u001b[0m\u001b[1;33m-\u001b[0m\u001b[1;36m1\u001b[0m\u001b[1;33m)\u001b[0m \u001b[1;33m+\u001b[0m \u001b[0mphi\u001b[0m \u001b[1;33m*\u001b[0m \u001b[0mpi\u001b[0m\u001b[1;33m(\u001b[0m\u001b[1;33m-\u001b[0m\u001b[1;36m1\u001b[0m\u001b[1;33m)\u001b[0m\u001b[1;33m)\u001b[0m \u001b[1;33m/\u001b[0m \u001b[1;33m(\u001b[0m\u001b[1;36m1\u001b[0m \u001b[1;33m+\u001b[0m \u001b[0mpi\u001b[0m\u001b[1;33m)\u001b[0m \u001b[1;33m-\u001b[0m \u001b[1;36m1\u001b[0m\u001b[1;33m\u001b[0m\u001b[0m\n\u001b[0m\u001b[0;32m     10\u001b[0m     \u001b[1;32mreturn\u001b[0m \u001b[0mr\u001b[0m\u001b[1;33m\u001b[0m\u001b[0m\n\u001b[0;32m     11\u001b[0m \u001b[1;33m\u001b[0m\u001b[0m\n",
      "\u001b[1;31mValueError\u001b[0m: operands could not be broadcast together with shapes (300,5) (300,) "
     ]
    }
   ],
   "source": [
    "r = monetary.td(ss, pi=pi, rstar=rstar)"
   ]
  },
  {
   "cell_type": "code",
   "execution_count": null,
   "metadata": {},
   "outputs": [],
   "source": [
    "nkpc_res, asset_mkt, labor_mkt, td = td_map(ss, pi, w, Y, ss['r'] + drstar, np.full(T, ss['Z']))"
   ]
  },
  {
   "cell_type": "markdown",
   "metadata": {},
   "source": [
    "### 5.1 A typical monetary policy shock\n",
    "Note that the linearized solution ignores price adjustment costs. For a monetary policy shock of typical size and persistent, this does not really matter.   "
   ]
  },
  {
   "cell_type": "code",
   "execution_count": null,
   "metadata": {},
   "outputs": [],
   "source": [
    "rho_r, sig_r = 0.5, -0.0025\n",
    "drstar = sig_r * rho_r ** (np.arange(T))\n",
    "\n",
    "\n",
    "td_nonlin = nonlinear.td_solve(ss=ss, \n",
    "                               block_list=[firm, monetary, fiscal, nkpc, household, mkt_clearing],\n",
    "                               unknowns=unknowns, targets=targets, H_U=H_X, monotonic=True, rstar=ss['rstar'] + drstar)"
   ]
  },
  {
   "cell_type": "code",
   "execution_count": null,
   "metadata": {},
   "outputs": [],
   "source": [
    "dr_nonlin = td_nonlin['r'] - ss['r']\n",
    "dr_lin = G['r'] @ drstar\n",
    "\n",
    "plt.plot(dr_lin[:21], label='linear', linestyle='-')\n",
    "plt.plot(td_nonlin['C'][:21]-ss['C'], label='nonlinear', linestyle='--')\n",
    "plt.legend()\n",
    "plt.show()"
   ]
  },
  {
   "cell_type": "markdown",
   "metadata": {},
   "source": [
    "### 5.2 A large monetary policy shock\n",
    "However, the nonlinearities may become substantial for large or persistent monetary policy shocks. Reassuringly, the Jacobian still works well as an updating rule. The quasi-Newton method still converges in just 7 iterations."
   ]
  },
  {
   "cell_type": "code",
   "execution_count": null,
   "metadata": {},
   "outputs": [],
   "source": [
    "rho_r, sig_r = 0.9, -0.005\n",
    "drstar = sig_r * rho_r ** (np.arange(T))\n",
    "\n",
    "td_lin = hank.td_linear(G, {'rstar': drstar})\n",
    "td_nonlin = hank.td_nonlinear(ss, J, ss['r'] + drstar, np.full(T, ss['Z']))\n",
    "\n",
    "plt.plot(td_lin['C'][:21], label='linear', linestyle='-')\n",
    "plt.plot(td_nonlin['C'][:21]-ss['C'], label='nonlinear', linestyle='--')\n",
    "plt.legend()\n",
    "plt.show()"
   ]
  },
  {
   "cell_type": "markdown",
   "metadata": {},
   "source": [
    "<a id=\"6-determinacy\"></a>\n",
    "\n",
    "## 6. Local determinacy\n",
    "Local determinacy boils down to the invertibility of the matrix $H_X.$ The steady state is a locally-stable equilibrium if and only if $H_X$ is invertible. In practice, $H_X$ is obtained numerically for a finite horizon, and thus we can never expect it to be exactly singular. Still, near-singularity of $H_X$ that gets worse with increasing the horizon $T$ is a clear indication of indeterminacy. \n",
    "\n",
    "As it is well-known, determinacy in the New Keynesian models requires that the interest rate rule is sufficiently responsive to inflation. Therefore, we're going to illustrate the issue by varying the parameter $\\phi$ and trace its effect on $H_X.$\n",
    "\n",
    "### 6.1 Stable case\n",
    "Let's start with the the baseline calibration with $\\phi=1.5$."
   ]
  },
  {
   "cell_type": "code",
   "execution_count": null,
   "metadata": {},
   "outputs": [],
   "source": [
    "# condition number\n",
    "cond = np.linalg.cond(H_X)\n",
    "print(f'Condition number: {cond:.2f}')\n",
    "\n",
    "# smallest singular value\n",
    "_, s, _ = np.linalg.svd(H_X)\n",
    "print(f'Smallest singular value: {s[-1]:.2f}')"
   ]
  },
  {
   "cell_type": "markdown",
   "metadata": {},
   "source": [
    "### 6.2 Unstable case\n",
    "Let's see what happens with $\\phi=0.75$. First of all, we'll have to recompute the Jacobian. It's important to realize that $\\phi$ does not affect the steady state, and affects dynamics only through the monetary block. Thus, recomputing the Jacobians of any other block, especially the heterogeneous household block, would be wasteful."
   ]
  },
  {
   "cell_type": "code",
   "execution_count": null,
   "metadata": {},
   "outputs": [],
   "source": [
    "import copy\n",
    "ss2 = copy.deepcopy(ss)\n",
    "ss2['phi'] = 0.75 \n",
    "\n",
    "# jacobians for monetary block are changing\n",
    "J2_monetary = sim.jac(monetary, ss2, T, ['pi', 'rstar'])"
   ]
  },
  {
   "cell_type": "code",
   "execution_count": null,
   "metadata": {},
   "outputs": [],
   "source": [
    "J2 = jac.chain_jacobians(jacdicts=[J_firm, J2_monetary, J_fiscal, J_ha, J_mkt, J_nkpc],\n",
    "                         inputs=unknowns+exogenous, T=T)\n",
    "\n",
    "# assemble large Jacobian\n",
    "H2_X = jac.pack_jacobians(J2, unknowns, targets, T)"
   ]
  },
  {
   "cell_type": "markdown",
   "metadata": {},
   "source": [
    "This time the condition number and smallest singular value both clearly indicate indeterminacy."
   ]
  },
  {
   "cell_type": "code",
   "execution_count": null,
   "metadata": {},
   "outputs": [],
   "source": [
    "# condition number\n",
    "cond2 = np.linalg.cond(H2_X)\n",
    "print(f'Condition number: {cond2:.2f}')\n",
    "\n",
    "# smallest singular value\n",
    "_, s2, _ = np.linalg.svd(H2_X)\n",
    "print(f'Smallest singular value: {s2[-1]:.6f}')"
   ]
  },
  {
   "cell_type": "markdown",
   "metadata": {},
   "source": [
    "Not surprisingly, if we tried to use this Jacobian to compute impulse responses, we'd fail. (We'll wrap in a try/except block to avoid a giant error message.)"
   ]
  },
  {
   "cell_type": "code",
   "execution_count": null,
   "metadata": {
    "scrolled": true
   },
   "outputs": [],
   "source": [
    "try:\n",
    "    td_nonlin = hank.td_nonlinear(ss2, J2, ss2['r'] + drstar, np.full(T, ss2['Z']), maxit=5)\n",
    "except ValueError as e:\n",
    "    print(e)"
   ]
  },
  {
   "cell_type": "markdown",
   "metadata": {},
   "source": [
    "In fact, it fails after the first iteration: since the Jacobian is nearly singular, using its inverse in Newton's method leads to a very large step to the next guess, which then is outside the admissible domain and leads to an error within the household routine."
   ]
  }
 ],
 "metadata": {
  "kernelspec": {
   "display_name": "Python 3",
   "language": "python",
   "name": "python3"
  },
  "language_info": {
   "codemirror_mode": {
    "name": "ipython",
    "version": 3
   },
   "file_extension": ".py",
   "mimetype": "text/x-python",
   "name": "python",
   "nbconvert_exporter": "python",
   "pygments_lexer": "ipython3",
   "version": "3.6.5"
  }
 },
 "nbformat": 4,
 "nbformat_minor": 2
}
